{
 "cells": [
  {
   "cell_type": "code",
   "execution_count": 2,
   "metadata": {},
   "outputs": [
    {
     "name": "stdout",
     "output_type": "stream",
     "text": [
      "Requirement already satisfied: langchain in c:\\users\\akhil\\appdata\\local\\programs\\python\\python311\\lib\\site-packages (0.3.7)\n",
      "Requirement already satisfied: langchain-experimental in c:\\users\\akhil\\appdata\\local\\programs\\python\\python311\\lib\\site-packages (0.3.3)\n",
      "Requirement already satisfied: openai in c:\\users\\akhil\\appdata\\local\\programs\\python\\python311\\lib\\site-packages (1.54.0)\n",
      "Requirement already satisfied: pymysql in c:\\users\\akhil\\appdata\\local\\programs\\python\\python311\\lib\\site-packages (1.1.1)\n",
      "Requirement already satisfied: PyYAML>=5.3 in c:\\users\\akhil\\appdata\\local\\programs\\python\\python311\\lib\\site-packages (from langchain) (6.0.2)\n",
      "Requirement already satisfied: SQLAlchemy<3,>=1.4 in c:\\users\\akhil\\appdata\\local\\programs\\python\\python311\\lib\\site-packages (from langchain) (2.0.35)\n",
      "Requirement already satisfied: aiohttp<4.0.0,>=3.8.3 in c:\\users\\akhil\\appdata\\local\\programs\\python\\python311\\lib\\site-packages (from langchain) (3.10.10)\n",
      "Requirement already satisfied: langchain-core<0.4.0,>=0.3.15 in c:\\users\\akhil\\appdata\\local\\programs\\python\\python311\\lib\\site-packages (from langchain) (0.3.17)\n",
      "Requirement already satisfied: langchain-text-splitters<0.4.0,>=0.3.0 in c:\\users\\akhil\\appdata\\local\\programs\\python\\python311\\lib\\site-packages (from langchain) (0.3.2)\n",
      "Requirement already satisfied: langsmith<0.2.0,>=0.1.17 in c:\\users\\akhil\\appdata\\local\\programs\\python\\python311\\lib\\site-packages (from langchain) (0.1.143)\n",
      "Requirement already satisfied: numpy<2,>=1 in c:\\users\\akhil\\appdata\\local\\programs\\python\\python311\\lib\\site-packages (from langchain) (1.26.4)\n",
      "Requirement already satisfied: pydantic<3.0.0,>=2.7.4 in c:\\users\\akhil\\appdata\\local\\programs\\python\\python311\\lib\\site-packages (from langchain) (2.9.2)\n",
      "Requirement already satisfied: requests<3,>=2 in c:\\users\\akhil\\appdata\\local\\programs\\python\\python311\\lib\\site-packages (from langchain) (2.32.3)\n",
      "Requirement already satisfied: tenacity!=8.4.0,<10,>=8.1.0 in c:\\users\\akhil\\appdata\\local\\programs\\python\\python311\\lib\\site-packages (from langchain) (8.5.0)\n",
      "Requirement already satisfied: langchain-community<0.4.0,>=0.3.0 in c:\\users\\akhil\\appdata\\local\\programs\\python\\python311\\lib\\site-packages (from langchain-experimental) (0.3.7)\n",
      "Requirement already satisfied: anyio<5,>=3.5.0 in c:\\users\\akhil\\appdata\\local\\programs\\python\\python311\\lib\\site-packages (from openai) (4.6.2.post1)\n",
      "Requirement already satisfied: distro<2,>=1.7.0 in c:\\users\\akhil\\appdata\\local\\programs\\python\\python311\\lib\\site-packages (from openai) (1.9.0)\n",
      "Requirement already satisfied: httpx<1,>=0.23.0 in c:\\users\\akhil\\appdata\\local\\programs\\python\\python311\\lib\\site-packages (from openai) (0.27.2)\n",
      "Requirement already satisfied: jiter<1,>=0.4.0 in c:\\users\\akhil\\appdata\\local\\programs\\python\\python311\\lib\\site-packages (from openai) (0.7.0)\n",
      "Requirement already satisfied: sniffio in c:\\users\\akhil\\appdata\\local\\programs\\python\\python311\\lib\\site-packages (from openai) (1.3.1)\n",
      "Requirement already satisfied: tqdm>4 in c:\\users\\akhil\\appdata\\local\\programs\\python\\python311\\lib\\site-packages (from openai) (4.67.0)\n",
      "Requirement already satisfied: typing-extensions<5,>=4.11 in c:\\users\\akhil\\appdata\\roaming\\python\\python311\\site-packages (from openai) (4.12.2)\n",
      "Requirement already satisfied: aiohappyeyeballs>=2.3.0 in c:\\users\\akhil\\appdata\\local\\programs\\python\\python311\\lib\\site-packages (from aiohttp<4.0.0,>=3.8.3->langchain) (2.4.3)\n",
      "Requirement already satisfied: aiosignal>=1.1.2 in c:\\users\\akhil\\appdata\\local\\programs\\python\\python311\\lib\\site-packages (from aiohttp<4.0.0,>=3.8.3->langchain) (1.3.1)\n",
      "Requirement already satisfied: attrs>=17.3.0 in c:\\users\\akhil\\appdata\\local\\programs\\python\\python311\\lib\\site-packages (from aiohttp<4.0.0,>=3.8.3->langchain) (24.2.0)\n",
      "Requirement already satisfied: frozenlist>=1.1.1 in c:\\users\\akhil\\appdata\\local\\programs\\python\\python311\\lib\\site-packages (from aiohttp<4.0.0,>=3.8.3->langchain) (1.5.0)\n",
      "Requirement already satisfied: multidict<7.0,>=4.5 in c:\\users\\akhil\\appdata\\local\\programs\\python\\python311\\lib\\site-packages (from aiohttp<4.0.0,>=3.8.3->langchain) (6.1.0)\n",
      "Requirement already satisfied: yarl<2.0,>=1.12.0 in c:\\users\\akhil\\appdata\\local\\programs\\python\\python311\\lib\\site-packages (from aiohttp<4.0.0,>=3.8.3->langchain) (1.17.1)\n",
      "Requirement already satisfied: idna>=2.8 in c:\\users\\akhil\\appdata\\local\\programs\\python\\python311\\lib\\site-packages (from anyio<5,>=3.5.0->openai) (3.10)\n",
      "Requirement already satisfied: certifi in c:\\users\\akhil\\appdata\\local\\programs\\python\\python311\\lib\\site-packages (from httpx<1,>=0.23.0->openai) (2024.8.30)\n",
      "Requirement already satisfied: httpcore==1.* in c:\\users\\akhil\\appdata\\local\\programs\\python\\python311\\lib\\site-packages (from httpx<1,>=0.23.0->openai) (1.0.6)\n",
      "Requirement already satisfied: h11<0.15,>=0.13 in c:\\users\\akhil\\appdata\\local\\programs\\python\\python311\\lib\\site-packages (from httpcore==1.*->httpx<1,>=0.23.0->openai) (0.14.0)\n",
      "Requirement already satisfied: dataclasses-json<0.7,>=0.5.7 in c:\\users\\akhil\\appdata\\local\\programs\\python\\python311\\lib\\site-packages (from langchain-community<0.4.0,>=0.3.0->langchain-experimental) (0.6.7)\n",
      "Requirement already satisfied: httpx-sse<0.5.0,>=0.4.0 in c:\\users\\akhil\\appdata\\local\\programs\\python\\python311\\lib\\site-packages (from langchain-community<0.4.0,>=0.3.0->langchain-experimental) (0.4.0)\n",
      "Requirement already satisfied: pydantic-settings<3.0.0,>=2.4.0 in c:\\users\\akhil\\appdata\\local\\programs\\python\\python311\\lib\\site-packages (from langchain-community<0.4.0,>=0.3.0->langchain-experimental) (2.6.1)\n",
      "Requirement already satisfied: jsonpatch<2.0,>=1.33 in c:\\users\\akhil\\appdata\\local\\programs\\python\\python311\\lib\\site-packages (from langchain-core<0.4.0,>=0.3.15->langchain) (1.33)\n",
      "Requirement already satisfied: packaging<25,>=23.2 in c:\\users\\akhil\\appdata\\roaming\\python\\python311\\site-packages (from langchain-core<0.4.0,>=0.3.15->langchain) (24.2)\n",
      "Requirement already satisfied: orjson<4.0.0,>=3.9.14 in c:\\users\\akhil\\appdata\\local\\programs\\python\\python311\\lib\\site-packages (from langsmith<0.2.0,>=0.1.17->langchain) (3.10.11)\n",
      "Requirement already satisfied: requests-toolbelt<2.0.0,>=1.0.0 in c:\\users\\akhil\\appdata\\local\\programs\\python\\python311\\lib\\site-packages (from langsmith<0.2.0,>=0.1.17->langchain) (1.0.0)\n",
      "Requirement already satisfied: annotated-types>=0.6.0 in c:\\users\\akhil\\appdata\\local\\programs\\python\\python311\\lib\\site-packages (from pydantic<3.0.0,>=2.7.4->langchain) (0.7.0)\n",
      "Requirement already satisfied: pydantic-core==2.23.4 in c:\\users\\akhil\\appdata\\local\\programs\\python\\python311\\lib\\site-packages (from pydantic<3.0.0,>=2.7.4->langchain) (2.23.4)\n",
      "Requirement already satisfied: charset-normalizer<4,>=2 in c:\\users\\akhil\\appdata\\local\\programs\\python\\python311\\lib\\site-packages (from requests<3,>=2->langchain) (3.4.0)\n",
      "Requirement already satisfied: urllib3<3,>=1.21.1 in c:\\users\\akhil\\appdata\\local\\programs\\python\\python311\\lib\\site-packages (from requests<3,>=2->langchain) (2.2.3)\n",
      "Requirement already satisfied: greenlet!=0.4.17 in c:\\users\\akhil\\appdata\\local\\programs\\python\\python311\\lib\\site-packages (from SQLAlchemy<3,>=1.4->langchain) (3.1.1)\n",
      "Requirement already satisfied: colorama in c:\\users\\akhil\\appdata\\roaming\\python\\python311\\site-packages (from tqdm>4->openai) (0.4.6)\n",
      "Requirement already satisfied: marshmallow<4.0.0,>=3.18.0 in c:\\users\\akhil\\appdata\\local\\programs\\python\\python311\\lib\\site-packages (from dataclasses-json<0.7,>=0.5.7->langchain-community<0.4.0,>=0.3.0->langchain-experimental) (3.23.1)\n",
      "Requirement already satisfied: typing-inspect<1,>=0.4.0 in c:\\users\\akhil\\appdata\\local\\programs\\python\\python311\\lib\\site-packages (from dataclasses-json<0.7,>=0.5.7->langchain-community<0.4.0,>=0.3.0->langchain-experimental) (0.9.0)\n",
      "Requirement already satisfied: jsonpointer>=1.9 in c:\\users\\akhil\\appdata\\local\\programs\\python\\python311\\lib\\site-packages (from jsonpatch<2.0,>=1.33->langchain-core<0.4.0,>=0.3.15->langchain) (3.0.0)\n",
      "Requirement already satisfied: python-dotenv>=0.21.0 in c:\\users\\akhil\\appdata\\local\\programs\\python\\python311\\lib\\site-packages (from pydantic-settings<3.0.0,>=2.4.0->langchain-community<0.4.0,>=0.3.0->langchain-experimental) (1.0.1)\n",
      "Requirement already satisfied: propcache>=0.2.0 in c:\\users\\akhil\\appdata\\local\\programs\\python\\python311\\lib\\site-packages (from yarl<2.0,>=1.12.0->aiohttp<4.0.0,>=3.8.3->langchain) (0.2.0)\n",
      "Requirement already satisfied: mypy-extensions>=0.3.0 in c:\\users\\akhil\\appdata\\local\\programs\\python\\python311\\lib\\site-packages (from typing-inspect<1,>=0.4.0->dataclasses-json<0.7,>=0.5.7->langchain-community<0.4.0,>=0.3.0->langchain-experimental) (1.0.0)\n"
     ]
    }
   ],
   "source": [
    "!pip install langchain langchain-experimental openai pymysql"
   ]
  },
  {
   "cell_type": "markdown",
   "metadata": {},
   "source": [
    "# Importing Necessary Packages"
   ]
  },
  {
   "cell_type": "code",
   "execution_count": 3,
   "metadata": {},
   "outputs": [],
   "source": [
    "from langchain.utilities import SQLDatabase\n",
    "from langchain.llms import OpenAI\n",
    "from langchain_experimental.sql import SQLDatabaseChain\n",
    "from langchain.prompts import PromptTemplate\n",
    "from langchain.prompts.chat import HumanMessagePromptTemplate\n",
    "from langchain.chat_models import ChatOpenAI\n",
    "from langchain.schema import HumanMessage, SystemMessage"
   ]
  },
  {
   "cell_type": "code",
   "execution_count": 4,
   "metadata": {},
   "outputs": [
    {
     "name": "stderr",
     "output_type": "stream",
     "text": [
      "C:\\Users\\akhil\\AppData\\Local\\Temp\\ipykernel_12536\\1703113971.py:2: LangChainDeprecationWarning: The class `ChatOpenAI` was deprecated in LangChain 0.0.10 and will be removed in 1.0. An updated version of the class exists in the :class:`~langchain-openai package and should be used instead. To use it run `pip install -U :class:`~langchain-openai` and import as `from :class:`~langchain_openai import ChatOpenAI``.\n",
      "  llm = ChatOpenAI(temperature=0, openai_api_key=OPENAI_API_KEY)\n"
     ]
    }
   ],
   "source": [
    "OPENAI_API_KEY = \"Your API Key\"\n",
    "llm = ChatOpenAI(temperature=0, openai_api_key=OPENAI_API_KEY)"
   ]
  },
  {
   "cell_type": "markdown",
   "metadata": {},
   "source": [
    "# Database Setup"
   ]
  },
  {
   "cell_type": "code",
   "execution_count": 15,
   "metadata": {},
   "outputs": [],
   "source": [
    "host = 'localhost'\n",
    "port = '3306'\n",
    "username = 'root'\n",
    "# password = rekubannu\n",
    "database_schema = 'mydb'\n",
    "mysql_uri = f\"mysql+pymysql://{username}@{host}:{port}/{database_schema}\"\n",
    "# mysql_uri = f\"mysql+pymysql://{username:rekubannu}@{host}:{port}/{database_schema}\"\n",
    "db = SQLDatabase.from_uri(mysql_uri, include_tables=['training_data'],sample_rows_in_table_info=2)\n",
    "db_chain = SQLDatabaseChain.from_llm(llm, db, verbose=True)"
   ]
  },
  {
   "cell_type": "code",
   "execution_count": 16,
   "metadata": {},
   "outputs": [],
   "source": [
    "def retrieve_from_db(query: str) -> str:\n",
    "    db_context = db_chain(query)\n",
    "    db_context = db_context['result'].strip()\n",
    "    return db_context"
   ]
  },
  {
   "cell_type": "code",
   "execution_count": 17,
   "metadata": {},
   "outputs": [],
   "source": [
    "def generate(query: str) -> str:\n",
    "    db_context = retrieve_from_db(query)\n",
    "    \n",
    "    system_message = \"\"\"you are a finance, data analysis, and risk management.\n",
    "        your task is to answer users' questions by providing relevant information from a database of training data.\n",
    "        Tha database contaims the following information for each id:\n",
    "        -Id\n",
    "        -Income\n",
    "        -Age\n",
    "        -Experience\n",
    "        -Married\n",
    "        -House_Ownership\n",
    "        -Car_Ownership\n",
    "        -Profession\n",
    "        -CITY\n",
    "        -STATE\n",
    "        -CURRENT_JOB_YRS\n",
    "        -CYRRENT_HOUSE_YRS\n",
    "        -Risk_Flag\n",
    "\n",
    "        Example:\n",
    "\n",
    "        Input:\n",
    "        who has the most experience in their field?\n",
    "\n",
    "        context:\n",
    "        The most experience individual is following details:\n",
    "        Income: ₹1,797,876\n",
    "        Age: 76\n",
    "        Experience: 20 years\n",
    "        Marital Status: Single\n",
    "        House Ownership: No rent, no own\n",
    "        Car Ownership: No\n",
    "        Profession: Mechanical Engineer\n",
    "        City: Erode\n",
    "        State: Tamil Nadu\n",
    "        Current Job Years: 11\n",
    "        Current House Years: 14\n",
    "        Risk Flag: 0 (Low Risk)\n",
    "\n",
    "        Output:\n",
    "        The most experienced individual is Mechanical Engineer from TamilNadu\n",
    "        \"\"\"\n",
    "    \n",
    "    human_qry_template = HumanMessagePromptTemplate.from_template(\n",
    "        \"\"\"Input:\n",
    "        {human_input}\n",
    "        \n",
    "        Context:\n",
    "        {db_context}\n",
    "        \n",
    "        Output:\n",
    "        \"\"\"\n",
    "    )\n",
    "    messages = [\n",
    "      SystemMessage(content=system_message),\n",
    "      human_qry_template.format(human_input=query, db_context=db_context)\n",
    "    ]\n",
    "    response = llm(messages).content\n",
    "    return response"
   ]
  },
  {
   "cell_type": "markdown",
   "metadata": {},
   "source": [
    "# Ask the queries"
   ]
  },
  {
   "cell_type": "code",
   "execution_count": 18,
   "metadata": {},
   "outputs": [
    {
     "name": "stderr",
     "output_type": "stream",
     "text": [
      "C:\\Users\\akhil\\AppData\\Local\\Temp\\ipykernel_12536\\3606437300.py:2: LangChainDeprecationWarning: The method `Chain.__call__` was deprecated in langchain 0.1.0 and will be removed in 1.0. Use :meth:`~invoke` instead.\n",
      "  db_context = db_chain(query)\n"
     ]
    },
    {
     "name": "stdout",
     "output_type": "stream",
     "text": [
      "\n",
      "\n",
      "\u001b[1m> Entering new SQLDatabaseChain chain...\u001b[0m\n",
      "who has the most experince in the given data?\n",
      "SQLQuery:\u001b[32;1m\u001b[1;3mSELECT `Profession`, `Experience`\n",
      "FROM training_data\n",
      "ORDER BY `Experience` DESC\n",
      "LIMIT 1;\u001b[0m\n",
      "SQLResult: \u001b[33;1m\u001b[1;3m[('Mechanical_engineer', 20)]\u001b[0m\n",
      "Answer:\u001b[32;1m\u001b[1;3mThe person with the most experience in the given data is a Mechanical Engineer with 20 years of experience.\u001b[0m\n",
      "\u001b[1m> Finished chain.\u001b[0m\n"
     ]
    },
    {
     "name": "stderr",
     "output_type": "stream",
     "text": [
      "C:\\Users\\akhil\\AppData\\Local\\Temp\\ipykernel_12536\\3082036862.py:59: LangChainDeprecationWarning: The method `BaseChatModel.__call__` was deprecated in langchain-core 0.1.7 and will be removed in 1.0. Use :meth:`~invoke` instead.\n",
      "  response = llm(messages).content\n"
     ]
    },
    {
     "data": {
      "text/plain": [
       "'The most experienced individual in the given data is a Mechanical Engineer with 20 years of experience.'"
      ]
     },
     "execution_count": 18,
     "metadata": {},
     "output_type": "execute_result"
    }
   ],
   "source": [
    "generate(\"who has the most experince in the given data?\")"
   ]
  },
  {
   "cell_type": "code",
   "execution_count": null,
   "metadata": {},
   "outputs": [
    {
     "name": "stdout",
     "output_type": "stream",
     "text": [
      "\n",
      "\n",
      "\u001b[1m> Entering new SQLDatabaseChain chain...\u001b[0m\n",
      "who has the  least expereince ?\n",
      "SQLQuery:\u001b[32;1m\u001b[1;3mSELECT `Profession`, `Experience` \n",
      "FROM training_data \n",
      "ORDER BY `Experience` ASC \n",
      "LIMIT 1;\u001b[0m\n",
      "SQLResult: \u001b[33;1m\u001b[1;3m[('Civil_servant', 0)]\u001b[0m\n",
      "Answer:\u001b[32;1m\u001b[1;3mThe person with the least experience is a Civil Servant with 0 years of experience.\u001b[0m\n",
      "\u001b[1m> Finished chain.\u001b[0m\n"
     ]
    },
    {
     "data": {
      "text/plain": [
       "'The person with the least experience is a Civil Servant.'"
      ]
     },
     "execution_count": 20,
     "metadata": {},
     "output_type": "execute_result"
    }
   ],
   "source": [
    "generate(\"who has the least expereince ?\")"
   ]
  },
  {
   "cell_type": "code",
   "execution_count": 26,
   "metadata": {},
   "outputs": [
    {
     "name": "stdout",
     "output_type": "stream",
     "text": [
      "\n",
      "\n",
      "\u001b[1m> Entering new SQLDatabaseChain chain...\u001b[0m\n",
      "who is having the highest income?\n",
      "SQLQuery:\u001b[32;1m\u001b[1;3mSELECT `Profession`, `Income` \n",
      "FROM training_data \n",
      "ORDER BY `Income` DESC \n",
      "LIMIT 1;\u001b[0m\n",
      "SQLResult: \u001b[33;1m\u001b[1;3m[('Drafter', 9999180)]\u001b[0m\n",
      "Answer:\u001b[32;1m\u001b[1;3mThe person with the highest income is a Drafter with an income of 9999180.\u001b[0m\n",
      "\u001b[1m> Finished chain.\u001b[0m\n"
     ]
    },
    {
     "data": {
      "text/plain": [
       "'The person with the highest income is a Drafter.'"
      ]
     },
     "execution_count": 26,
     "metadata": {},
     "output_type": "execute_result"
    }
   ],
   "source": [
    "generate(\"who is having the highest income?\")"
   ]
  },
  {
   "cell_type": "code",
   "execution_count": 33,
   "metadata": {},
   "outputs": [
    {
     "name": "stdout",
     "output_type": "stream",
     "text": [
      "\n",
      "\n",
      "\u001b[1m> Entering new SQLDatabaseChain chain...\u001b[0m\n",
      "how many poeple have the rented house in the given dataset ?\n",
      "SQLQuery:\u001b[32;1m\u001b[1;3mSELECT COUNT(*) AS Num_Rented_House\n",
      "FROM training_data\n",
      "WHERE House_Ownership = 'rented';\u001b[0m\n",
      "SQLResult: \u001b[33;1m\u001b[1;3m[(2299,)]\u001b[0m\n",
      "Answer:\u001b[32;1m\u001b[1;3mThere are 2299 people who have a rented house in the given dataset.\u001b[0m\n",
      "\u001b[1m> Finished chain.\u001b[0m\n"
     ]
    },
    {
     "data": {
      "text/plain": [
       "'There are 2299 people who have a rented house in the given dataset.'"
      ]
     },
     "execution_count": 33,
     "metadata": {},
     "output_type": "execute_result"
    }
   ],
   "source": [
    "generate(\"how many poeple have the rented house in the given dataset ?\")"
   ]
  },
  {
   "cell_type": "code",
   "execution_count": 34,
   "metadata": {},
   "outputs": [
    {
     "name": "stdout",
     "output_type": "stream",
     "text": [
      "\n",
      "\n",
      "\u001b[1m> Entering new SQLDatabaseChain chain...\u001b[0m\n",
      "how many poeple have the own house in the given dataset ?\n",
      "SQLQuery:\u001b[32;1m\u001b[1;3mSELECT COUNT(*) AS Num_People_Own_House\n",
      "FROM training_data\n",
      "WHERE House_Ownership = 'owned';\u001b[0m\n",
      "SQLResult: \u001b[33;1m\u001b[1;3m[(129,)]\u001b[0m\n",
      "Answer:\u001b[32;1m\u001b[1;3mThere are 129 people who own a house in the given dataset.\u001b[0m\n",
      "\u001b[1m> Finished chain.\u001b[0m\n"
     ]
    },
    {
     "data": {
      "text/plain": [
       "'There are 129 people who own a house in the given dataset.'"
      ]
     },
     "execution_count": 34,
     "metadata": {},
     "output_type": "execute_result"
    }
   ],
   "source": [
    "generate(\"how many poeple have the own house in the given dataset ?\")"
   ]
  },
  {
   "cell_type": "code",
   "execution_count": 36,
   "metadata": {},
   "outputs": [
    {
     "name": "stdout",
     "output_type": "stream",
     "text": [
      "\n",
      "\n",
      "\u001b[1m> Entering new SQLDatabaseChain chain...\u001b[0m\n",
      "how many poeple have the 10 years experinece in the given dataset and provide me eaach one details  ?\n",
      "SQLQuery:\u001b[32;1m\u001b[1;3mSELECT `Id`, `Income`, `Age`, `Experience`, `Married`, `House_Ownership`, `Car_Ownership`, `Profession`, `CITY`, `STATE`, `CURRENT_JOB_YRS`, `CURRENT_HOUSE_YRS`, `Risk_Flag`\n",
      "FROM training_data\n",
      "WHERE `Experience` = 10\n",
      "LIMIT 5;\u001b[0m\n",
      "SQLResult: \u001b[33;1m\u001b[1;3m[(2, 7574516, 40, 10, 'single', 'rented', 'no', 'Software_Developer', 'Parbhani', 'Maharashtra', 9, 13, 0), (33, 4128828, 21, 10, 'single', 'rented', 'no', 'Computer_hardware_engineer', 'Khammam', 'Telangana', 10, 12, 0), (34, 5023035, 26, 10, 'single', 'rented', 'yes', 'Petroleum_Engineer', 'Madurai', 'Tamil_Nadu', 9, 13, 0), (48, 8477026, 52, 10, 'single', 'rented', 'no', 'Design_Engineer', 'Bijapur', 'Karnataka', 10, 10, 0), (73, 2408148, 59, 10, 'single', 'rented', 'no', 'Architect', 'Solapur', 'Maharashtra', 7, 11, 0)]\u001b[0m\n",
      "Answer:\u001b[32;1m\u001b[1;3mThere are 5 people with 10 years of experience in the dataset. Their details are as follows:\n",
      "1. Id: 2, Income: 7574516, Age: 40, Married: single, House_Ownership: rented, Car_Ownership: no, Profession: Software_Developer, City: Parbhani, State: Maharashtra, Current Job Years: 9, Current House Years: 13, Risk Flag: 0\n",
      "2. Id: 33, Income: 4128828, Age: 21, Married: single, House_Ownership: rented, Car_Ownership: no, Profession: Computer_hardware_engineer, City: Khammam, State: Telangana, Current Job Years: 10, Current House Years: 12, Risk Flag: 0\n",
      "3. Id: 34, Income: 5023035, Age: 26, Married: single, House_Ownership: rented, Car_Ownership: yes, Profession: Petroleum_Engineer, City: Madurai, State: Tamil_Nadu, Current Job Years: 9, Current House Years: 13, Risk Flag: 0\n",
      "4. Id: 48, Income: 8477026, Age: 52, Married: single, House_Ownership: rented, Car_Ownership: no, Profession: Design_Engineer, City: Bijapur, State: Karnataka, Current Job Years: 10, Current House Years: 10, Risk Flag: 0\n",
      "5. Id: 73, Income: 2408148, Age: 59, Married: single, House_Ownership: rented, Car_Ownership: no, Profession: Architect, City: Solapur, State: Maharashtra, Current Job Years: 7, Current House Years: 11, Risk Flag: 0\u001b[0m\n",
      "\u001b[1m> Finished chain.\u001b[0m\n"
     ]
    },
    {
     "data": {
      "text/plain": [
       "'There are 5 people with 10 years of experience in the dataset. Their details are as follows:\\n\\n1. Id: 2\\n   Income: ₹7,574,516\\n   Age: 40\\n   Married: Single\\n   House Ownership: Rented\\n   Car Ownership: No\\n   Profession: Software Developer\\n   City: Parbhani\\n   State: Maharashtra\\n   Current Job Years: 9\\n   Current House Years: 13\\n   Risk Flag: 0 (Low Risk)\\n\\n2. Id: 33\\n   Income: ₹4,128,828\\n   Age: 21\\n   Married: Single\\n   House Ownership: Rented\\n   Car Ownership: No\\n   Profession: Computer Hardware Engineer\\n   City: Khammam\\n   State: Telangana\\n   Current Job Years: 10\\n   Current House Years: 12\\n   Risk Flag: 0 (Low Risk)\\n\\n3. Id: 34\\n   Income: ₹5,023,035\\n   Age: 26\\n   Married: Single\\n   House Ownership: Rented\\n   Car Ownership: Yes\\n   Profession: Petroleum Engineer\\n   City: Madurai\\n   State: Tamil Nadu\\n   Current Job Years: 9\\n   Current House Years: 13\\n   Risk Flag: 0 (Low Risk)\\n\\n4. Id: 48\\n   Income: ₹8,477,026\\n   Age: 52\\n   Married: Single\\n   House Ownership: Rented\\n   Car Ownership: No\\n   Profession: Design Engineer\\n   City: Bijapur\\n   State: Karnataka\\n   Current Job Years: 10\\n   Current House Years: 10\\n   Risk Flag: 0 (Low Risk)\\n\\n5. Id: 73\\n   Income: ₹2,408,148\\n   Age: 59\\n   Married: Single\\n   House Ownership: Rented\\n   Car Ownership: No\\n   Profession: Architect\\n   City: Solapur\\n   State: Maharashtra\\n   Current Job Years: 7\\n   Current House Years: 11\\n   Risk Flag: 0 (Low Risk)'"
      ]
     },
     "execution_count": 36,
     "metadata": {},
     "output_type": "execute_result"
    }
   ],
   "source": [
    "generate(\"how many poeple have the 10 years experinece in the given dataset and provide me eaach one details  ?\")"
   ]
  },
  {
   "cell_type": "code",
   "execution_count": 37,
   "metadata": {},
   "outputs": [
    {
     "name": "stdout",
     "output_type": "stream",
     "text": [
      "\n",
      "\n",
      "\u001b[1m> Entering new SQLDatabaseChain chain...\u001b[0m\n",
      "how many poeple have the risk flag in the given dataset ?\n",
      "SQLQuery:\u001b[32;1m\u001b[1;3mSELECT COUNT(`Id`) AS Total_People_With_Risk_Flag\n",
      "FROM training_data\n",
      "WHERE `Risk_Flag` = 1;\u001b[0m\n",
      "SQLResult: \u001b[33;1m\u001b[1;3m[(441,)]\u001b[0m\n",
      "Answer:\u001b[32;1m\u001b[1;3mThere are 441 people with the risk flag in the given dataset.\u001b[0m\n",
      "\u001b[1m> Finished chain.\u001b[0m\n"
     ]
    },
    {
     "data": {
      "text/plain": [
       "'There are 441 people with the risk flag in the given dataset.'"
      ]
     },
     "execution_count": 37,
     "metadata": {},
     "output_type": "execute_result"
    }
   ],
   "source": [
    "generate(\"how many poeple have the risk flag in the given dataset ?\")"
   ]
  }
 ],
 "metadata": {
  "kernelspec": {
   "display_name": "Python 3",
   "language": "python",
   "name": "python3"
  },
  "language_info": {
   "codemirror_mode": {
    "name": "ipython",
    "version": 3
   },
   "file_extension": ".py",
   "mimetype": "text/x-python",
   "name": "python",
   "nbconvert_exporter": "python",
   "pygments_lexer": "ipython3",
   "version": "3.11.5"
  }
 },
 "nbformat": 4,
 "nbformat_minor": 2
}
