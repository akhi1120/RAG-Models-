{
 "cells": [
  {
   "cell_type": "markdown",
   "metadata": {},
   "source": [
    "# IT will take the column names and values from the question\n",
    "# it will take use of OPEN AI models to prepare the query\n",
    "# it will ask the database with the prepared query\n",
    "# the response will also be converted back to the Description"
   ]
  },
  {
   "cell_type": "markdown",
   "metadata": {},
   "source": [
    "# Installing dependencies"
   ]
  },
  {
   "cell_type": "code",
   "execution_count": 1,
   "metadata": {},
   "outputs": [
    {
     "name": "stdout",
     "output_type": "stream",
     "text": [
      "Requirement already satisfied: langchain in c:\\users\\akhil\\appdata\\local\\programs\\python\\python311\\lib\\site-packages (0.3.7)\n",
      "Requirement already satisfied: langchain-experimental in c:\\users\\akhil\\appdata\\local\\programs\\python\\python311\\lib\\site-packages (0.3.3)\n",
      "Requirement already satisfied: openai in c:\\users\\akhil\\appdata\\local\\programs\\python\\python311\\lib\\site-packages (1.54.0)\n",
      "Requirement already satisfied: pymysql in c:\\users\\akhil\\appdata\\local\\programs\\python\\python311\\lib\\site-packages (1.1.1)\n",
      "Requirement already satisfied: PyYAML>=5.3 in c:\\users\\akhil\\appdata\\local\\programs\\python\\python311\\lib\\site-packages (from langchain) (6.0.2)\n",
      "Requirement already satisfied: SQLAlchemy<3,>=1.4 in c:\\users\\akhil\\appdata\\local\\programs\\python\\python311\\lib\\site-packages (from langchain) (2.0.35)\n",
      "Requirement already satisfied: aiohttp<4.0.0,>=3.8.3 in c:\\users\\akhil\\appdata\\local\\programs\\python\\python311\\lib\\site-packages (from langchain) (3.10.10)\n",
      "Requirement already satisfied: langchain-core<0.4.0,>=0.3.15 in c:\\users\\akhil\\appdata\\local\\programs\\python\\python311\\lib\\site-packages (from langchain) (0.3.17)\n",
      "Requirement already satisfied: langchain-text-splitters<0.4.0,>=0.3.0 in c:\\users\\akhil\\appdata\\local\\programs\\python\\python311\\lib\\site-packages (from langchain) (0.3.2)\n",
      "Requirement already satisfied: langsmith<0.2.0,>=0.1.17 in c:\\users\\akhil\\appdata\\local\\programs\\python\\python311\\lib\\site-packages (from langchain) (0.1.143)\n",
      "Requirement already satisfied: numpy<2,>=1 in c:\\users\\akhil\\appdata\\local\\programs\\python\\python311\\lib\\site-packages (from langchain) (1.26.4)\n",
      "Requirement already satisfied: pydantic<3.0.0,>=2.7.4 in c:\\users\\akhil\\appdata\\local\\programs\\python\\python311\\lib\\site-packages (from langchain) (2.9.2)\n",
      "Requirement already satisfied: requests<3,>=2 in c:\\users\\akhil\\appdata\\local\\programs\\python\\python311\\lib\\site-packages (from langchain) (2.32.3)\n",
      "Requirement already satisfied: tenacity!=8.4.0,<10,>=8.1.0 in c:\\users\\akhil\\appdata\\local\\programs\\python\\python311\\lib\\site-packages (from langchain) (8.5.0)\n",
      "Requirement already satisfied: langchain-community<0.4.0,>=0.3.0 in c:\\users\\akhil\\appdata\\local\\programs\\python\\python311\\lib\\site-packages (from langchain-experimental) (0.3.7)\n",
      "Requirement already satisfied: anyio<5,>=3.5.0 in c:\\users\\akhil\\appdata\\local\\programs\\python\\python311\\lib\\site-packages (from openai) (4.6.2.post1)\n",
      "Requirement already satisfied: distro<2,>=1.7.0 in c:\\users\\akhil\\appdata\\local\\programs\\python\\python311\\lib\\site-packages (from openai) (1.9.0)\n",
      "Requirement already satisfied: httpx<1,>=0.23.0 in c:\\users\\akhil\\appdata\\local\\programs\\python\\python311\\lib\\site-packages (from openai) (0.27.2)\n",
      "Requirement already satisfied: jiter<1,>=0.4.0 in c:\\users\\akhil\\appdata\\local\\programs\\python\\python311\\lib\\site-packages (from openai) (0.7.0)\n",
      "Requirement already satisfied: sniffio in c:\\users\\akhil\\appdata\\local\\programs\\python\\python311\\lib\\site-packages (from openai) (1.3.1)\n",
      "Requirement already satisfied: tqdm>4 in c:\\users\\akhil\\appdata\\local\\programs\\python\\python311\\lib\\site-packages (from openai) (4.67.0)\n",
      "Requirement already satisfied: typing-extensions<5,>=4.11 in c:\\users\\akhil\\appdata\\roaming\\python\\python311\\site-packages (from openai) (4.12.2)\n",
      "Requirement already satisfied: aiohappyeyeballs>=2.3.0 in c:\\users\\akhil\\appdata\\local\\programs\\python\\python311\\lib\\site-packages (from aiohttp<4.0.0,>=3.8.3->langchain) (2.4.3)\n",
      "Requirement already satisfied: aiosignal>=1.1.2 in c:\\users\\akhil\\appdata\\local\\programs\\python\\python311\\lib\\site-packages (from aiohttp<4.0.0,>=3.8.3->langchain) (1.3.1)\n",
      "Requirement already satisfied: attrs>=17.3.0 in c:\\users\\akhil\\appdata\\local\\programs\\python\\python311\\lib\\site-packages (from aiohttp<4.0.0,>=3.8.3->langchain) (24.2.0)\n",
      "Requirement already satisfied: frozenlist>=1.1.1 in c:\\users\\akhil\\appdata\\local\\programs\\python\\python311\\lib\\site-packages (from aiohttp<4.0.0,>=3.8.3->langchain) (1.5.0)\n",
      "Requirement already satisfied: multidict<7.0,>=4.5 in c:\\users\\akhil\\appdata\\local\\programs\\python\\python311\\lib\\site-packages (from aiohttp<4.0.0,>=3.8.3->langchain) (6.1.0)\n",
      "Requirement already satisfied: yarl<2.0,>=1.12.0 in c:\\users\\akhil\\appdata\\local\\programs\\python\\python311\\lib\\site-packages (from aiohttp<4.0.0,>=3.8.3->langchain) (1.17.1)\n",
      "Requirement already satisfied: idna>=2.8 in c:\\users\\akhil\\appdata\\local\\programs\\python\\python311\\lib\\site-packages (from anyio<5,>=3.5.0->openai) (3.10)\n",
      "Requirement already satisfied: certifi in c:\\users\\akhil\\appdata\\local\\programs\\python\\python311\\lib\\site-packages (from httpx<1,>=0.23.0->openai) (2024.8.30)\n",
      "Requirement already satisfied: httpcore==1.* in c:\\users\\akhil\\appdata\\local\\programs\\python\\python311\\lib\\site-packages (from httpx<1,>=0.23.0->openai) (1.0.6)\n",
      "Requirement already satisfied: h11<0.15,>=0.13 in c:\\users\\akhil\\appdata\\local\\programs\\python\\python311\\lib\\site-packages (from httpcore==1.*->httpx<1,>=0.23.0->openai) (0.14.0)\n",
      "Requirement already satisfied: dataclasses-json<0.7,>=0.5.7 in c:\\users\\akhil\\appdata\\local\\programs\\python\\python311\\lib\\site-packages (from langchain-community<0.4.0,>=0.3.0->langchain-experimental) (0.6.7)\n",
      "Requirement already satisfied: httpx-sse<0.5.0,>=0.4.0 in c:\\users\\akhil\\appdata\\local\\programs\\python\\python311\\lib\\site-packages (from langchain-community<0.4.0,>=0.3.0->langchain-experimental) (0.4.0)\n",
      "Requirement already satisfied: pydantic-settings<3.0.0,>=2.4.0 in c:\\users\\akhil\\appdata\\local\\programs\\python\\python311\\lib\\site-packages (from langchain-community<0.4.0,>=0.3.0->langchain-experimental) (2.6.1)\n",
      "Requirement already satisfied: jsonpatch<2.0,>=1.33 in c:\\users\\akhil\\appdata\\local\\programs\\python\\python311\\lib\\site-packages (from langchain-core<0.4.0,>=0.3.15->langchain) (1.33)\n",
      "Requirement already satisfied: packaging<25,>=23.2 in c:\\users\\akhil\\appdata\\roaming\\python\\python311\\site-packages (from langchain-core<0.4.0,>=0.3.15->langchain) (24.2)\n",
      "Requirement already satisfied: orjson<4.0.0,>=3.9.14 in c:\\users\\akhil\\appdata\\local\\programs\\python\\python311\\lib\\site-packages (from langsmith<0.2.0,>=0.1.17->langchain) (3.10.11)\n",
      "Requirement already satisfied: requests-toolbelt<2.0.0,>=1.0.0 in c:\\users\\akhil\\appdata\\local\\programs\\python\\python311\\lib\\site-packages (from langsmith<0.2.0,>=0.1.17->langchain) (1.0.0)\n",
      "Requirement already satisfied: annotated-types>=0.6.0 in c:\\users\\akhil\\appdata\\local\\programs\\python\\python311\\lib\\site-packages (from pydantic<3.0.0,>=2.7.4->langchain) (0.7.0)\n",
      "Requirement already satisfied: pydantic-core==2.23.4 in c:\\users\\akhil\\appdata\\local\\programs\\python\\python311\\lib\\site-packages (from pydantic<3.0.0,>=2.7.4->langchain) (2.23.4)\n",
      "Requirement already satisfied: charset-normalizer<4,>=2 in c:\\users\\akhil\\appdata\\local\\programs\\python\\python311\\lib\\site-packages (from requests<3,>=2->langchain) (3.4.0)\n",
      "Requirement already satisfied: urllib3<3,>=1.21.1 in c:\\users\\akhil\\appdata\\local\\programs\\python\\python311\\lib\\site-packages (from requests<3,>=2->langchain) (2.2.3)\n",
      "Requirement already satisfied: greenlet!=0.4.17 in c:\\users\\akhil\\appdata\\local\\programs\\python\\python311\\lib\\site-packages (from SQLAlchemy<3,>=1.4->langchain) (3.1.1)\n",
      "Requirement already satisfied: colorama in c:\\users\\akhil\\appdata\\roaming\\python\\python311\\site-packages (from tqdm>4->openai) (0.4.6)\n",
      "Requirement already satisfied: marshmallow<4.0.0,>=3.18.0 in c:\\users\\akhil\\appdata\\local\\programs\\python\\python311\\lib\\site-packages (from dataclasses-json<0.7,>=0.5.7->langchain-community<0.4.0,>=0.3.0->langchain-experimental) (3.23.1)\n",
      "Requirement already satisfied: typing-inspect<1,>=0.4.0 in c:\\users\\akhil\\appdata\\local\\programs\\python\\python311\\lib\\site-packages (from dataclasses-json<0.7,>=0.5.7->langchain-community<0.4.0,>=0.3.0->langchain-experimental) (0.9.0)\n",
      "Requirement already satisfied: jsonpointer>=1.9 in c:\\users\\akhil\\appdata\\local\\programs\\python\\python311\\lib\\site-packages (from jsonpatch<2.0,>=1.33->langchain-core<0.4.0,>=0.3.15->langchain) (3.0.0)\n",
      "Requirement already satisfied: python-dotenv>=0.21.0 in c:\\users\\akhil\\appdata\\local\\programs\\python\\python311\\lib\\site-packages (from pydantic-settings<3.0.0,>=2.4.0->langchain-community<0.4.0,>=0.3.0->langchain-experimental) (1.0.1)\n",
      "Requirement already satisfied: propcache>=0.2.0 in c:\\users\\akhil\\appdata\\local\\programs\\python\\python311\\lib\\site-packages (from yarl<2.0,>=1.12.0->aiohttp<4.0.0,>=3.8.3->langchain) (0.2.0)\n",
      "Requirement already satisfied: mypy-extensions>=0.3.0 in c:\\users\\akhil\\appdata\\local\\programs\\python\\python311\\lib\\site-packages (from typing-inspect<1,>=0.4.0->dataclasses-json<0.7,>=0.5.7->langchain-community<0.4.0,>=0.3.0->langchain-experimental) (1.0.0)\n"
     ]
    }
   ],
   "source": [
    "!pip install langchain langchain-experimental openai pymysql"
   ]
  },
  {
   "cell_type": "markdown",
   "metadata": {},
   "source": [
    "# Importing Necessary Packages"
   ]
  },
  {
   "cell_type": "code",
   "execution_count": 1,
   "metadata": {},
   "outputs": [],
   "source": [
    "from langchain.utilities import SQLDatabase\n",
    "from langchain.llms import OpenAI\n",
    "from langchain_experimental.sql import SQLDatabaseChain\n",
    "from langchain.prompts import PromptTemplate\n",
    "from langchain.prompts.chat import HumanMessagePromptTemplate\n",
    "from langchain.chat_models import ChatOpenAI\n",
    "from langchain.schema import HumanMessage, SystemMessage"
   ]
  },
  {
   "cell_type": "code",
   "execution_count": 2,
   "metadata": {},
   "outputs": [
    {
     "name": "stderr",
     "output_type": "stream",
     "text": [
      "C:\\Users\\akhil\\AppData\\Local\\Temp\\ipykernel_664\\1703113971.py:2: LangChainDeprecationWarning: The class `ChatOpenAI` was deprecated in LangChain 0.0.10 and will be removed in 1.0. An updated version of the class exists in the :class:`~langchain-openai package and should be used instead. To use it run `pip install -U :class:`~langchain-openai` and import as `from :class:`~langchain_openai import ChatOpenAI``.\n",
      "  llm = ChatOpenAI(temperature=0, openai_api_key=OPENAI_API_KEY)\n"
     ]
    }
   ],
   "source": [
    "OPENAI_API_KEY = \"Your API Key\"\n",
    "llm = ChatOpenAI(temperature=0, openai_api_key=OPENAI_API_KEY)"
   ]
  },
  {
   "cell_type": "markdown",
   "metadata": {},
   "source": [
    "# Database Setup"
   ]
  },
  {
   "cell_type": "code",
   "execution_count": 3,
   "metadata": {},
   "outputs": [],
   "source": [
    "def retrieve_from_db(query: str) -> str:\n",
    "    db_context = db_chain(query)\n",
    "    db_context = db_context['result'].strip()\n",
    "    return db_context"
   ]
  },
  {
   "cell_type": "code",
   "execution_count": 7,
   "metadata": {},
   "outputs": [],
   "source": [
    "host = 'localhost'\n",
    "port = '3306'\n",
    "username = 'root'\n",
    "# password = rekubannu\n",
    "database_schema = 'mydb'\n",
    "mysql_uri = f\"mysql+pymysql://{username}@{host}:{port}/{database_schema}\"\n",
    "# mysql_uri = f\"mysql+pymysql://{username:rekubannu}@{host}:{port}/{database_schema}\"\n",
    "db = SQLDatabase.from_uri(mysql_uri, include_tables=['telugumovies_dataset'],sample_rows_in_table_info=2)\n",
    "db_chain = SQLDatabaseChain.from_llm(llm, db, verbose=True)"
   ]
  },
  {
   "cell_type": "code",
   "execution_count": 8,
   "metadata": {},
   "outputs": [],
   "source": [
    "def generate(query: str) -> str:\n",
    "    db_context = retrieve_from_db(query)\n",
    "    \n",
    "    system_message = \"\"\"You are a movie database expert specializing in Telugu cinema.\n",
    "        Your task is to answer users' questions by providing relevant information from a database of Telugu movies.\n",
    "        The database contains the following information for each movie:\n",
    "        - Name of the movie\n",
    "        - Year of release\n",
    "        - Certificate given by the censor board\n",
    "        - Movie genre\n",
    "        - A brief description or plot of the movie\n",
    "        - Duration in minutes\n",
    "        - IMDb Rating\n",
    "        - Number of people who rated the movie\n",
    "        \n",
    "        Example:\n",
    "        \n",
    "        Input:\n",
    "        Which Telugu movies released in 2021 have the highest IMDb ratings?\n",
    "        \n",
    "        Context:\n",
    "        The Telugu movies released in 2021 with the highest IMDb ratings are:\n",
    "        1. Movie A - IMDb Rating: 8.5\n",
    "        2. Movie B - IMDb Rating: 8.3\n",
    "        \n",
    "        Output:\n",
    "        The highest-rated Telugu movies released in 2021 are Movie A (IMDb Rating: 8.5) and Movie B (IMDb Rating: 8.3).\n",
    "        \"\"\"\n",
    "    \n",
    "    human_qry_template = HumanMessagePromptTemplate.from_template(\n",
    "        \"\"\"Input:\n",
    "        {human_input}\n",
    "        \n",
    "        Context:\n",
    "        {db_context}\n",
    "        \n",
    "        Output:\n",
    "        \"\"\"\n",
    "    )\n",
    "    messages = [\n",
    "      SystemMessage(content=system_message),\n",
    "      human_qry_template.format(human_input=query, db_context=db_context)\n",
    "    ]\n",
    "    response = llm(messages).content\n",
    "    return response"
   ]
  },
  {
   "cell_type": "markdown",
   "metadata": {},
   "source": [
    "# Ask the queries"
   ]
  },
  {
   "cell_type": "code",
   "execution_count": 9,
   "metadata": {},
   "outputs": [
    {
     "name": "stderr",
     "output_type": "stream",
     "text": [
      "C:\\Users\\akhil\\AppData\\Local\\Temp\\ipykernel_664\\3606437300.py:2: LangChainDeprecationWarning: The method `Chain.__call__` was deprecated in langchain 0.1.0 and will be removed in 1.0. Use :meth:`~invoke` instead.\n",
      "  db_context = db_chain(query)\n"
     ]
    },
    {
     "name": "stdout",
     "output_type": "stream",
     "text": [
      "\n",
      "\n",
      "\u001b[1m> Entering new SQLDatabaseChain chain...\u001b[0m\n",
      "How many movies are there?\n",
      "SQLQuery:\u001b[32;1m\u001b[1;3mSELECT COUNT(`ID`) AS TotalMovies FROM telugumovies_dataset;\u001b[0m\n",
      "SQLResult: \u001b[33;1m\u001b[1;3m[(1404,)]\u001b[0m\n",
      "Answer:\u001b[32;1m\u001b[1;3mThere are 1404 movies in the dataset.\u001b[0m\n",
      "\u001b[1m> Finished chain.\u001b[0m\n"
     ]
    },
    {
     "name": "stderr",
     "output_type": "stream",
     "text": [
      "C:\\Users\\akhil\\AppData\\Local\\Temp\\ipykernel_664\\3798320535.py:44: LangChainDeprecationWarning: The method `BaseChatModel.__call__` was deprecated in langchain-core 0.1.7 and will be removed in 1.0. Use :meth:`~invoke` instead.\n",
      "  response = llm(messages).content\n"
     ]
    },
    {
     "data": {
      "text/plain": [
       "'There are 1404 movies in the dataset.'"
      ]
     },
     "execution_count": 9,
     "metadata": {},
     "output_type": "execute_result"
    }
   ],
   "source": [
    "generate(\"How many movies are there?\")"
   ]
  },
  {
   "cell_type": "code",
   "execution_count": 10,
   "metadata": {},
   "outputs": [
    {
     "name": "stdout",
     "output_type": "stream",
     "text": [
      "\n",
      "\n",
      "\u001b[1m> Entering new SQLDatabaseChain chain...\u001b[0m\n",
      "How many movies are there with Action Genre?\n",
      "SQLQuery:\u001b[32;1m\u001b[1;3mSELECT COUNT(*) AS TotalMovies\n",
      "FROM telugumovies_dataset\n",
      "WHERE `Genre` LIKE '%Action%';\u001b[0m\n",
      "SQLResult: \u001b[33;1m\u001b[1;3m[(634,)]\u001b[0m\n",
      "Answer:\u001b[32;1m\u001b[1;3mThere are 634 movies with the Action genre.\u001b[0m\n",
      "\u001b[1m> Finished chain.\u001b[0m\n"
     ]
    },
    {
     "data": {
      "text/plain": [
       "'There are 634 movies with the Action genre.'"
      ]
     },
     "execution_count": 10,
     "metadata": {},
     "output_type": "execute_result"
    }
   ],
   "source": [
    "generate(\"How many movies are there with Action Genre?\")"
   ]
  },
  {
   "cell_type": "code",
   "execution_count": 11,
   "metadata": {},
   "outputs": [
    {
     "name": "stdout",
     "output_type": "stream",
     "text": [
      "\n",
      "\n",
      "\u001b[1m> Entering new SQLDatabaseChain chain...\u001b[0m\n",
      "How many movies in year 2015?\n",
      "SQLQuery:\u001b[32;1m\u001b[1;3mSELECT COUNT(`ID`) AS `TotalMovies2015` FROM telugumovies_dataset WHERE `Year` = '2015';\u001b[0m\n",
      "SQLResult: \u001b[33;1m\u001b[1;3m[(61,)]\u001b[0m\n",
      "Answer:\u001b[32;1m\u001b[1;3mTotal number of movies in the year 2015 is 61.\u001b[0m\n",
      "\u001b[1m> Finished chain.\u001b[0m\n"
     ]
    },
    {
     "data": {
      "text/plain": [
       "'There were a total of 61 movies released in the year 2015.'"
      ]
     },
     "execution_count": 11,
     "metadata": {},
     "output_type": "execute_result"
    }
   ],
   "source": [
    "generate(\"How many movies in year 2015?\")"
   ]
  },
  {
   "cell_type": "code",
   "execution_count": 12,
   "metadata": {},
   "outputs": [
    {
     "name": "stdout",
     "output_type": "stream",
     "text": [
      "\n",
      "\n",
      "\u001b[1m> Entering new SQLDatabaseChain chain...\u001b[0m\n",
      "which movies having UA certificate?\n",
      "SQLQuery:\u001b[32;1m\u001b[1;3mSELECT `movie`, `Year`, `Certificate` \n",
      "FROM telugumovies_dataset \n",
      "WHERE `Certificate` = 'UA';\u001b[0m\n",
      "SQLResult: \u001b[33;1m\u001b[1;3m[('Bahubali: The Beginning', '2015', 'UA'), ('Baahubali 2: The Conclusion', '2017', 'UA'), ('1 - Nenokkadine', '2014', 'UA'), ('Dhoom:3', '2013', 'UA'), ('Dhoom:2', '2006', 'UA'), ('Eega', '2012', 'UA'), ('Rangasthalam', '2018', 'UA'), ('War', '2019', 'UA'), ('Bharat Ane Nenu', '2018', 'UA'), ('Saaho', '2019', 'UA'), ('Dookudu', '2011', 'UA'), ('Sarkar', '2018', 'UA'), ('The Ghazi Attack', '2017', 'UA'), ('Srimanthudu', '2015', 'UA'), ('Veer - Vivegam', '2017', 'UA'), ('Manam', '', 'UA'), ('Bigil', '2019', 'UA'), ('Geetha Govindam', '2018', 'UA'), ('Spyder', '2017', 'UA'), ('Nannaku Prematho', '2016', 'UA'), ('Dabangg 3', '2019', 'UA'), ('Race Gurram', '2014', 'UA'), ('Khaleja', '2010', 'UA'), ('Yennai Arindhaal', '2015', 'UA'), ('Goodachari', '2018', 'UA'), ('Aravindha Sametha Veera Raghava', '2018', 'UA'), ('Billa', '2007', 'UA'), ('Sye Raa Narasimha Reddy', '2019', 'UA'), ('Ala Vaikunthapurramuloo', '2020', 'UA'), ('Janatha Garage', '2016', 'UA'), ('Gabbar Singh', '2012', 'UA'), ('Temper', '2015', 'UA'), ('Game Over', '', 'UA'), ('Dhruva', '2016', 'UA'), ('Maharshi', '2019', 'UA'), ('Pelli Choopulu', '2016', 'UA'), ('Arya 2', '2009', 'UA'), ('Chekka Chivantha Vaanam', '2018', 'UA'), ('Naa Peru Surya Na Illu India', '2018', 'UA'), ('Ki & Ka', '2016', 'UA'), ('Agent Sai Srinivasa Athreya', '2019', 'UA'), ('Jai Lava Kusa', '2017', 'UA'), ('Thaanaa Serndha Koottam', '2018', 'UA'), ('OK Kanmani', '2015', 'UA'), ('Dear Comrade', '2019', 'UA'), ('Sarileru Neekevvaru', '2020', 'UA'), ('Julayi', '2012', 'UA'), ('Baadshah', '2013', 'UA'), ('Sarrainodu', '2016', 'UA'), ('Kick', '2009', 'UA'), ('Leader', '2010', 'UA'), ('Chatrapathi', '2005', 'UA'), ('C/o Kancharapalem', '2018', 'UA'), ('Sachein', '2005', 'UA'), ('Brindaavanam', '2010', 'UA'), ('Kaappaan', '2019', 'UA'), ('Aagadu', '2014', 'UA'), ('Maanagaram', '2017', 'UA'), ('Yamadonga', '2007', 'UA'), ('S/O Satyamurthy', '2015', 'UA'), ('Awe!', '2018', 'UA'), ('Oosaravelli', '2011', 'UA'), ('Evaru', '2019', 'UA'), ('Khaidi No 150', '2017', 'UA'), ('Duvvada Jagannadham', '2017', 'UA'), ('Kanche', '2015', 'UA'), ('Ye Maaya Chesave', '2010', 'UA'), ('Rudhramadevi', '2015', 'UA'), ('Majili', '2019', 'UA'), ('Agnyaathavaasi', '2018', 'UA'), ('Vinaya Vidheya Rama', '2019', 'UA'), ('Iddarammayilatho', '2013', 'UA'), ('Rachcha', '2012', 'UA'), ('HIT', '2020', 'UA'), ('U Turn', '2018', 'UA'), ('Zanjeer', '2013', 'UA'), ('Bhaagamathie', '2018', 'UA'), ('Adhurs', '2010', 'UA'), ('Sardaar Gabbar Singh', '2016', 'UA'), ('Gitanjali', '1989', 'UA'), ('Oru Adaar Love', '2019', 'UA'), ('Tholi Prema', '2018', 'UA'), ('Gang Leader', '2019', 'UA'), ('Mathu Vadalara', '2019', 'UA'), ('Katamarayudu', '2017', 'UA'), ('Maari 2', '2018', 'UA'), ('Gautamiputra Satakarni', '2017', 'UA'), ('F2: Fun and Frustration', '2019', 'UA'), ('Krishna Gaadi Veera Prema Gaadha', '2016', 'UA'), ('Prince', '2010', 'UA'), ('Thoongaavanam', '2015', 'UA'), ('Nenu Local', '2017', 'UA'), ('Sketch', '', 'UA'), ('Sainikudu', '2006', 'UA'), ('Nijam', '2003', 'UA'), ('Bruce Lee: The Fighter', '2015', 'UA'), ('MCA Middle Class Abbayi', '2017', 'UA'), ('Ee Nagaraniki Emaindi', '2018', 'UA'), ('Nenu Sailaja', '2016', 'UA'), ('Kanthaswamy', '2009', 'UA'), ('Bheeshma', '2020', 'UA'), ('Desamuduru', '2007', 'UA'), ('Pailwan', '2019', 'UA'), ('World Famous Lover', '2020', 'UA'), ('Raja The Great', '2017', 'UA'), ('Kadaram Kondan', '2019', 'UA'), ('Kanchana 2', '2015', 'UA'), ('Devadas', '2018', 'UA'), ('Sokkali Mainor', '2016', 'UA'), ('Stalin', '2006', 'UA'), ('Savyasachi', '2018', 'UA'), ('Nene Raju Nene Mantri', '2017', 'UA'), ('Kaashmora', '2016', 'UA'), ('Pandurangadu', '2008', 'UA'), ('Game', '', 'UA'), ('Mass', '2004', 'UA'), ('Swamy Ra Ra', '2013', 'UA'), ('Amazon Obhijaan', '2017', 'UA'), ('Kanchana 3', '2019', 'UA'), ('Rakhi', '2006', 'UA'), ('Balupu', '2013', 'UA'), ('Premam', '2016', 'UA'), ('Endrendrum Punnagai', '2013', 'UA'), ('PSV Garuda Vega', '2017', 'UA'), ('Kurukshetra', '2019', 'UA'), ('Mirapakai', '2011', 'UA'), ('Pooja', '2014', 'UA'), ('Naan Sigappu Manithan', '2014', 'UA'), ('Khadgam', '2002', 'UA'), ('Bachchan', '2013', 'UA'), ('Varudu', '2010', 'UA'), ('Rakshasudu', '2019', 'UA'), ('Krishnarjuna Yudham', '2018', 'UA'), ('Malli Malli Idhi Rani Roju', '2015', 'UA'), ('Ayogya', '2019', 'UA'), ('Sahasam', '2013', 'UA'), ('Disco Raja', '2020', 'UA'), ('Praana', '2019', 'UA'), ('Annavaram', '2006', 'UA'), ('Gaddalakonda Ganesh', '2019', 'UA'), ('Oka Laila Kosam', '2014', 'UA'), ('Venky Mama', '2019', 'UA'), ('Kick 2', '2015', 'UA'), ('Gayatri', '2018', 'UA'), ('Shourya', '2016', 'UA'), ('LIE', '2017', 'UA'), ('Okkadu Migiladu', '2017', 'UA'), ('Majnu', '2016', 'UA'), ('Krishnam Vande Jagadgurum', '2012', 'UA'), ('Killing Veerappan', '2016', 'UA'), ('Mr. Majnu', '2019', 'UA'), ('Loukyam', '2014', 'UA'), ('Veyyil', '2006', 'UA'), ('Raju Gari Gadhi 2', '2017', 'UA'), ('Superstar Kidnap', '2015', 'UA'), ('Ninne Pelladatha', '1996', 'UA'), ('Shailaja Reddy Alludu', '2018', 'UA'), ('Jaya Janaki Nayaka', '2017', 'UA'), ('Pichhodu', '2019', 'UA'), ('Okka Kshanam', '2017', 'UA'), ('Achari America Yathra', '2018', 'UA'), ('Bengal Tiger', '2015', 'UA'), ('Goutham Nanda', '2017', 'UA'), ('Mahanubhavudu', '2017', 'UA'), ('118', '2019', 'UA'), ('Dictator', '2016', 'UA'), ('Neninthe', '2008', 'UA'), ('Rarandoi Veduka Chudham', '2017', 'UA'), ('Aswathama', '2020', 'UA'), ('Jaanu', '2020', 'UA'), ('Power Unlimited 2', '2018', 'UA'), ('Kee', '2019', 'UA'), ('Daruvu', '2012', 'UA'), ('Damarukam', '2012', 'UA'), ('Super', '2005', 'UA'), ('Akhil', '2015', 'UA'), ('Nela Ticket', '2018', 'UA'), ('Jai Simha', '2018', 'UA'), ('Samba', '2004', 'UA'), ('Andala Rakshasi', '2012', 'UA'), ('Sambo Siva Sambho', '2010', 'UA'), ('Manmadhudu 2', '2019', 'UA'), ('Paisa Vasool', '2017', 'UA'), ('Dhada', '2011', 'UA'), ('Supreme Khiladi', '2016', 'UA'), ('Yogi', '2007', 'UA'), ('Raja Vaaru Rani Gaaru', '2019', 'UA'), ('Mental Madhilo', '2017', 'UA'), ('Madha', '2020', 'UA'), ('Tadakha', '2013', 'UA'), ('Diya', '2018', 'UA'), ('Mudra', '2019', 'UA'), ('Pandaga Chesko', '2015', 'UA'), ('Seetha', '2019', 'UA'), ('Kalki', '', 'UA'), ('Parama Veera Chakra', '2011', 'UA'), ('Samarasimha Reddy', '1999', 'UA'), ('Hyper', '2016', 'UA'), ('Veera', '2011', 'UA'), ('Yuddham Sharanam', '2017', 'UA'), ('Thulasi', '2007', 'UA'), ('Keshava', '2017', 'UA'), ('Ranarangam', '2019', 'UA'), ('Mukunda', '2014', 'UA'), ('Kirrak Party', '2018', 'UA'), ('Chenna Kesava Reddy', '2002', 'UA'), ('Raju Gari Gadhi 3', '2019', 'UA'), ('Josh', '2009', 'UA'), ('Kavacham', '2018', 'UA'), ('Mama Manchu Alludu Kanchu', '2015', 'UA'), ('Jawaan', '2017', 'UA'), ('Subedar Joginder Singh', '2018', 'UA'), ('Seven', '', 'UA'), ('Solo', '', 'UA'), ('Aaha Kalyanam', '2014', 'UA'), ('Officer', '2018', 'UA'), ('Saakshyam', '2018', 'UA'), ('Babu Bangaram', '2016', 'UA'), ('Shivam', '', 'UA'), ('Pantham', '2018', 'UA'), ('Chanakya', '2019', 'UA'), ('Meeku Matrame Chepta', '2019', 'UA'), ('Winner', '', 'UA'), ('Ism', '2016', 'UA'), ('Abhinetri', '2016', 'UA'), ('Hawaa', '2019', 'UA'), ('Maruthu', '2016', 'UA'), ('Sudigaadu', '2012', 'UA'), ('Rama Rama Krishna Krishna', '2010', 'UA'), ('Vennela', '2005', 'UA'), ('Mehbooba', '2018', 'UA'), ('Lakshyam', '2007', 'UA'), ('Adavi Ramudu', '2004', 'UA'), ('Mathangi', '2016', 'UA'), ('Nenu Lenu', '2019', 'UA'), ('Kedi', '2010', 'UA'), ('Ganesh', '2009', 'UA'), ('Arjun Reddy', '2017', 'UA'), ('Super Duper', '2019', 'UA'), ('Veera Bhoga Vasantha Rayalu', '2018', 'UA'), ('Heza', '2019', 'UA'), ('Guna 369', '2019', 'UA'), ('Mister', '2017', 'UA'), ('Raju Gari Gadhi', '2015', 'UA'), ('Dharma Bhai', '2018', 'UA'), ('Software Sudheer', '2019', 'UA'), ('Mogudu', '2011', 'UA'), ('Oxygen', '2017', 'UA'), ('Baladoor', '2008', 'UA'), ('2 Hours Love', '2019', 'UA'), ('MLA', '2018', 'UA'), ('Speedunnodu', '2016', 'UA'), ('Dream', '', 'UA'), ('Kataka', '2017', 'UA'), ('W/o Ram', '2018', 'UA'), ('Janda Pai Kapiraju', '2015', 'UA'), ('Baanam', '2009', 'UA'), ('Bhai', '2013', 'UA'), ('Sathyam', '2008', 'UA'), ('Pressure Cooker', '2020', 'UA'), ('Ranam', '2006', 'UA'), ('Operation Gold Fish', '2019', 'UA'), ('Subrahmanyapuram', '2018', 'UA'), ('Jabardasth', '2013', 'UA'), ('Souryam', '2008', 'UA'), ('Kadhal Sadugudu', '2003', 'UA'), ('Kitakitalu', '2006', 'UA'), ('Case No. 666/2013', '2013', 'UA'), ('I Love You', '2019', 'UA'), ('Kamma Rajyam Lo Kadapa Reddlu', '2019', 'UA'), ('Next Enti?', '2018', 'UA'), ('All the Best', '2012', 'UA'), ('Ranga (S.S.L.C)', '2004', 'UA'), ('Mitrudu', '2009', 'UA'), ('Aha Naa Pellanta', '2011', 'UA'), ('Aatagallu', '2018', 'UA'), ('Thikka', '2016', 'UA'), ('Iddari Lokam Okate', '2019', 'UA'), ('Nuvva Nena', '2012', 'UA'), ('Tenali Ramakrishna BA.BL', '2019', 'UA'), ('Idam Jagath', '2018', 'UA'), ('Wanted', '', 'UA'), ('Pourudu', '2008', 'UA'), ('Emo Gurram Egaravachu', '2014', 'UA'), ('Valayam', '2020', 'UA'), ('Rogue', '', 'UA'), ('Runam', '2019', 'UA'), ('Yagnam', '2004', 'UA'), ('Fitting Master', '2009', 'UA'), ('Savaari', '2020', 'UA'), ('Lover', '', 'UA'), ('Nakshatram', '2017', 'UA'), ('Luv U Alia', '2015', 'UA'), ('Evadi Gola Vadide', '2005', 'UA'), ('Murali Krishnudu', '1988', 'UA'), ('Chuttalabbayi', '2016', 'UA'), ('Columbus', '2015', 'UA'), ('Raagala 24 Gantallo', '2019', 'UA'), ('Thipparaa Meesam', '2019', 'UA'), ('Om 3D', '2013', 'UA'), ('Samanyudu', '2006', 'UA'), ('Nandhi', '2002', 'UA'), ('Sher', '2015', 'UA'), ('Kaamannana Makkalu', '2008', 'UA'), ('Kathanam', '2019', 'UA'), ('Nagarahaavu', '2016', 'UA'), ('Wish You Happy Breakup', '2016', 'UA'), ('Brahma', '2014', 'UA'), ('Madatha Kaaja', '2011', 'UA'), ('Athili Sathibabu LKG', '2007', 'UA'), ('Vinara sodara veera kumara', '2019', 'UA'), ('Kiccha Huccha', '2010', 'UA'), ('Aaviri', '2019', 'UA'), ('Kalyan Ram Kathi', '2010', 'UA'), ('Prema Ishq Kaadhal', '2013', 'UA'), ('Balakrishnudu', '2017', 'UA'), ('Partha', '2003', 'UA'), ('Garam', '2016', 'UA'), ('Homam', '2008', 'UA'), ('Bhale Manchi Chowka Beram', '2018', 'UA'), ('Naanna Nenu Naa Boyfriends', '2016', 'UA'), ('Basanti', '2014', 'UA'), ('Mr. Theertha', '2010', 'UA'), ('Terror', '2016', 'UA'), ('Nirmala Convent', '2016', 'UA'), ('Choosi Choodangaane', '2020', 'UA'), ('Thakita Thakita', '2010', 'UA'), ('Nammanna', '2005', 'UA'), ('Adhugo', '2018', 'UA'), ('Raaj', '2011', 'UA')]\u001b[0m\n",
      "Answer:\u001b[32;1m\u001b[1;3mThere are many movies in the dataset that have a 'UA' certificate. Some of them include \"Bahubali: The Beginning\", \"Baahubali 2: The Conclusion\", \"Rangasthalam\", \"Saaho\", \"Sye Raa Narasimha Reddy\", and many more.\u001b[0m\n",
      "\u001b[1m> Finished chain.\u001b[0m\n"
     ]
    },
    {
     "data": {
      "text/plain": [
       "'The Telugu movies with a \\'UA\\' certificate in the dataset include \"Bahubali: The Beginning\", \"Baahubali 2: The Conclusion\", \"Rangasthalam\", \"Saaho\", \"Sye Raa Narasimha Reddy\", and many more.'"
      ]
     },
     "execution_count": 12,
     "metadata": {},
     "output_type": "execute_result"
    }
   ],
   "source": [
    "generate(\"which movies having UA certificate?\")"
   ]
  },
  {
   "cell_type": "code",
   "execution_count": 13,
   "metadata": {},
   "outputs": [
    {
     "name": "stdout",
     "output_type": "stream",
     "text": [
      "\n",
      "\n",
      "\u001b[1m> Entering new SQLDatabaseChain chain...\u001b[0m\n",
      "which movie have the highest rating?\n",
      "SQLQuery:\u001b[32;1m\u001b[1;3mSELECT `movie`, `Rating` \n",
      "FROM telugumovies_dataset \n",
      "ORDER BY `Rating` DESC \n",
      "LIMIT 1;\u001b[0m\n",
      "SQLResult: \u001b[33;1m\u001b[1;3m[('Amaran', Decimal('9.8'))]\u001b[0m\n",
      "Answer:\u001b[32;1m\u001b[1;3mThe movie with the highest rating is \"Amaran\" with a rating of 9.8.\u001b[0m\n",
      "\u001b[1m> Finished chain.\u001b[0m\n"
     ]
    },
    {
     "data": {
      "text/plain": [
       "'The movie with the highest rating is \"Amaran\" with a rating of 9.8.'"
      ]
     },
     "execution_count": 13,
     "metadata": {},
     "output_type": "execute_result"
    }
   ],
   "source": [
    "generate(\"which movie have the highest rating?\")"
   ]
  },
  {
   "cell_type": "code",
   "execution_count": 14,
   "metadata": {},
   "outputs": [
    {
     "name": "stdout",
     "output_type": "stream",
     "text": [
      "\n",
      "\n",
      "\u001b[1m> Entering new SQLDatabaseChain chain...\u001b[0m\n",
      "give me all movies names ?\n",
      "SQLQuery:\u001b[32;1m\u001b[1;3mSELECT `movie` FROM telugumovies_dataset;\u001b[0m\n",
      "SQLResult: \u001b[33;1m\u001b[1;3m[('Bahubali: The Beginning',), ('Baahubali 2: The Conclusion',), ('1 - Nenokkadine',), ('Dhoom:3',), ('Dhoom:2',), ('Eega',), ('Krrish 3',), ('Arjun Reddy',), ('Rangasthalam',), ('Magadheera',), ('War',), ('Bharat Ane Nenu',), ('Saaho',), ('Theri',), ('Dookudu',), ('Pokiri',), ('Sarkar',), ('Athadu',), ('The Ghazi Attack',), ('Kabali',), ('MSG: The Messenger of God',), ('Nanban',), ('Srimanthudu',), ('Veer - Vivegam',), ('Billa 2',), ('Manam',), ('7 Aum Arivu',), ('Bigil',), ('Business Man',), ('Geetha Govindam',), ('Mahanati',), ('Spyder',), ('Nannaku Prematho',), ('Dabangg 3',), ('MSG 2 the Messenger',), ('Manikarnika: The Queen of Jhansi',), ('Race Gurram',), ('Okkadu',), ('Bommarillu',), ('Atharintiki Daaredi',), ('Khaleja',), ('Yennai Arindhaal',), ('Thalaivaa',), ('Kaala',), ('Bairavaa',), ('Goodachari',), ('Puli',), ('Pulimurugan',), ('Veeram',), ('Vedam',), ('Yevadu',), ('Aravindha Sametha Veera Raghava',), ('Billa',), ('Jersey',), ('Sye Raa Narasimha Reddy',), ('Ala Vaikunthapurramuloo',), ('Janatha Garage',), ('Gabbar Singh',), ('Temper',), ('Game Over',), ('Singam 2',), ('Dhruva',), ('Jalsa',), ('Maharshi',), ('Pelli Choopulu',), ('Arya 2',), ('Chekka Chivantha Vaanam',), ('Naa Peru Surya Na Illu India',), ('Ki & Ka',), ('Seethamma Vakitlo Sirimalle Chettu',), ('Singam 3',), ('Agent Sai Srinivasa Athreya',), ('Jai Lava Kusa',), ('Arya',), ('Maattrraan',), ('Kochadaiiyaan',), ('Thaanaa Serndha Koottam',), ('OK Kanmani',), ('Dear Comrade',), ('Happy Days',), ('Sarileru Neekevvaru',), ('Julayi',), ('Kshanam',), ('Oopiri',), ('Baadshah',), ('3',), ('Sarrainodu',), ('Kick',), ('Leader',), ('Anjaan',), ('Khushi',), ('Maya Bazaar',), ('Rakhta Charitra',), ('Mirchi',), ('Chatrapathi',), ('C/o Kancharapalem',), ('Sachein',), ('Murari',), ('Vikramarkudu',), ('Kuruthipunal',), ('Brindaavanam',), ('Panjaa',), ('Nuvvu Naaku Nachchav',), ('Gopala Gopala',), ('Kaappaan',), ('Aagadu',), ('Masss',), ('Maanagaram',), ('Drushyam',), ('Yamadonga',), ('S/O Satyamurthy',), ('Tholi Prema',), ('Awe!',), ('Yatra',), ('Fidaa',), ('Oosaravelli',), ('Evaru',), ('Odiyan',), ('Khaidi No 150',), ('NGK',), ('Duvvada Jagannadham',), ('Bale Bale Magadivoy',), ('Shiva',), ('Manmadhudu',), ('Mr Perfect',), ('Orange',), ('Anirudh',), ('Gamyam',), ('Kanche',), ('Naayak',), ('Malliswari',), ('Nuvvostanante Nenoddantana',), ('Ye Maaya Chesave',), ('Sagara Sangamam',), ('Rudhramadevi',), ('Cameraman Gangatho Rambabu',), ('Majili',), ('Uttama Villain',), ('Arundhati',), ('Agnyaathavaasi',), ('Pilla Zamindar',), ('100% Love',), ('Aa Naluguru',), ('Darling',), ('Aha Naa Pellanta',), ('Vinaya Vidheya Rama',), ('Happy',), ('Ala Modalaindi',), ('Prasthanam',), ('Dhee',), ('Iddarammayilatho',), ('Simhadri',), ('Taxiwaala',), ('Parugu',), ('Rakhta Charitra 2',), ('Maryada Ramanna',), ('Rachcha',), ('HIT',), ('Nota',), ('U Turn',), ('Thammudu',), ('Zanjeer',), ('Ezra',), ('Bhaagamathie',), ('Adhurs',), ('Aditya 369',), ('Sardaar Gabbar Singh',), ('Gitanjali',), ('Ninnu Kori',), ('Indra',), ('Vishwaroopam 2',), ('Oru Adaar Love',), ('Tholi Prema',), ('Brochevarevarura',), ('7/G Rainbow Colony',), ('Tagore',), ('Gang Leader',), ('Bujjigaadu: Made in Chennai',), ('Sye',), ('Yevade Subramanyam',), ('Mathu Vadalara',), ('Katamarayudu',), ('Maari 2',), ('Gautamiputra Satakarni',), ('Rx 100',), ('A... Aa',), ('Aalavandhan',), ('F2: Fun and Frustration',), ('The House Next Door',), ('Krishna Gaadi Veera Prema Gaadha',), ('Prince',), ('Sankarabharanam',), ('Thoongaavanam',), ('Govindudu Andari Vaadele',), ('Anand',), ('Raja Kumarudu',), ('Baba',), ('Dhammu',), ('Ramayya Vastavayya',), ('NTR: Kathanayakudu',), ('Chirutha',), ('Thaandavam',), ('Athidhi',), ('Kshana Kshanam',), ('Penguin',), ('Rudra Veena',), ('Legend',), ('Annamayya',), ('Badrinath',), ('Nenu Local',), ('Oh Baby...',), ('Sketch',), ('Hello Guru Prema Kosame',), ('Rabhasa',), ('Sainikudu',), ('Ishq',), ('Arjun',), ('Badri',), ('Krishnarjuna',), ('Hello',), ('Saleem',), ('Nijam',), ('Bruce Lee: The Fighter',), ('MCA Middle Class Abbayi',), ('Ee Nagaraniki Emaindi',), ('Nenu Sailaja',), ('Gentleman',), ('Student No. 1',), ('Kumari 21F',), ('Billa',), ('Love Ke Liye Kuch Bhi Karega',), ('Run Baby Run',), ('Chitralahari',), ('Shankar Dada MBBS',), ('Teen Maar',), ('Kanthaswamy',), ('Komaram Puli',), ('Rebel',), ('iSmart Shankar',), ('Anukokunda Oka Roju',), ('Bheeshma',), ('Karthikeya',), ('Desamuduru',), ('Gunde Jaari Gallanthayyinde',), ('Pailwan',), ('World Famous Lover',), ('Theeya Velai Seiyyanum Kumaru',), ('Raja The Great',), ('Kadaram Kondan',), ('Sammohanam',), ('Simha',), ('Aithe',), ('Takkari Donga',), ('Kadhalil Sodhappuvadhu Yeppadi',), ('Pammal K. Sambandam',), ('Kanchana 2',), ('Saroja',), ('Vel',), ('Pandavulu Pandavulu Thummeda',), ('Doosukeltha',), ('Gundamma Katha',), ('Oohalu Gusagusalade',), ('Rowdy',), ('Devadas',), ('Sokkali Mainor',), ('Dhenikaina Ready',), ('Political Rowdy',), ('Anukshanam',), ('Stalin',), ('Godavari',), ('Suryam',), ('Balu',), ('Savyasachi',), ('Nene Raju Nene Mantri',), ('Varsham',), ('Kaashmora',), ('Run Raja Run',), ('Abhiyum Naanum',), ('Eedo Rakam Aado Rakam',), ('Asthram',), ('Ready',), ('Irandam Ulagam',), ('Sree',), ('Aadi',), ('Jhummandi Naadam',), ('Pandurangadu',), ('Naani',), ('Game',), ('Shatamanam Bhavati',), ('Mass',), ('Swamy Ra Ra',), ('Ekkadiki Pothavu Chinnavada',), ('Amazon Obhijaan',), ('Chi La Sow',), ('Kaathala Kaathala',), ('Kanchana 3',), ('Vishnu',), ('Rakhi',), ('Oh My Friend',), ('Balupu',), ('Aadavari Matalaku Ardhalu Verule',), ('Prayanam',), ('Antariksham 9000 kmph',), ('Konchem Ishtam Konchem Kashtam',), ('Jamba Lakidi Pamba',), ('Kotigobba 2',), ('Kaadhal',), ('Current Theega',), ('MalliRaava',), ('Saahasam Swaasaga Saagipo',), ('Premam',), ('Johnny',), ('King',), ('Endrendrum Punnagai',), ('Mugamoodi',), ('NTR Mahanayakudu',), ('PSV Garuda Vega',), ('Kurukshetra',), ('Uu Kodathara Ulikki Padathara',), ('Mr. Nookayya',), ('Mirapakai',), ('Nenu Meeku Telusa...?',), ('Satya 2',), ('Pooja',), ('Naan Sigappu Manithan',), ('Sakthi',), ('Uyyala Jampala',), ('Khadgam',), ('Major Chandrakanth',), ('Bachchan',), ('Manu',), ('Hyderabad Blues',), ('Bunny',), ('Ragile Gundelu',), ('Sri Rama Rajyam',), ('Varudu',), ('Rakshasudu',), ('Gharshana',), ('Gaganam',), ('Amar Akbar Anthony',), ('Kathakali',), ('Krishnarjuna Yudham',), ('Express Raja',), ('Kuselan',), ('Don',), ('Kantri',), ('Malli Malli Idhi Rani Roju',), ('Raju Bhai',), ('Ayogya',), ('Gudumba Shankar',), ('Potugadu',), ('Vastadu Naa Raju',), ('Dubai Seenu',), ('Dongata',), ('Sahasam',), ('Dynamite',), ('Alex Pandian',), ('Ragada',), ('Run',), ('Chalo',), ('Munna',), ('Disco Raja',), ('Krishna and His Leela',), ('Yeto Vellipoyindhi Manasu',), ('Praana',), ('Shankardada Zindabad',), ('Padi Padi Leche Manasu',), ('Punya Bhoomi Naa Desam',), ('Quick Gun Murugun: Misadventures of an Indian Cowboy',), ('Adavilo Anna',), ('Thamizh Padam',), ('Ek Niranjan',), ('Annavaram',), ('Bindaas',), ('Prema Katha Chitram',), ('Jagadeka Veerudu Athiloka Sundari',), ('Vismayam',), ('Missamma',), ('Gaddalakonda Ganesh',), ('Oka Laila Kosam',), ('Venky Mama',), ('Kick 2',), ('Gayatri',), ('180',), ('Shourya',), ('Ashta Chamma',), ('Sigappu Rojakkal',), ('LIE',), ('Power',), ('Dev',), ('Pataas',), ('Okkadu Migiladu',), ('Majnu',), ('Srinivasa Kalyanam',), ('Luck Unnodu',), ('Amma Nanna O Tamila Ammayi',), ('Jayasurya',), ('Bangaram',), ('Dora',), ('Don Seenu',), ('Vunnadhi Okate Zindagi',), ('Krishnam Vande Jagadgurum',), ('Killing Veerappan',), ('Gunturodu',), ('Mr. Majnu',), ('Not Today',), ('Oy!',), ('Nuvve.. Nuvve...',), ('Loukyam',), ('Swathi Muthyam',), ('Life Is Beautiful',), ('Yuvaraju',), ('Chal Mohan Ranga',), ('Vamsee',), ('Endukante... Premanta',), ('Veyyil',), ('Mallesham',), ('Attack',), ('Mosagallaku Mosagadu',), ('Kandireega',), ('Raju Gari Gadhi 2',), ('Superstar Kidnap',), ('Pournami',), ('Ninne Pelladatha',), ('Shailaja Reddy Alludu',), ('Jamba Lakidi Pamba',), ('Jaya Janaki Nayaka',), ('Akkada Ammayi Ikkada Abbayi',), ('Pichhodu',), ('Bobby',), ('Okka Kshanam',), ('Achari America Yathra',), ('Sathyaa',), ('Bengal Tiger',), ('Ashok',), ('Coolie No. 1',), ('Pathala Bhairavi',), ('Goutham Nanda',), ('Gang Leader',), ('Golmaal',), ('Mahanubhavudu',), ('118',), ('Heart Attack',), ('Dictator',), ('Idiot',), ('Neninthe',), ('Rarandoi Veduka Chudham',), ('Aswathama',), ('Yamajaathakudu',), ('Jaanu',), ('Neevevaro',), ('Power Unlimited 2',), ('Guru',), ('Kee',), ('Jagadam',), ('Daruvu',), ('Damarukam',), ('Super',), ('Krishna: The Power of Indrakeeladri',), ('Chakram',), ('Size Zero',), ('Bhadra',), ('Erra Buss',), (\"Lakshmi's NTR\",), ('Dhoni',), ('Appatlo Okadundevadu',), ('Akhil',), ('Daana Veera Soora Karna',), ('Aadhi Bhagavan',), ('Devudu Chesina Manushulu',), ('Falaknuma Das',), ('Raju Maharaju',), ('Adhipathi',), ('Peda Rayudu',), ('Nela Ticket',), ('Prati Roju Pandaage',), ('Veera',), ('Kotha Bangaru Lokam',), ('Santosham',), ('Venky',), ('Jai Simha',), ('Nuvve Kavali',), ('Samba',), ('Lava Kusa',), ('George Reddy',), ('Subramanyam for Sale',), ('Bhoot Returns',), ('Suswagatham',), ('Dohchay',), ('Andala Rakshasi',), ('Raja',), ('Sambo Siva Sambho',), ('Okkadunnadu',), ('Manmadhudu 2',), ('Paisa Vasool',), ('Lakshmi',), ('Chantabbai',), ('Anji',), ('Dhada',), ('Uthama Puthiran',), ('Jai Chiranjeeva',), ('Magalir Mattum',), ('Anaganaga O Dheerudu',), ('Supreme Khiladi',), ('Aakali Rajyam',), ('Okka Magadu',), ('Phoonk 2',), ('Tappu Chesi Pappu Koodu',), ('Bhairava Dweepam',), ('Needi Naadi Oke Katha',), ('Narasimha Naidu',), ('Guru',), ('Chintakayala Ravi',), ('Yogi',), ('Yaman',), ('Anando Brahma',), ('Vanaja',), ('Raja Vaaru Rani Gaaru',), ('Gangotri',), ('Golimar',), ('Narasimhudu',), ('Swayam Krushi',), ('Mental Madhilo',), ('Gaayam',), ('Rayalaseema Ramanna Chowdary',), ('Gokulamlo Seetha',), ('Rajanna',), ('Madha',), ('Hushaaru',), ('Settai',), ('Swarnakamalam',), ('Tadakha',), ('Nenu Naa Rakshasi',), ('Diya',), ('Vikram',), ('Kadhal Desam',), ('Mudra',), ('Naa Autograph Sweet Memories',), ('Dum Dum Dum',), ('Challenge',), ('Kalisundam Raa',), ('Pandaga Chesko',), ('Lakshmi',), ('Daddy',), ('Seetha',), ('Kalki',), ('Parama Veera Chakra',), ('Samarasimha Reddy',), ('Andhrawala',), ('Hyper',), ('Kalloori',), ('Veera',), ('Criminal',), ('Gharana Mogudu',), ('Namo Venkatesa',), ('Karnan',), ('Annayya',), ('Mesthri',), ('Little Soldiers',), ('Alludu Seenu',), ('Yuddham Sharanam',), ('Khaidi',), ('Shiva Shankar',), ('Bavagaru Bagunnara?',), ('Nannu Dochukunduvate',), ('Hello Brother',), ('Naa Alludu',), ('Shamantakamani',), ('Thulasi',), ('Keshava',), ('Maja',), ('Aata',), ('Choodalani Vundi',), ('Ranarangam',), ('Mukunda',), ('Allari Police',), ('Kirrak Party',), ('Chenna Kesava Reddy',), ('Sarocharu',), ('Nadunisi Naaygal',), ('Nagavalli',), ('Ennaku 20 Unakku 18',), ('Bodyguard',), ('Raju Gari Gadhi 3',), ('Josh',), ('Greeku Veerudu',), ('Lakshmi Narasimha',), ('Autonagar Surya',), ('Style',), ('Shivamani',), ('Surya vs. Surya',), ('Swathi Kiranam',), ('Alluda Majaaka!',), ('Kavacham',), ('Chinnadana Nee Kosam',), ('Hrudaya Kaleyam',), ('Mama Manchu Alludu Kanchu',), ('Prathinidhi',), ('Meesrti',), ('Khatarnak',), ('Ritu',), ('Sri Ramadasu',), ('Jawaan',), ('Maalai Nerathu Mayakkam',), ('Janaki Ramudu',), ('Koduku Diddina Kapuram',), ('Subedar Joginder Singh',), ('Anasuya',), ('Postman',), ('Seven',), ('Jil',), ('Solo',), ('Andarivaadu',), ('Anthahpuram',), ('Samrat Ashok',), ('Aapathbandavudu',), ('Aaha Kalyanam',), ('Allari Pidugu',), ('Officer',), ('Paisa',), ('Yaan',), ('Alluri Seetharama Raju',), ('Adavi Donga',), ('Madhuram',), ('Vasu',), ('Shiva',), ('Saakshyam',), ('Shadow',), ('Babu Bangaram',), ('Shivam',), ('Rayudu',), ('Lion',), ('Pantham',), ('Govindha Govindha',), ('Nippu',), ('Pasivadi Pranam',), ('Chanakya',), ('Kondaveeti Raja',), ('Jessie',), ('Ninu Veedani Needanu Nene',), ('E',), ('Ramayanam',), ('Meeku Matrame Chepta',), ('Jay Jay',), ('Naaga',), ('Venkatadri Express',), ('Golkonda High School',), ('Khaidi No. 786',), ('Morning Raga',), ('Hitler',), ('Anjaneyulu',), ('Khaidi Garu',), ('Thimiru',), ('Loafer',), ('Collector Garu',), ('Tej I Love U',), ('Winner',), ('Anveshana',), ('Ism',), ('Abhinetri',), ('Allari Ramudu',), ('Devadasu',), ('Kodama Simham',), ('April 1 Vidudala',), ('Lankeshwarudu',), ('Kondaveeti Donga',), ('O Pitta Katha',), ('Mutamestri',), ('Subbu',), ('Pilla Nuvvu Leni Jeevitham',), ('Sri Ramulayya',), ('Boss',), ('Anaganaga Oka Roju',), ('Raghavendra',), ('Kondaveeti Simhasanam',), ('Cinema Chupista Maava',), ('Sri Jagadguru Adi Shankara',), ('Hawaa',), ('Toofan',), ('Ongole Githa',), ('Chukkallo Chandrudu',), ('Indrudu Chandrudu',), ('Sankranthi',), ('Aa Okkati Adakku',), ('Eeshwar',), ('Ratchakan',), ('Maruthu',), ('Yamudiki Mogudu',), ('Police Police',), ('Evvarikee Cheppoddu',), ('Sudigaadu',), ('Rama Rama Krishna Krishna',), ('Geethanjali',), ('Padamati Sandhya Ragam',), ('Sri Manjunatha',), ('Vennela',), ('Jaguar',), ('Marshal',), ('Master',), ('Maska',), ('Assembly Rowdy',), ('Mehbooba',), ('Sneham Kosam',), ('Sindhu Bhairavi',), ('Adhinayakudu',), ('Lakshyam',), ('Adavi Ramudu',), ('Kunti Puthrudu',), ('Mathangi',), ('Brahma',), ('Alludugaru',), ('Oka Chinna Viramam',), ('Nenu Lenu',), ('Mrugaraaju',), ('Bharani',), ('Dil',), ('Ullasanga Utsahanga',), ('Kedi',), ('Shock',), ('Jyo Achyutananda',), ('Mithunam',), ('Palasa 1978',), ('Maro Charithra',), ('Pelli Pustakam',), ('Boy',), ('Yamaleela',), ('Suryavamsam',), ('Kaakki Sattai',), ('Ammoru',), ('Ninnu Choodalani',), ('Premante Idera',), ('Devadasu',), ('Ninaithale Inikkum',), ('Jayam',), ('Mugguru',), ('Ganesh',), ('Arjun Reddy',), ('Vangaveeti',), ('Chandamama Kathalu',), ('Chandamama',), ('Rowdy Fellow',), ('Shirdi Sai',), ('Sisindri',), ('Manasantha Nuvve',), ('Seetharamaiah Gari Manavaralu',), ('Bhale Manchi Roju',), ('Devi Putrudu',), ('Super Duper',), ('Subhash Chandra Bose',), ('Hyderabad Blues 2',), ('Vijetha',), ('Veera Bhoga Vasantha Rayalu',), ('Tik Tik Tik',), ('Detective Naarada',), ('Kalyana Vaibhogame',), ('Heza',), ('Narthanasala',), ('Nenunnanu',), ('Ganesh',), ('Veedevadandi Babu',), ('Sirivennela',), ('Routine Love Story',), ('Intlo Illalu Vantaintlo Priyuralu',), ('Guna 369',), ('Anandam',), ('Masala',), ('Entha Manchivaadavuraa',), ('Ruler',), ('Om Namo Venkatesaya',), ('Gundello Godari',), ('Rowdy Gari Pellam',), ('Paper Boy',), ('Mister',), ('Raju Gari Gadhi',), ('Thodarum',), ('Allari Mogudu',), ('Nirnayam',), ('Dharma Bhai',), ('Software Sudheer',), ('Bhageeratha',), ('Azaad',), ('Minugurulu',), ('Raaja Paarvai',), ('Vijayendra Varama',), ('Mogudu',), ('Jayam Manadera',), ('Oxygen',), ('Athaku Yamudu Ammayiki Mogudu',), ('Sindhooram',), ('Bezawada',), ('Satyam',), ('Avunu Valliddaru Ishtapaddaru',), ('Baladoor',), ('2 Hours Love',), ('Sakalakala Vallavan',), ('MLA',), ('Appula Appa Rao',), ('Radha',), ('Ladies Tailor',), ('Abhilasha',), ('Srimannarayana',), ('Katha Screenplay Darsakatvam: Appalaraju',), ('Chandralekha',), ('Maharadhi',), ('Speedunnodu',), ('Subhalekha',), ('Asura',), ('Palnati Brahmanayudu',), ('@ Nartanasala',), ('Nuvvu Nenu',), ('Rowdy Mogudu',), ('Vijetha',), ('Ravoyi Chandamama',), ('Dream',), ('Preminchukundam Raa',), ('Vasantham',), ('Chanti',), ('Bobbili Raja',), ('Kataka',), ('Dongala Mutha',), ('Chitemma Mogudu',), ('Subha Sankalpam',), ('Maa Inti Katha',), ('W/o Ram',), ('James Bond',), ('Padmavyuham',), ('Avunu',), ('Veerabhadra',), ('Iddaru Mitrulu',), ('Singham123',), ('Anaamika',), ('Sasirekha Parinayam',), ('Bendu Apparao RMP',), ('Rajaratha',), ('Danger',), ('Andari Bandhuvaya',), ('Seenu',), ('Janda Pai Kapiraju',), ('Deyyam',), ('Rowdy Alludu',), ('Krishna Aur Kans',), ('Seema Tapakai',), ('Mahathma',), ('Baanam',), ('Bhai',), ('Itlu Sravani Subramanyam',), ('Sathyam',), ('Bhale Ramudu',), ('Pressure Cooker',), ('Ranam',), ('Aavida Maa Aavide',), ('Alavuddinum Athbutha Vilakkum',), ('Naa Mogudu Nanke Sontham',), ('Sri Anjaneyam',), ('Chiru Navvuto',), ('Operation Gold Fish',), ('Subrahmanyapuram',), ('Baava',), ('Veera Prathap',), ('Courier Boy Kalyan',), ('Jabardasth',), ('Pellam Oorelithe',), ('Hanuman Junction',), ('Money',), ('Ninnu Thalachi',), ('Jayammu Nischayammuu Raa',), ('A Film by Aravind',), ('Ye Mantram Vesave',), ('Bhakta Prahlada',), ('Souryam',), ('Blade Babji',), ('Devi',), ('Gulabi',), ('Rajendrudru Gajendrudru',), ('Lovely',), ('Adhirindhi Alludu',), ('Andhrudu',), ('Malliswari',), ('Bluff Master',), ('Aatagadharaa Siva',), ('Rechipo',), ('Kadhal Sadugudu',), ('Ra Ra Krishnayya',), ('Nuvvu Vasthavani',), ('Prathigna',), ('Life Before Wedding',), ('Silly Fellows',), ('Donga Police',), ('Sundara Kanda',), ('Chitram Bhalare Vichitram',), ('Ninne Premistha',), ('Sahasa Veerudu Sagara Kanya',), ('Bhookailas',), ('Antham',), ('Ami Thumi',), ('Oka Manasu',), ('Aatadista',), ('Poola Rangadu',), ('Kitakitalu',), ('Money Money',), ('Prema Katha',), ('Enga Veetu Pillai',), ('Missamma',), ('Sitaramaraju',), ('Desa dimmari',), ('Sparsha',), ('Case No. 666/2013',), ('I Love You',), ('Nayaki',), ('Ee Rojullo',), ('Kamma Rajyam Lo Kadapa Reddlu',), ('Mugguru Monagallu',), ('24 Kisses',), ('Next Enti?',), ('Naa Bangaaru Talli',), ('Anthaka Mundu Aa Tarvatha',), ('Edadugula Bandham',), ('Naa Nuvve',), ('All the Best',), ('Ranga (S.S.L.C)',), ('Maanavudu Daanavudu',), ('Athanokkade',), ('Seema Sastry',), ('Amma Cheppindi',), ('Kalyanaraman',), ('Sankham',), ('Ride',), ('Ave Kallu',), ('Suryakantham',), ('Bhale Dongalu',), ('Kousalya Krishnamurthy',), ('Andhhagadu',), ('Okka Ammayi Thappa',), ('Bheemli Kabadi Jattu',), ('Naa Ishtam',), ('Saptapadhi',), ('Voter',), ('Sankarabharanam',), ('Chaarulatha',), ('Prema Kavali',), ('Ontari',), ('Killer',), ('Mr. Pellam',), ('Ammammagarillu',), ('Brand Babu',), ('Bama Vijayam',), ('Mitrudu',), ('Mr. Medhavi',), ('Dharma Chakram',), ('Chettu Kinda Pleader',), ('Hippi',), ('Aha Naa Pellanta',), ('Veta',), ('Aatagallu',), ('Thikka',), ('Dorasani',), ('Allari Bullodu',), ('Peddarikam',), ('Kalathur Kannamma',), ('Raju Gadu',), ('Guntur Talkies',), ('Kshemanga Velli Labhamga Randi',), ('Kotha Janta',), ('Iddari Lokam Okate',), ('Eduruleni Manishi',), ('Mathru Devo Bhava',), ('Kittu Unnadu Jagratha',), ('Ice Cream',), ('Nuvva Nena',), ('Rama Chakkani Seetha',), ('Jappanil Kalyanaraman',), ('Idaya Kovil',), ('Jaihind 2',), ('Nuvvila',), ('Srivaariki Premalekha',), ('Mard Ki Zabaan 2',), ('Hyderabad Nawabs',), ('Veede',), ('Nari Nari Naduma Murari',), ('Mayalodu',), ('Raja Vikramarka',), ('ABCD: American-Born Confused Desi',), ('Alludu Diddina Kapuram',), ('Hare Ram',), ('Yamagola',), ('Meendum Kokila',), ('M Dharmaraju M.A.',), ('Prema Panjaram',), ('Tenali Ramakrishna BA.BL',), ('Gowtham SSC',), ('Kanchana',), ('Mayuri',), ('Swayamvaram',), ('Seetharamula Kalyanam Lankalo',), ('Pavitra Bandham',), ('Bala Gopaludu',), ('Yuvakudu',), ('Jayammu Nischayammu Raa!',), ('Manchi Donga',), ('Big Boss',), ('Idam Jagath',), ('Happy Wedding',), ('Nuvvu Leka Nenu Lenu',), ('Thoongathey Tambi Thoongathey',), ('Yamudiki Mogudu',), ('Bommana Brothers Chanadana Sisters',), ('Rowdy Inspector',), ('Sontham',), ('Annai Oru Aalayam',), ('Wanted',), ('Panchakshari',), ('Snehamante Idera',), ('Soggadi Pellam',), ('Bhale Donga',), ('1st Rank Raju',), ('Dongodu',), ('Devullu',), ('Sardar Papa Rayudu',), ('Srinivasa Kalyanam',), ('Pourudu',), ('Amrutha Ramam',), ('Prematho Raa',), ('Bumper Offer',), ('Mangamma Gari Manavadu',), ('Yudda Bhoomi',), ('Rayalaseema Love Story',), ('Soggadu',), ('Budget Padmanabham',), ('Swargam Narakam',), ('Manmatha Leelai',), ('Emo Gurram Egaravachu',), ('Ayyare',), ('Valayam',), ('Babai Abbai',), ('Two Town Rowdy',), ('State Rowdy',), ('Aradhana',), ('Idhi Mamulu Prema Katha Kaadu',), ('Rey',), ('Prema Yuddham',), ('Samudram',), ('Kabaddi Kabaddi',), ('Sruthilayalu',), ('Rikshavodu',), ('Muthyala Muggu',), ('Napoleon',), ('Bazaar Rowdy',), ('Pelli Sandadi',), ('Idi Ma Prema Katha',), ('Babu Baga Busy',), ('Rogue',), ('Bhanumathi & Ramakrishna',), ('S. P. Parasuram',), ('Ala Ela',), ('Kevvu Keka',), ('Mantra',), ('Runam',), ('Choopulu Kalasina Subhavela',), ('Manoharam',), ('Agni',), ('Appu Chesi Pappu Koodu',), ('Siddu from Srikakulam',), ('Nachavule',), ('Yagnam',), ('Mee Sreyobhilashi',), ('Kadapa Redamma',), ('Ghatotkachudu',), ('Jagadeka Veeruni Katha',), ('Kanyasulkam',), ('Snehamera Jeevitham',), ('Kobbari Matta',), ('Dhruvanakshatram',), ('Per Sollum Pillai',), ('Vivaha Bhojanambu',), ('Shanti Kranti',), ('Sukumarudu',), ('Fitting Master',), ('Operation Duryodhana',), ('Prema',), ('Mooga Manasulu',), ('Ontari Poratam',), ('Tandra Paparayudu',), ('Nireekshana',), ('Premaabhishekam',), ('Savaari',), ('Surya IPS',), ('Maharasan',), ('Chakravarthy',), ('Lover',), ('Jadoogadu',), ('Allari Alludu',), ('Pandava Vanavasamu',), ('Mechanic Alludu',), ('Kondaveeti Simham',), ('Malini 22',), ('Bobbili Simham',), ('Show',), ('Varasudochhadu',), ('Family Circus',), ('Edurinti Mogudu Pakkinti Pellam',), ('Adavi Ramudu',), ('Donga',), ('Aakhari Poratam',), ('Rough',), ('Paathshala',), ('Kathi Kanta Rao',), ('Pelli Chesukundam',), ('Black Tiger',), ('Sri Krishna Pandaveeyam',), ('Nakshatram',), ('Subhalagnam',), ('Hai Hai Nayaka',), ('Om Shanti',), ('Pellaina Kothalo',), ('Anukunnadi Okkati Ayyindhi Okati',), ('Grahanam',), ('Chinnabaabu',), ('Karthavyam',), ('Raakshasudu',), ('Neeya',), ('D for Dopidi',), ('Mugguru Kodukulu',), ('Balachandrudu',), ('Vinodam',), ('Vijay',), ('Sri Shirdi Saibaba Mahathyam',), ('Anthuleni Katha',), ('Mithai',), ('Tiger',), ('Luv U Alia',), ('Brother of Bommali',), ('Mr. Pellikodukku',), ('Broker',), ('Current',), ('Evadi Gola Vadide',), ('Bangaru Bullodu',), ('Karma',), ('Murali Krishnudu',), ('Varasudu',), ('Seetha Rama Kalyanam',), ('Rendu Rella Aaru',), ('Sampoorna Ramayanam',), ('Chuttalabbayi',), ('Columbus',), ('Raagala 24 Gantallo',), ('Andala Ramudu',), ('Brahma Puthrudu',), ('Alibaba Aradajanu Dongalu',), ('Thipparaa Meesam',), ('Sitaara',), ('Chettaniki Kallu Levu',), ('Manasuku Nachindhi',), ('Om 3D',), ('Action',), ('Dongala Bandi',), ('Sultan',), ('Love Today',), ('Samanyudu',), ('Sathruvu',), ('Gandeevam',), ('Punnami Naagu',), ('Jyothi Lakshmi',), ('Avakai Biryani',), ('Lorry Driver',), ('Padaharella Vayasu',), ('Prananiki Pranam',), ('Akasa Veedhilo',), ('Totti Gang',), ('Allari',), ('Savitri',), ('Peddinti Alludu',), ('143',), ('Superman',), ('Abhinandana',), ('Justice Chowdhary',), ('Gharana Bullodu',), ('Intlo Ramayya Veedilo Krishnayya',), ('Anna Thamudu',), ('Krishnamma Kalipindi Iddarini',), ('Nandhi',), ('Sons of Ram',), ('Kondapalli Raja',), ('Bava Nachadu',), ('Seema Simham',), ('Sandade Sandadi',), ('Donga Ramudu',), ('Vetagadu',), ('Sher',), ('Kaamannana Makkalu',), ('Vinayakudu',), ('Dongaata',), ('90 ML',), ('Kathanam',), ('Ramudu Bheemudu',), ('Patel S.I.R',), ('Nagarahaavu',), ('Selfie Raja',), ('Wish You Happy Breakup',), ('Lovers',), ('Ramudochhadu',), ('Radha Gopalam',), ('Donga Mogudu',), ('Rangula Raatnam',), ('Adda',), ('Kalidasu',), ('Ela Cheppanu',), ('Vishwanatha Nayakudu',), ('Sri Madvirat Veera Brahmendra Swamy Charitra',), ('Brahma',), ('Madatha Kaaja',), ('Dollar Dreams',), ('Betting Bangarraju',), ('Athili Sathibabu LKG',), ('Vinara sodara veera kumara',), ('Tenali Ramakrishna',), ('Maharshi',), ('Idi Kathakaadu',), ('Agni Nakshatram',), ('Bandipotu',), ('Onamalu',), ('Vaana',), ('Jodi',), ('Madhumasam',), ('Bhakta Prahlada',), ('Team 5',), ('Sandhippoma',), ('Ice Cream 2',), ('Okkadine',), ('Kiccha Huccha',), ('Visakha Express',), ('Aaviri',), ('Brindavanam',), ('Rudranetra',), ('Kaali',), ('Bobbili Puli',), ('Manavoori Pandavulu',), ('Next Nuvve',), ('Joru',), ('Ko antey koti',), ('Kalyan Ram Kathi',), ('Priyamyna Neeku...',), ('Vamsodharakudu',), ('Super Police',), ('Bamma Maata Bangaru Baata',), ('Mantra 2',), ('Prema Ishq Kaadhal',), ('Galipatam',), ('Katha',), ('Peddannayya',), ('Lakshmi Kalyanam',), ('Avunanna Kadanna',), ('Bava Bava Panneeru',), ('Balakrishnudu',), ('Partha',), ('Athade Oka Sainyam',), ('Rakshana',), ('Garam',), ('Raja Cheyyi Vesthe',), (\"It's My Love Story\",), ('Okariki Okaru',), ('Kurradu',), ('Homam',), ('Raahu',), ('Gulebakavali Katha',), ('Nene Raju Nene Manthri',), ('Osey Ramulamma',), ('Trinetrudu',), ('Oka Oori Katha',), ('Bhale Manchi Chowka Beram',), ('Bhairava Geetha',), ('Naanna Nenu Naa Boyfriends',), ('Basanti',), ('Mansara',), ('Gaayam 2',), ('Village lo Vinayakudu',), ('Abbaigaru',), ('Ammo Okato Tariku',), ('Raksha',), ('Stoovertpuram Police Station',), ('Srimanthudu',), ('Lakshmi Raave Maa Intiki',), ('Mr. Theertha',), ('Ee Abbai Chala Manchodu',), ('Yemaindi Ee Vela',), ('Aadu Puli Attam',), ('Subhakankshalu',), ('Samsaaram Oka Chadarangam',), ('Intinti Bhagavatham',), ('Driver Ramudu',), ('Saradaga Kasepu',), ('Snehithuda',), ('Kaasi',), ('Prema Pipasi',), ('Uyarntha Ullam',), ('Pekata Paparao',), ('Praja pratinidhi',), ('Meghasandesam',), ('Joker',), ('Marana Mrudangam',), ('Maa Bhoomi',), ('Kerintha',), ('Tripura',), ('123',), ('Jaffa',), ('Jai Bolo Telangana',), ('Nee Sneham',), ('Maro Charitra',), ('Aswamedham',), ('Rachayitha',), ('Terror',), ('Avunu Part 2',), ('Kashi from Village',), ('Aadu Magaadra Bujji',), ('Papikondalu',), ('RDX Love',), ('Rajdooth',), ('Classmates',), ('Oka Radha Iddaru Krishnulu',), ('Sri Kanaka Mahalakshmi Recording Dance Troupe',), ('Sri Krishnarjuna Yudham',), ('Rambantu',), ('Intlo Dayyam Nakemi Bhayam',), ('Amrutham Chandamama Lo',), ('Nirmala Convent',), ('Gruha Pravesam',), ('Beach Road Chetan',), ('Undiporaadhey',), ('Sardar Dharmanna',), ('Biwi No. 2',), ('Muddula Mavayya',), ('Parugo Parugu',), ('Top Hero',), ('Allari Priyudu',), ('Jebu Donga',), ('Devatha',), ('Thayillamal Nannilai',), ('Nandini Nursing Home',), ('Nenu',), ('Muddula Mogudu',), ('Dhairyam',), ('Pravarakyudu',), ('Choosi Choodangaane',), ('Burra katha',), ('Mayabazaar',), ('Panduranga Mahatyam',), ('Ankuram',), ('Manthrigari Viyyankudu',), ('365 Days',), ('Maa Alludu Verygood',), ('Nampalli Nagu',), ('Sambaram',), ('Kurukshetramu',), ('Chanakya Chandragupta',), ('Parthal Pasi Theerum',), ('Krishnashtami',), ('Malaikottai',), ('Thakita Thakita',), ('Inkosari',), ('Kalusukovalani',), ('Raam',), ('Neeku Nenu Naaku Nuvvu',), ('Golmaal Govindam',), ('Taskara',), ('SMS - Siva Manasulo Sruthi',), ('Nammanna',), ('Neeku Naaku Dash Dash',), ('Sneha Geetham',), ('Baachi',), ('Ammo Bomma',), ('Swagatam',), ('Evadithe Nakenti',), ('Mosagalaku Mosagaadu',), ('Kalyana Ramudu',), ('Chinnabbayi',), ('Ugranarasimham',), ('Paramanandayya Shishyula Katha',), ('Adhugo',), ('Seethamma Andalu Ramayya Sitralu',), ('Run',), ('Raaj',), ('Takkari',), ('Victory',), ('Screenplay of an Indian Love Story',), ('Chal Mohana Ranga',), ('Andha Oru Nimidam',), ('Maavichiguru',), ('Sri Krishnarjuna Vijayam',), ('Gudachari No.1',), ('Billa Ranga',), ('Vicky Dada',), ('Kondura (The Sage from the Sea)',), ('Money Money More Money',), ('President Gari Pellam',), ('Evaraina Eppudaina',), ('Maro Monagadu',), ('Jakkanna',), ('Muvva Gopaludu',), ('Ninney Ishta Paddaanu',), ('9 Nelalu',), ('Hi Nanna',), ('Hi Nanna',), ('Hi Nanna',), ('Amaran',), ('Hi Nanna',)]\u001b[0m\n",
      "Answer:\u001b[32;1m\u001b[1;3mBahubali: The Beginning, Baahubali 2: The Conclusion, 1 - Nenokkadine, Dhoom:3, Dhoom:2\u001b[0m\n",
      "\u001b[1m> Finished chain.\u001b[0m\n"
     ]
    },
    {
     "data": {
      "text/plain": [
       "'The movies are:\\n1. Bahubali: The Beginning\\n2. Baahubali 2: The Conclusion\\n3. 1 - Nenokkadine\\n4. Dhoom:3\\n5. Dhoom:2'"
      ]
     },
     "execution_count": 14,
     "metadata": {},
     "output_type": "execute_result"
    }
   ],
   "source": [
    "generate(\"give me all movies names ?\")"
   ]
  },
  {
   "cell_type": "code",
   "execution_count": 15,
   "metadata": {},
   "outputs": [
    {
     "name": "stdout",
     "output_type": "stream",
     "text": [
      "\n",
      "\n",
      "\u001b[1m> Entering new SQLDatabaseChain chain...\u001b[0m\n",
      "which movies comes under the thriller genre?\n",
      "SQLQuery:\u001b[32;1m\u001b[1;3mSELECT `movie`, `Year`, `Rating`\n",
      "FROM telugumovies_dataset\n",
      "WHERE `Genre` LIKE '%Thriller%'\n",
      "LIMIT 5;\u001b[0m\n",
      "SQLResult: \u001b[33;1m\u001b[1;3m[('1 - Nenokkadine', '2014', Decimal('8.1')), ('Dhoom:3', '2013', Decimal('5.4')), ('Dhoom:2', '2006', Decimal('6.5')), ('War', '2019', Decimal('6.5')), ('Saaho', '2019', Decimal('5.2'))]\u001b[0m\n",
      "Answer:\u001b[32;1m\u001b[1;3m1 - Nenokkadine, Dhoom:3, Dhoom:2, War, Saaho\u001b[0m\n",
      "\u001b[1m> Finished chain.\u001b[0m\n"
     ]
    },
    {
     "data": {
      "text/plain": [
       "'The Telugu movie \"1 - Nenokkadine\" falls under the thriller genre.'"
      ]
     },
     "execution_count": 15,
     "metadata": {},
     "output_type": "execute_result"
    }
   ],
   "source": [
    "generate(\"which movies comes under the thriller genre?\")"
   ]
  },
  {
   "cell_type": "code",
   "execution_count": 16,
   "metadata": {},
   "outputs": [
    {
     "name": "stdout",
     "output_type": "stream",
     "text": [
      "\n",
      "\n",
      "\u001b[1m> Entering new SQLDatabaseChain chain...\u001b[0m\n",
      "what is the best overview of the among all movies?\n",
      "SQLQuery:\u001b[32;1m\u001b[1;3mSELECT `movie`, `Overview` \n",
      "FROM telugumovies_dataset \n",
      "ORDER BY `Rating` DESC \n",
      "LIMIT 1;\u001b[0m\n",
      "SQLResult: \u001b[33;1m\u001b[1;3m[('Amaran', 'action-packed film inspired by the life of Major Mukund Varadarajan')]\u001b[0m\n",
      "Answer:\u001b[32;1m\u001b[1;3mThe best overview among all movies is \"action-packed film inspired by the life of Major Mukund Varadarajan\" from the movie \"Amaran\".\u001b[0m\n",
      "\u001b[1m> Finished chain.\u001b[0m\n"
     ]
    },
    {
     "data": {
      "text/plain": [
       "'The best overview among all movies is \"action-packed film inspired by the life of Major Mukund Varadarajan\" from the movie \"Amaran\".'"
      ]
     },
     "execution_count": 16,
     "metadata": {},
     "output_type": "execute_result"
    }
   ],
   "source": [
    "generate(\"what is the best overview of the among all movies?\")"
   ]
  },
  {
   "cell_type": "code",
   "execution_count": 20,
   "metadata": {},
   "outputs": [
    {
     "name": "stdout",
     "output_type": "stream",
     "text": [
      "\n",
      "\n",
      "\u001b[1m> Entering new SQLDatabaseChain chain...\u001b[0m\n",
      "how many columns are there and their names ?\n",
      "SQLQuery:\u001b[32;1m\u001b[1;3mSELECT COLUMN_NAME\n",
      "FROM INFORMATION_SCHEMA.COLUMNS\n",
      "WHERE TABLE_NAME = 'telugumovies_dataset';\u001b[0m\n",
      "SQLResult: \u001b[33;1m\u001b[1;3m[('ID',), ('movie',), ('Year',), ('Certificate',), ('Genre',), ('Overview',), ('Runtime',), ('Rating',), ('No.of.Ratings',)]\u001b[0m\n",
      "Answer:\u001b[32;1m\u001b[1;3mThere are 9 columns in the \"telugumovies_dataset\" table. Their names are: ID, movie, Year, Certificate, Genre, Overview, Runtime, Rating, No.of.Ratings.\u001b[0m\n",
      "\u001b[1m> Finished chain.\u001b[0m\n"
     ]
    },
    {
     "data": {
      "text/plain": [
       "'There are 9 columns in the \"telugumovies_dataset\" table. Their names are: ID, movie, Year, Certificate, Genre, Overview, Runtime, Rating, No.of.Ratings.'"
      ]
     },
     "execution_count": 20,
     "metadata": {},
     "output_type": "execute_result"
    }
   ],
   "source": [
    "generate(\"how many columns are there and their names ?\")"
   ]
  },
  {
   "cell_type": "code",
   "execution_count": 21,
   "metadata": {},
   "outputs": [
    {
     "name": "stdout",
     "output_type": "stream",
     "text": [
      "\n",
      "\n",
      "\u001b[1m> Entering new SQLDatabaseChain chain...\u001b[0m\n",
      "how many rows are there in the given dataset ?\n",
      "SQLQuery:\u001b[32;1m\u001b[1;3mSELECT COUNT(*) AS total_rows FROM telugumovies_dataset;\u001b[0m\n",
      "SQLResult: \u001b[33;1m\u001b[1;3m[(1404,)]\u001b[0m\n",
      "Answer:\u001b[32;1m\u001b[1;3mThere are 1404 rows in the given dataset.\u001b[0m\n",
      "\u001b[1m> Finished chain.\u001b[0m\n"
     ]
    },
    {
     "data": {
      "text/plain": [
       "'There are 1404 rows in the given dataset.'"
      ]
     },
     "execution_count": 21,
     "metadata": {},
     "output_type": "execute_result"
    }
   ],
   "source": [
    "generate(\"how many rows are there in the given dataset ?\")"
   ]
  },
  {
   "cell_type": "code",
   "execution_count": null,
   "metadata": {},
   "outputs": [
    {
     "name": "stdout",
     "output_type": "stream",
     "text": [
      "\n",
      "\n",
      "\u001b[1m> Entering new SQLDatabaseChain chain...\u001b[0m\n",
      "in 1400 row which movie is there  and provide me  thier rating,genre,year,overview?\n",
      "SQLQuery:\u001b[32;1m\u001b[1;3mSELECT `movie`, `Rating`, `Genre`, `Year`, `Overview` \n",
      "FROM telugumovies_dataset\n",
      "LIMIT 1400, 1;\u001b[0m\n",
      "SQLResult: \u001b[33;1m\u001b[1;3m[('Hi Nanna', Decimal('9.0'), 'Action', '2024', 'action-packed film')]\u001b[0m\n",
      "Answer:\u001b[32;1m\u001b[1;3mMovie: Hi Nanna\n",
      "Rating: 9.0\n",
      "Genre: Action\n",
      "Year: 2024\n",
      "Overview: action-packed film\u001b[0m\n",
      "\u001b[1m> Finished chain.\u001b[0m\n"
     ]
    },
    {
     "data": {
      "text/plain": [
       "'In row 1400, the movie \"Hi Nanna\" is listed with the following details:\\n- Rating: 9.0\\n- Genre: Action\\n- Year: 2024\\n- Overview: An action-packed film'"
      ]
     },
     "execution_count": 24,
     "metadata": {},
     "output_type": "execute_result"
    }
   ],
   "source": [
    "generate(\"In 1400 row which movie is there  and provide me  thier rating,genre,year,overview?\")"
   ]
  },
  {
   "cell_type": "code",
   "execution_count": 25,
   "metadata": {},
   "outputs": [
    {
     "name": "stdout",
     "output_type": "stream",
     "text": [
      "\n",
      "\n",
      "\u001b[1m> Entering new SQLDatabaseChain chain...\u001b[0m\n",
      "life is beautiful movie present which row ?\n",
      "SQLQuery:\u001b[32;1m\u001b[1;3mSELECT * \n",
      "FROM telugumovies_dataset \n",
      "WHERE movie = 'Life is Beautiful'\u001b[0m\n",
      "SQLResult: \u001b[33;1m\u001b[1;3m[(411, 'Life Is Beautiful', '2012', 'U', 'Drama, Romance            ', '    It is a coming of age story of six youngsters, set in the beautiful nostalgic world of a working-middle class neighborhood. The film tracks their journey through the different seasons, ...                See full summary\\xa0»', 167, Decimal('6.4'), 671)]\u001b[0m\n",
      "Answer:\u001b[32;1m\u001b[1;3mThe movie \"Life is Beautiful\" is present in the row with ID 411 in the telugumovies_dataset table.\u001b[0m\n",
      "\u001b[1m> Finished chain.\u001b[0m\n"
     ]
    },
    {
     "data": {
      "text/plain": [
       "'The movie \"Life is Beautiful\" is present in row 411 of the telugumovies_dataset table.'"
      ]
     },
     "execution_count": 25,
     "metadata": {},
     "output_type": "execute_result"
    }
   ],
   "source": [
    "generate(\"life is beautiful movie present which row ?\")"
   ]
  },
  {
   "cell_type": "code",
   "execution_count": 30,
   "metadata": {},
   "outputs": [
    {
     "name": "stdout",
     "output_type": "stream",
     "text": [
      "\n",
      "\n",
      "\u001b[1m> Entering new SQLDatabaseChain chain...\u001b[0m\n",
      "what is the same thing among all movies ?\n",
      "SQLQuery:\u001b[32;1m\u001b[1;3mSELECT DISTINCT `Certificate`, `Genre` FROM telugumovies_dataset;\u001b[0m\n",
      "SQLResult: \u001b[33;1m\u001b[1;3m[('UA', 'Action, Drama            '), ('UA', 'Action, Thriller            '), ('UA', 'Action, Fantasy            '), ('U', 'Action, Sci-Fi            '), ('A', 'Action, Drama, Romance            '), ('A', 'Action, Drama, Fantasy            '), ('U', 'Action, Drama            '), ('UA', 'Action, Comedy            '), ('A', 'Action, Thriller            '), ('U', 'Action, Thriller            '), ('UA', 'Action, Thriller, War            '), ('U', 'Action, Crime, Drama            '), ('U', 'Action, Comedy, Drama            '), ('U', 'Comedy, Drama            '), ('UA', 'Comedy, Drama, Fantasy            '), ('U', 'Action, Sci-Fi, Thriller            '), ('UA', 'Action, Drama, Sport            '), ('A', 'Action, Crime            '), ('UA', 'Drama, Romance            '), ('U', 'Biography, Drama            '), ('UA', 'Action, Drama, Thriller            '), ('', 'Comedy, Drama, Fantasy            '), ('', 'Action, Biography, Drama            '), ('U', 'Action, Romance, Sport            '), ('U', 'Comedy, Drama, Romance            '), ('UA', 'Action, Comedy, Fantasy            '), ('U', 'Action, Drama, Thriller            '), ('', 'Action, Drama            '), ('U', 'Action, Adventure, Fantasy            '), ('U', 'Action            '), ('A', 'Action, Drama            '), ('U', 'Drama, Sport            '), ('UA', 'Action, Adventure, Drama            '), ('UA', 'Drama, Thriller            '), ('A', 'Action, Comedy            '), ('UA', 'Comedy, Drama, Romance            '), ('UA', 'Action, Crime, Drama            '), ('UA', 'Comedy, Romance            '), ('U', 'Comedy, Drama, Family            '), ('UA', 'Action, Comedy, Crime            '), ('U', 'Action, Drama, Romance            '), ('U', 'Animation, Action            '), ('UA', 'Romance            '), ('UA', 'Action, Drama, Romance            '), ('U', 'Drama            '), ('UA', 'Action, Comedy, Drama            '), ('', 'Thriller            '), ('U', 'Drama, Mystery, Romance            '), ('UA', 'Drama            '), ('U', 'Action, Musical, Thriller            '), ('U', 'Drama, Romance            '), ('A', 'Action, Biography, Crime            '), ('', 'Drama, Romance, Thriller            '), ('A', 'Action            '), ('A', 'Action, Drama, Thriller            '), ('U', 'Musical, Comedy, Family            '), ('U', 'Comedy, Drama, Fantasy            '), ('U', 'Action, Comedy, Horror            '), ('U', 'Crime, Drama, Family            '), ('UA', 'Thriller            '), ('U', 'Biography, Drama, Romance            '), ('UA', 'Crime, Drama, Thriller            '), ('U', 'Action, Drama, Fantasy            '), ('U', 'Comedy, Romance            '), ('A', 'Action, Crime, Drama            '), ('U', 'Action, Drama, Family            '), ('', 'Drama            '), ('UA', 'Action, Drama, History            '), ('', 'Romance            '), ('U', 'Musical, Romance, Drama            '), ('UA', 'Action, Biography, History            '), ('A', 'Horror, Mystery, Thriller            '), ('', 'Comedy, Drama, Romance            '), ('U', 'Comedy            '), ('UA', 'Action            '), ('', 'Comedy            '), ('Not Rated', 'Comedy, Horror, Thriller            '), ('U', 'Action, Romance            '), ('UA', 'Crime, Drama, Mystery            '), ('A', 'Drama            '), ('UA', 'Mystery, Thriller            '), ('U', 'Action, Drama, Sport            '), ('U', 'Horror, Mystery, Thriller            '), ('UA', 'Action, Horror, Thriller            '), ('UA', 'Action, Comedy, Thriller            '), ('U', 'Family, Sci-Fi, Adventure            '), ('', 'Action, Thriller            '), ('A', 'Drama, Romance            '), ('A', 'Action, Drama, Sport            '), ('U', 'Adventure, Comedy, Drama            '), ('UA', 'Comedy, Crime, Thriller            '), ('UA', 'Action, History            '), ('UA', 'Comedy            '), ('A', 'Horror            '), ('UA', 'Action, Comedy, Romance            '), ('UA', 'Action, Sci-Fi, Thriller            '), ('U', 'Drama, Musical, Romance            '), ('U', 'Comedy, Drama, Musical            '), ('', 'Action, Drama, Fantasy            '), ('', 'Action            '), ('U', 'Comedy, Crime, Drama            '), ('', 'Drama, Mystery, Thriller            '), ('U', 'Drama, Musical            '), ('U', 'Biography, History, Musical            '), ('', 'Comedy, Romance            '), ('', 'Action, Comedy            '), ('UA', 'Comedy, Drama            '), ('U', 'Mystery, Romance, Thriller            '), ('', 'Comedy, Crime, Romance            '), ('U', 'Action, Comedy, Thriller            '), ('', 'Action, Crime, Thriller            '), ('A', 'Action, Comedy, Drama            '), ('A', 'Action, Sci-Fi            '), ('U', 'Mystery, Thriller            '), ('', 'Mystery, Thriller            '), ('U', 'Romance            '), ('U', 'Action, Adventure, Thriller            '), ('U', 'Action, Adventure, Comedy            '), ('U', 'Comedy, Musical            '), ('UA', 'Comedy, Horror            '), ('U', 'Adventure, Comedy, Crime            '), ('', 'Action, Crime, Drama            '), ('A', 'Crime, Thriller            '), ('U', 'Action, Crime            '), ('', 'Action, Comedy, Romance            '), ('U/A', 'Comedy, Drama            '), ('U', 'Action, Crime, Thriller            '), ('U', 'Action, Fantasy, Romance            '), ('UA', 'Drama, Fantasy            '), ('UA', 'Crime            '), ('', 'Comedy, Fantasy, Romance            '), ('UA', 'Action, Adventure            '), ('UA', 'Action, Comedy, Horror            '), ('', 'Action, Romance            '), ('U', 'Adventure, Drama, Sci-Fi            '), ('A', 'Comedy            '), ('A', 'Action, Comedy, Romance            '), ('', 'Action, Comedy, Crime            '), ('', 'Action, Adventure            '), ('UA', 'History, War            '), ('A', 'Action, Fantasy            '), ('U', 'Drama, Family, Romance            '), ('', 'Action, Drama, Thriller            '), ('UA', 'Action, Crime, Thriller            '), ('A', 'Mystery, Romance, Thriller            '), ('A', 'Comedy, Drama, Romance            '), ('Unrated', 'Drama            '), ('', 'Drama, Fantasy            '), ('UA', 'Musical, Romance            '), ('A', 'Comedy, Drama            '), ('U', 'Action, Comedy            '), ('', 'Action, Comedy, Family            '), ('UA', 'Action, Sci-Fi            '), ('', 'Drama, Romance            '), ('UA', 'Crime, Drama, Horror            '), ('', 'Action, Comedy, Drama            '), ('', 'Action, Drama, Family            '), ('', 'Drama, Horror            '), ('U', 'Action, Comedy, Family            '), ('UA', 'Drama, Family            '), ('UA', 'Romance, Thriller            '), ('A', 'Drama, Thriller            '), ('U', 'Action, Adventure, Romance            '), ('U', 'Drama, Family            '), ('', 'Action, Drama, Sport            '), ('A', 'Action, Horror, Thriller            '), ('UA', 'Action, Biography, Crime            '), ('PG-13', 'Drama            '), ('U', 'Comedy, Fantasy, Romance            '), ('', 'Biography            '), ('UA', 'Comedy, Horror, Thriller            '), ('', 'Action, Drama, Mystery            '), ('UA', 'Romance, Comedy, Drama            '), ('', 'Comedy, Fantasy            '), ('UA', 'Action, Romance            '), ('UA', 'Action, Romance, Thriller            '), ('UA', 'Comedy, Family            '), ('', 'Action, Drama, Romance            '), ('U', 'Action, Adventure, Family            '), ('A', 'Action, Romance            '), ('U', 'Action, Comedy, Romance            '), ('', 'Action, Comedy, Fantasy            '), ('', 'Action, Romance, Thriller            '), ('UA', 'Action, Drama, Fantasy            '), ('', 'Comedy, Drama            '), ('', 'Drama, Family            '), ('', 'Family            '), ('', 'Action, Mystery            '), ('U', 'Drama, Family, Musical            '), ('U', 'Family            '), ('U', 'Comedy, Mystery            '), ('U', 'Action, Adventure, Drama            '), ('Unrated', 'Comedy, Drama, Thriller            '), ('PG-13', 'Action, Adventure, Family            '), ('A', 'Drama, Horror, Mystery            '), ('U', 'Comedy, Horror            '), ('', 'Action, Drama, History            '), ('U', 'Action, Comedy, Crime            '), ('UA', 'Drama, Horror, Thriller            '), ('', 'Action, Adventure, Sci-Fi            '), ('UA', 'Action, Drama, Family            '), ('A', 'Action, Romance, Thriller            '), ('', 'Action, Crime, Romance            '), ('U', 'Action, Drama, History            '), ('U', 'Family, Musical, Comedy            '), ('UA', 'Family            '), ('', 'Action, Fantasy, Thriller            '), ('', 'Drama, Musical, Romance            '), ('UA', 'Action, Family            '), ('U', 'Musical            '), ('', 'Drama, Thriller            '), ('', 'Biography, Musical            '), ('UA', 'Action, Biography, Drama            '), ('A', 'Crime, Mystery, Thriller            '), ('UA', 'Action, Crime            '), ('U', 'Action, Biography, Drama            '), ('', 'Drama, Fantasy, Romance            '), ('A', 'Horror, Thriller            '), ('U/A', 'Comedy            '), ('U', 'History            '), ('U', 'Adventure, Comedy            '), ('', 'Drama, Music            '), ('A', 'Action, Comedy, Crime            '), ('A', 'Mystery, Thriller            '), ('U', 'Action, Adventure, Western            '), ('U', 'Comedy, Romance, Thriller            '), ('U', 'Drama, Thriller            '), ('U', 'Action, Comedy, Fantasy            '), ('A', 'Comedy, Horror            '), ('U', 'Drama, Family, History            '), ('UA', 'Horror            '), ('U', 'Drama, Comedy            '), ('U', 'Thriller            '), ('U', 'Fantasy, Horror            '), ('', 'Romance, Drama            '), ('U', 'Musical, Romance            '), ('U', 'Biography, Drama, Musical            '), ('', 'Comedy, Family            '), ('', 'Drama, Family, Romance            '), ('UA', 'Comedy, Thriller            '), ('A', 'Drama, Comedy            '), ('UA', 'Crime, Thriller            '), ('U', 'Comedy, Drama, Thriller            '), ('U', 'Family, Musical            '), ('U', 'Biography, Fantasy            '), ('', 'Adventure, Drama, Romance            '), ('Unrated', 'Drama, Romance            '), ('U', 'Comedy, Romance, Drama            '), ('A', 'Thriller            '), ('U', 'Family, Drama, Musical            '), ('Not Rated', 'Drama            '), ('UA', 'Action, Crime, Mystery            '), ('UA', 'Horror, Thriller            '), ('', 'Horror, Thriller            '), ('', 'Drama, Musical            '), ('', 'Action, Adventure, Comedy            '), ('U', 'Animation, Action, Adventure            '), ('UA', 'Comedy, Drama, Family            '), ('U', 'Adventure, Drama, Fantasy            '), ('', 'Fantasy            '), ('UA', 'Drama, Mystery, Thriller            '), ('U', 'Drama, Action, Comedy            '), ('A', 'Horror, Mystery            '), ('Unrated', 'Drama, Fantasy            '), ('U', 'Drama, History, Musical            '), ('', 'Crime, Thriller            '), ('', 'Family, Romance            '), ('Not Rated', 'Comedy, Drama, Romance            '), ('', 'Action, Adventure, Fantasy            '), ('A', 'Action, Crime, Thriller            '), ('A', 'Comedy, Horror, Thriller            '), ('A', 'Crime, Drama, Family            '), ('Unrated', 'Musical, Mystery, Thriller            '), ('', 'Sport            '), ('U', 'Comedy, Crime, Thriller            '), ('U/A', 'Drama, Romance            '), ('U', 'Comedy, Drama, Action            '), ('', 'Adventure, Drama            '), ('', 'Drama, Fantasy, Thriller            '), ('A', 'Comedy, Musical, Romance            '), ('UA', 'Mystery            '), ('', 'Action, Music            '), ('', 'Drama, Mystery            '), ('U', 'nan'), ('U', 'Drama, Fantasy            '), ('', 'Action, Drama, Musical            '), ('', 'Crime, Action            '), ('', 'nan'), ('A', 'Comedy, Crime, Drama            '), ('U', 'Drama, Fantasy, Musical            '), ('', 'Comedy, Crime            '), ('Not Rated', 'Crime, Drama, Romance            '), ('UA', 'Family, Romance            '), ('U', 'Drama, Family, Fantasy            '), ('A', 'Action, Drama, Crime            '), ('U', 'Drama, Horror            '), ('U', 'Family, Romance            '), ('', 'Action, Crime            '), ('', 'Comedy, Drama, Family            '), ('Unrated', 'Fantasy, Musical, Sci-Fi            '), ('U', 'Animation, Drama, Musical            '), ('UA', 'Fantasy            '), ('', 'Comedy, Crime, Drama            '), ('U', 'Adventure, Sport            '), ('', 'Comedy, Crime, Horror            '), ('U', 'Musical, Drama, Fantasy            '), ('UA', 'Comedy, Drama, Thriller            '), ('', 'Horror            '), ('A', 'Romance            '), ('U', 'Drama, Comedy, Family            '), ('', 'Comedy, Horror            '), ('', 'History            '), ('U', 'Musical, Comedy, Drama            '), ('U', 'Drama, Fantasy, History            '), ('', 'Adventure, Comedy, Fantasy            '), ('A', 'Action, Drama, Sci-Fi            '), ('U', 'Comedy, Crime            '), ('U/A', 'Comedy, Romance            '), ('U', 'Comedy, Family            '), ('U', 'Musical, Drama, Action            '), ('U', 'Drama, War            '), ('', 'Comedy, Horror, Thriller            '), ('', 'Adventure            '), ('U', 'Drama, Action, Romance            '), ('A', 'Action, Crime, Family            ')]\u001b[0m\n",
      "Answer:\u001b[32;1m\u001b[1;3mThe common thing among all movies is the combination of `Certificate` and `Genre`.\u001b[0m\n",
      "\u001b[1m> Finished chain.\u001b[0m\n"
     ]
    },
    {
     "data": {
      "text/plain": [
       "'The common thing among all movies is the combination of `Certificate` and `Genre`.'"
      ]
     },
     "execution_count": 30,
     "metadata": {},
     "output_type": "execute_result"
    }
   ],
   "source": [
    "generate(\"what is the same thing among all movies ?\")"
   ]
  },
  {
   "cell_type": "code",
   "execution_count": null,
   "metadata": {},
   "outputs": [
    {
     "name": "stdout",
     "output_type": "stream",
     "text": [
      "\n",
      "\n",
      "\u001b[1m> Entering new SQLDatabaseChain chain...\u001b[0m\n",
      "arjun reddy movie row  and its overview?\n",
      "SQLQuery:\u001b[32;1m\u001b[1;3mSELECT `ID`, `movie`, `Overview` \n",
      "FROM telugumovies_dataset \n",
      "WHERE movie = 'Arjun Reddy'\n",
      "LIMIT 1;\u001b[0m\n",
      "SQLResult: \u001b[33;1m\u001b[1;3m[(8, 'Arjun Reddy', '    Arjun Reddy, a short tempered house surgeon gets used to drugs and drinks when his girlfriend is forced to marry another person.')]\u001b[0m\n",
      "Answer:\u001b[32;1m\u001b[1;3mArjun Reddy movie row and its overview:\n",
      "Arjun Reddy, a short tempered house surgeon gets used to drugs and drinks when his girlfriend is forced to marry another person.\u001b[0m\n",
      "\u001b[1m> Finished chain.\u001b[0m\n"
     ]
    },
    {
     "data": {
      "text/plain": [
       "'The movie \"Arjun Reddy\" is about a short-tempered house surgeon who turns to drugs and alcohol after his girlfriend is forced to marry someone else.'"
      ]
     },
     "execution_count": 29,
     "metadata": {},
     "output_type": "execute_result"
    }
   ],
   "source": [
    "generate(\"arjun reddy movie row and its overview?\")"
   ]
  }
 ],
 "metadata": {
  "kernelspec": {
   "display_name": "Python 3",
   "language": "python",
   "name": "python3"
  },
  "language_info": {
   "codemirror_mode": {
    "name": "ipython",
    "version": 3
   },
   "file_extension": ".py",
   "mimetype": "text/x-python",
   "name": "python",
   "nbconvert_exporter": "python",
   "pygments_lexer": "ipython3",
   "version": "3.11.5"
  }
 },
 "nbformat": 4,
 "nbformat_minor": 2
}
