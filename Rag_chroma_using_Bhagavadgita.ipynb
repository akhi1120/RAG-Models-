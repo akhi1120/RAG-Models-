{
 "cells": [
  {
   "cell_type": "markdown",
   "metadata": {},
   "source": [
    "# setting environment parameter"
   ]
  },
  {
   "cell_type": "code",
   "execution_count": 1,
   "metadata": {},
   "outputs": [],
   "source": [
    "import os\n",
    "os.environ[\"OPENAI_API_KEY\"]=\"Your API Key\""
   ]
  },
  {
   "cell_type": "markdown",
   "metadata": {},
   "source": [
    "# Importing  Necessary modules"
   ]
  },
  {
   "cell_type": "code",
   "execution_count": 2,
   "metadata": {},
   "outputs": [],
   "source": [
    "from langchain_openai import OpenAIEmbeddings\n",
    "from langchain.text_splitter import CharacterTextSplitter\n",
    "from langchain.vectorstores import Chroma\n",
    "from langchain.document_loaders import PyPDFLoader\n",
    "\n",
    "CHROMA_PATH = \".\\chroma5\""
   ]
  },
  {
   "cell_type": "markdown",
   "metadata": {},
   "source": [
    "# Load the data into chromaDB"
   ]
  },
  {
   "cell_type": "code",
   "execution_count": 8,
   "metadata": {},
   "outputs": [
    {
     "ename": "",
     "evalue": "",
     "output_type": "error",
     "traceback": [
      "\u001b[1;31mThe Kernel crashed while executing code in the current cell or a previous cell. \n",
      "\u001b[1;31mPlease review the code in the cell(s) to identify a possible cause of the failure. \n",
      "\u001b[1;31mClick <a href='https://aka.ms/vscodeJupyterKernelCrash'>here</a> for more info. \n",
      "\u001b[1;31mView Jupyter <a href='command:jupyter.viewOutput'>log</a> for further details."
     ]
    }
   ],
   "source": [
    "embeddings = OpenAIEmbeddings()\n",
    "loaders = PyPDFLoader(\"C:\\\\Users\\\\akhil\\\\Downloads\\\\Gen-AI_Internship\\\\Bhagavad-gita-Swami-BG-Narasingha.pdf\")\n",
    "\n",
    "documents = loaders.load()\n",
    "\n",
    "db = Chroma.from_documents(\n",
    "    documents,\n",
    "    OpenAIEmbeddings(),\n",
    "    persist_directory=CHROMA_PATH\n",
    "  )\n",
    "db.persist()\n"
   ]
  },
  {
   "cell_type": "markdown",
   "metadata": {},
   "source": [
    "# Defining prompt template"
   ]
  },
  {
   "cell_type": "code",
   "execution_count": 3,
   "metadata": {},
   "outputs": [],
   "source": [
    "PROMPT_TEMPLATE = \"\"\"\n",
    "Answer the question based only on the following context:\n",
    "{context}\n",
    " - -\n",
    "Answer the question based on the above context: {question}\n",
    "\"\"\""
   ]
  },
  {
   "cell_type": "code",
   "execution_count": 4,
   "metadata": {},
   "outputs": [],
   "source": [
    "from langchain_openai import ChatOpenAI\n",
    "from langchain.prompts import ChatPromptTemplate"
   ]
  },
  {
   "cell_type": "code",
   "execution_count": null,
   "metadata": {},
   "outputs": [],
   "source": [
    "def query_rag(query_text):\n",
    "  \"\"\"\n",
    "  Query a Retrieval-Augmented Generation (RAG) system using Chroma database and OpenAI.\n",
    "  Args:\n",
    "    - query_text (str): The text to query the RAG system with.\n",
    "  Returns:\n",
    "    - formatted_response (str): Formatted response including the generated text and sources.\n",
    "    - response_text (str): The generated response text.\n",
    "  \"\"\"\n",
    "  # YOU MUST - Use same embedding function as before\n",
    "  embedding_function = OpenAIEmbeddings()\n",
    "\n",
    "  # Prepare the database\n",
    "  db = Chroma(persist_directory=CHROMA_PATH, embedding_function=embedding_function)\n",
    "  \n",
    "  # Retrieving the context from the DB using similarity search\n",
    "  results = db.similarity_search_with_relevance_scores(query_text, k=3)\n",
    "\n",
    "  # Check if there are any matching results or if the relevance score is too low\n",
    "  # if len(results) == 0 or results[0][1] < 0.7:\n",
    "  #   print(f\"Unable to find matching results.\")\n",
    "\n",
    "  # Combine context from matching documents\n",
    "  context_text = \"\\n\\n - -\\n\\n\".join([doc.page_content for doc, _score in results])\n",
    " \n",
    "  # Create prompt template using context and query text\n",
    "  prompt_template = ChatPromptTemplate.from_template(PROMPT_TEMPLATE)\n",
    "  prompt = prompt_template.format(context=context_text, question=query_text)\n",
    "  \n",
    "  # Initialize OpenAI chat model\n",
    "  model = ChatOpenAI()\n",
    "\n",
    "  # Generate response text based on the prompt\n",
    "  response_text = model.predict(prompt)\n",
    " \n",
    "   # Get sources of the matching documents\n",
    "  sources = [doc.metadata.get(\"source\", None) for doc, _score in results]\n",
    " \n",
    "  # Format and return response including generated text and sources\n",
    "  formatted_response = f\"Response: {response_text}\\nSources: {sources}\"\n",
    "  return formatted_response, response_text\n"
   ]
  },
  {
   "cell_type": "markdown",
   "metadata": {},
   "source": [
    "# Ask Questions"
   ]
  },
  {
   "cell_type": "code",
   "execution_count": 6,
   "metadata": {},
   "outputs": [
    {
     "name": "stderr",
     "output_type": "stream",
     "text": [
      "C:\\Users\\akhil\\AppData\\Local\\Temp\\ipykernel_28160\\3764950876.py:14: LangChainDeprecationWarning: The class `Chroma` was deprecated in LangChain 0.2.9 and will be removed in 1.0. An updated version of the class exists in the :class:`~langchain-chroma package and should be used instead. To use it run `pip install -U :class:`~langchain-chroma` and import as `from :class:`~langchain_chroma import Chroma``.\n",
      "  db = Chroma(persist_directory=CHROMA_PATH, embedding_function=embedding_function)\n",
      "C:\\Users\\akhil\\AppData\\Local\\Temp\\ipykernel_28160\\3764950876.py:34: LangChainDeprecationWarning: The method `BaseChatModel.predict` was deprecated in langchain-core 0.1.7 and will be removed in 1.0. Use :meth:`~invoke` instead.\n",
      "  response_text = model.predict(prompt)\n"
     ]
    },
    {
     "name": "stdout",
     "output_type": "stream",
     "text": [
      "The Bhagavadgita is a sacred Hindu scripture that is part of the Indian epic Mahabharata.\n"
     ]
    }
   ],
   "source": [
    "query_text=\"what is Bhagavadgita?\"\n",
    "formatted_response,response_text=query_rag(query_text)\n",
    "print(response_text)"
   ]
  },
  {
   "cell_type": "code",
   "execution_count": 7,
   "metadata": {},
   "outputs": [
    {
     "name": "stdout",
     "output_type": "stream",
     "text": [
      "Bhagavadgita is a sacred Hindu scripture that is considered a spiritual and philosophical guide.\n"
     ]
    }
   ],
   "source": [
    "# whenever we ask the same querie again it will give diffrent response.\n",
    "query_text=\"what is Bhagavadgita?\"\n",
    "formatted_response,response_text=query_rag(query_text)\n",
    "print(response_text)"
   ]
  },
  {
   "cell_type": "code",
   "execution_count": 8,
   "metadata": {},
   "outputs": [
    {
     "name": "stdout",
     "output_type": "stream",
     "text": [
      "Mangalacarana refers to an auspicious invocation or introductory verse typically found at the beginning of a text or a performance in Hindu culture.\n"
     ]
    }
   ],
   "source": [
    "query_text=\"what is Mangalacarana?\"\n",
    "formatted_response,response_text=query_rag(query_text)\n",
    "print(response_text)"
   ]
  },
  {
   "cell_type": "code",
   "execution_count": 11,
   "metadata": {},
   "outputs": [
    {
     "name": "stdout",
     "output_type": "stream",
     "text": [
      "Arjuna fought in the Kurukshetra war.\n"
     ]
    }
   ],
   "source": [
    "query_text=\"what Arjuna did?\"\n",
    "formatted_response,response_text=query_rag(query_text)\n",
    "print(response_text)"
   ]
  },
  {
   "cell_type": "code",
   "execution_count": 12,
   "metadata": {},
   "outputs": [
    {
     "name": "stdout",
     "output_type": "stream",
     "text": [
      "The Kurukshetra war happened in the Mahabharata due to a conflict over the throne of Hastinapura between the Pandavas and the Kauravas, as well as various other complicated family and political issues.\n"
     ]
    }
   ],
   "source": [
    "query_text=\" why kurukshetra war happened in mahabharata?\"\n",
    "formatted_response,response_text=query_rag(query_text)\n",
    "print(response_text)"
   ]
  },
  {
   "cell_type": "code",
   "execution_count": 14,
   "metadata": {},
   "outputs": [
    {
     "name": "stdout",
     "output_type": "stream",
     "text": [
      "The Kauravas are a group of characters in the Indian epic Mahabharata who are the hundred sons of King Dhritarashtra and Queen Gandhari.\n"
     ]
    }
   ],
   "source": [
    "query_text=\"who are kauravas?\"\n",
    "formatted_response,response_text=query_rag(query_text)\n",
    "print(response_text)"
   ]
  },
  {
   "cell_type": "code",
   "execution_count": 15,
   "metadata": {},
   "outputs": [
    {
     "name": "stdout",
     "output_type": "stream",
     "text": [
      "The father of the Pandavas is King Pandu.\n"
     ]
    }
   ],
   "source": [
    "query_text=\"who is the father of pandavas?\"\n",
    "formatted_response,response_text=query_rag(query_text)\n",
    "print(response_text)"
   ]
  },
  {
   "cell_type": "code",
   "execution_count": 16,
   "metadata": {},
   "outputs": [
    {
     "name": "stdout",
     "output_type": "stream",
     "text": [
      "Duryodhana, Dushasana, Dussala, Duhsaha, Duhsala, Jalagandha, Sama, Saha, Vinda, Anuvinda, Chitrasena, Sudarshana, Charuchitra, Suvarchala, Dushpradharsha, Durmarshana, Durmukha, Dushkarna, Vivinsati, Vikarna, Urnabha, Aniruddha, Pratimaujas, Pratiprabha, Subahu, Subala, Sushena, Kundodara, Mahodara, Chitravarman, Chitravarma, Chitravarman, Citravarman, Citravarman, Pramathi, Pramathi, Kamatha, Kamatha, Sama.\n"
     ]
    }
   ],
   "source": [
    "query_text=\"provide me names of kauravas?\"\n",
    "formatted_response,response_text=query_rag(query_text)\n",
    "print(response_text)"
   ]
  },
  {
   "cell_type": "code",
   "execution_count": 17,
   "metadata": {},
   "outputs": [
    {
     "name": "stdout",
     "output_type": "stream",
     "text": [
      "1. Duryodhana\n",
      "2. Dushasana\n",
      "3. Dussala\n",
      "4. Duhsaha\n",
      "5. Duhsala\n",
      "6. Jalagandha\n",
      "7. Sama\n",
      "8. Saha\n",
      "9. Vinda\n",
      "10. Anuvinda\n",
      "11. Durmukha\n",
      "12. Chitrasena\n",
      "13. Vivinsati\n",
      "14. Vikarna\n",
      "15. Bhurisravas\n",
      "16. Bhagadatta\n",
      "17. Subala\n",
      "18. Shakuni\n"
     ]
    }
   ],
   "source": [
    "query_text=\"provide me names of all  kauravas?\"\n",
    "formatted_response,response_text=query_rag(query_text)\n",
    "print(response_text)"
   ]
  },
  {
   "cell_type": "code",
   "execution_count": 18,
   "metadata": {},
   "outputs": [
    {
     "name": "stdout",
     "output_type": "stream",
     "text": [
      "Duryodhana, Dushasana, Dussala, Duryodhana's 97 brothers (not all of whom are named)\n"
     ]
    }
   ],
   "source": [
    "query_text=\"provide me names of kauravas?\"\n",
    "formatted_response,response_text=query_rag(query_text)\n",
    "print(response_text)"
   ]
  },
  {
   "cell_type": "code",
   "execution_count": 19,
   "metadata": {},
   "outputs": [
    {
     "name": "stdout",
     "output_type": "stream",
     "text": [
      "Yashoda\n"
     ]
    }
   ],
   "source": [
    "query_text=\"who is the mother of krihna?\"\n",
    "formatted_response,response_text=query_rag(query_text)\n",
    "print(response_text)"
   ]
  },
  {
   "cell_type": "code",
   "execution_count": 21,
   "metadata": {},
   "outputs": [
    {
     "name": "stdout",
     "output_type": "stream",
     "text": [
      "Krishna acted as the charioteer for Arjuna in the Kurukshetra war.\n"
     ]
    }
   ],
   "source": [
    "query_text=\"what krishna do in kurukshetra war?\"\n",
    "formatted_response,response_text=query_rag(query_text)\n",
    "print(response_text)"
   ]
  },
  {
   "cell_type": "code",
   "execution_count": 26,
   "metadata": {},
   "outputs": [
    {
     "name": "stdout",
     "output_type": "stream",
     "text": [
      "The moral of the Bhagavad Gita is to fulfill one's duty and responsibilities without attachment to the outcomes, and to strive for self-realization and spiritual growth.\n"
     ]
    }
   ],
   "source": [
    "query_text=\"what is the morsl of the bagavadgita?\"\n",
    "formatted_response,response_text=query_rag(query_text)\n",
    "print(response_text)"
   ]
  },
  {
   "cell_type": "code",
   "execution_count": 30,
   "metadata": {},
   "outputs": [
    {
     "name": "stdout",
     "output_type": "stream",
     "text": [
      "Arjuna faced struggles such as moral dilemmas, doubts about fighting his own relatives, and the pressure of fulfilling his duty as a warrior.\n"
     ]
    }
   ],
   "source": [
    "query_text=\"what are the struggles faced arjuna in the war?\"\n",
    "formatted_response,response_text=query_rag(query_text)\n",
    "print(response_text)"
   ]
  },
  {
   "cell_type": "code",
   "execution_count": 32,
   "metadata": {},
   "outputs": [
    {
     "name": "stdout",
     "output_type": "stream",
     "text": [
      "Based on the given context, the son of Kunti is Arjuna.\n"
     ]
    }
   ],
   "source": [
    "query_text=\"who is the son of kunti?\"\n",
    "formatted_response,response_text=query_rag(query_text)\n",
    "print(response_text)"
   ]
  },
  {
   "cell_type": "code",
   "execution_count": 37,
   "metadata": {},
   "outputs": [
    {
     "name": "stdout",
     "output_type": "stream",
     "text": [
      "The yogas mentioned in the Bhagavad Gita are Karma Yoga, Bhakti Yoga, Jnana Yoga, and Dhyana Yoga.\n"
     ]
    }
   ],
   "source": [
    "query_text=\"what are the yogas mentioned in bagavadgita?\"\n",
    "formatted_response,response_text=query_rag(query_text)\n",
    "print(response_text)"
   ]
  },
  {
   "cell_type": "code",
   "execution_count": 45,
   "metadata": {},
   "outputs": [
    {
     "name": "stdout",
     "output_type": "stream",
     "text": [
      "Ksatriya refers to the warrior caste in Hindu society and in the Bhagavad Gita, Ksatriya refers to Arjuna, the warrior prince and main character of the epic poem.\n"
     ]
    }
   ],
   "source": [
    "query_text=\"what is ksatriya and what refers ksatriya in bagavadgita?\"\n",
    "formatted_response,response_text=query_rag(query_text)\n",
    "print(response_text)"
   ]
  },
  {
   "cell_type": "code",
   "execution_count": null,
   "metadata": {},
   "outputs": [],
   "source": []
  }
 ],
 "metadata": {
  "kernelspec": {
   "display_name": "Python 3",
   "language": "python",
   "name": "python3"
  },
  "language_info": {
   "codemirror_mode": {
    "name": "ipython",
    "version": 3
   },
   "file_extension": ".py",
   "mimetype": "text/x-python",
   "name": "python",
   "nbconvert_exporter": "python",
   "pygments_lexer": "ipython3",
   "version": "3.11.5"
  }
 },
 "nbformat": 4,
 "nbformat_minor": 2
}
