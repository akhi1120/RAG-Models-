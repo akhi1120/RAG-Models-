{
 "cells": [
  {
   "cell_type": "code",
   "execution_count": 1,
   "metadata": {},
   "outputs": [
    {
     "name": "stdout",
     "output_type": "stream",
     "text": [
      "Requirement already satisfied: langchain in c:\\users\\akhil\\appdata\\local\\programs\\python\\python311\\lib\\site-packages (0.3.7)\n",
      "Requirement already satisfied: langchain-experimental in c:\\users\\akhil\\appdata\\local\\programs\\python\\python311\\lib\\site-packages (0.3.3)\n",
      "Requirement already satisfied: openai in c:\\users\\akhil\\appdata\\local\\programs\\python\\python311\\lib\\site-packages (1.54.0)\n",
      "Requirement already satisfied: pymysql in c:\\users\\akhil\\appdata\\local\\programs\\python\\python311\\lib\\site-packages (1.1.1)\n",
      "Requirement already satisfied: PyYAML>=5.3 in c:\\users\\akhil\\appdata\\local\\programs\\python\\python311\\lib\\site-packages (from langchain) (6.0.2)\n",
      "Requirement already satisfied: SQLAlchemy<3,>=1.4 in c:\\users\\akhil\\appdata\\local\\programs\\python\\python311\\lib\\site-packages (from langchain) (2.0.35)\n",
      "Requirement already satisfied: aiohttp<4.0.0,>=3.8.3 in c:\\users\\akhil\\appdata\\local\\programs\\python\\python311\\lib\\site-packages (from langchain) (3.10.10)\n",
      "Requirement already satisfied: langchain-core<0.4.0,>=0.3.15 in c:\\users\\akhil\\appdata\\local\\programs\\python\\python311\\lib\\site-packages (from langchain) (0.3.17)\n",
      "Requirement already satisfied: langchain-text-splitters<0.4.0,>=0.3.0 in c:\\users\\akhil\\appdata\\local\\programs\\python\\python311\\lib\\site-packages (from langchain) (0.3.2)\n",
      "Requirement already satisfied: langsmith<0.2.0,>=0.1.17 in c:\\users\\akhil\\appdata\\local\\programs\\python\\python311\\lib\\site-packages (from langchain) (0.1.143)\n",
      "Requirement already satisfied: numpy<2,>=1 in c:\\users\\akhil\\appdata\\local\\programs\\python\\python311\\lib\\site-packages (from langchain) (1.26.4)\n",
      "Requirement already satisfied: pydantic<3.0.0,>=2.7.4 in c:\\users\\akhil\\appdata\\local\\programs\\python\\python311\\lib\\site-packages (from langchain) (2.9.2)\n",
      "Requirement already satisfied: requests<3,>=2 in c:\\users\\akhil\\appdata\\local\\programs\\python\\python311\\lib\\site-packages (from langchain) (2.32.3)\n",
      "Requirement already satisfied: tenacity!=8.4.0,<10,>=8.1.0 in c:\\users\\akhil\\appdata\\local\\programs\\python\\python311\\lib\\site-packages (from langchain) (8.5.0)\n",
      "Requirement already satisfied: langchain-community<0.4.0,>=0.3.0 in c:\\users\\akhil\\appdata\\local\\programs\\python\\python311\\lib\\site-packages (from langchain-experimental) (0.3.7)\n",
      "Requirement already satisfied: anyio<5,>=3.5.0 in c:\\users\\akhil\\appdata\\local\\programs\\python\\python311\\lib\\site-packages (from openai) (4.6.2.post1)\n",
      "Requirement already satisfied: distro<2,>=1.7.0 in c:\\users\\akhil\\appdata\\local\\programs\\python\\python311\\lib\\site-packages (from openai) (1.9.0)\n",
      "Requirement already satisfied: httpx<1,>=0.23.0 in c:\\users\\akhil\\appdata\\local\\programs\\python\\python311\\lib\\site-packages (from openai) (0.27.2)\n",
      "Requirement already satisfied: jiter<1,>=0.4.0 in c:\\users\\akhil\\appdata\\local\\programs\\python\\python311\\lib\\site-packages (from openai) (0.7.0)\n",
      "Requirement already satisfied: sniffio in c:\\users\\akhil\\appdata\\local\\programs\\python\\python311\\lib\\site-packages (from openai) (1.3.1)\n",
      "Requirement already satisfied: tqdm>4 in c:\\users\\akhil\\appdata\\local\\programs\\python\\python311\\lib\\site-packages (from openai) (4.67.0)\n",
      "Requirement already satisfied: typing-extensions<5,>=4.11 in c:\\users\\akhil\\appdata\\roaming\\python\\python311\\site-packages (from openai) (4.12.2)\n",
      "Requirement already satisfied: aiohappyeyeballs>=2.3.0 in c:\\users\\akhil\\appdata\\local\\programs\\python\\python311\\lib\\site-packages (from aiohttp<4.0.0,>=3.8.3->langchain) (2.4.3)\n",
      "Requirement already satisfied: aiosignal>=1.1.2 in c:\\users\\akhil\\appdata\\local\\programs\\python\\python311\\lib\\site-packages (from aiohttp<4.0.0,>=3.8.3->langchain) (1.3.1)\n",
      "Requirement already satisfied: attrs>=17.3.0 in c:\\users\\akhil\\appdata\\local\\programs\\python\\python311\\lib\\site-packages (from aiohttp<4.0.0,>=3.8.3->langchain) (24.2.0)\n",
      "Requirement already satisfied: frozenlist>=1.1.1 in c:\\users\\akhil\\appdata\\local\\programs\\python\\python311\\lib\\site-packages (from aiohttp<4.0.0,>=3.8.3->langchain) (1.5.0)\n",
      "Requirement already satisfied: multidict<7.0,>=4.5 in c:\\users\\akhil\\appdata\\local\\programs\\python\\python311\\lib\\site-packages (from aiohttp<4.0.0,>=3.8.3->langchain) (6.1.0)\n",
      "Requirement already satisfied: yarl<2.0,>=1.12.0 in c:\\users\\akhil\\appdata\\local\\programs\\python\\python311\\lib\\site-packages (from aiohttp<4.0.0,>=3.8.3->langchain) (1.17.1)\n",
      "Requirement already satisfied: idna>=2.8 in c:\\users\\akhil\\appdata\\local\\programs\\python\\python311\\lib\\site-packages (from anyio<5,>=3.5.0->openai) (3.10)\n",
      "Requirement already satisfied: certifi in c:\\users\\akhil\\appdata\\local\\programs\\python\\python311\\lib\\site-packages (from httpx<1,>=0.23.0->openai) (2024.8.30)\n",
      "Requirement already satisfied: httpcore==1.* in c:\\users\\akhil\\appdata\\local\\programs\\python\\python311\\lib\\site-packages (from httpx<1,>=0.23.0->openai) (1.0.6)\n",
      "Requirement already satisfied: h11<0.15,>=0.13 in c:\\users\\akhil\\appdata\\local\\programs\\python\\python311\\lib\\site-packages (from httpcore==1.*->httpx<1,>=0.23.0->openai) (0.14.0)\n",
      "Requirement already satisfied: dataclasses-json<0.7,>=0.5.7 in c:\\users\\akhil\\appdata\\local\\programs\\python\\python311\\lib\\site-packages (from langchain-community<0.4.0,>=0.3.0->langchain-experimental) (0.6.7)\n",
      "Requirement already satisfied: httpx-sse<0.5.0,>=0.4.0 in c:\\users\\akhil\\appdata\\local\\programs\\python\\python311\\lib\\site-packages (from langchain-community<0.4.0,>=0.3.0->langchain-experimental) (0.4.0)\n",
      "Requirement already satisfied: pydantic-settings<3.0.0,>=2.4.0 in c:\\users\\akhil\\appdata\\local\\programs\\python\\python311\\lib\\site-packages (from langchain-community<0.4.0,>=0.3.0->langchain-experimental) (2.6.1)\n",
      "Requirement already satisfied: jsonpatch<2.0,>=1.33 in c:\\users\\akhil\\appdata\\local\\programs\\python\\python311\\lib\\site-packages (from langchain-core<0.4.0,>=0.3.15->langchain) (1.33)\n",
      "Requirement already satisfied: packaging<25,>=23.2 in c:\\users\\akhil\\appdata\\roaming\\python\\python311\\site-packages (from langchain-core<0.4.0,>=0.3.15->langchain) (24.2)\n",
      "Requirement already satisfied: orjson<4.0.0,>=3.9.14 in c:\\users\\akhil\\appdata\\local\\programs\\python\\python311\\lib\\site-packages (from langsmith<0.2.0,>=0.1.17->langchain) (3.10.11)\n",
      "Requirement already satisfied: requests-toolbelt<2.0.0,>=1.0.0 in c:\\users\\akhil\\appdata\\local\\programs\\python\\python311\\lib\\site-packages (from langsmith<0.2.0,>=0.1.17->langchain) (1.0.0)\n",
      "Requirement already satisfied: annotated-types>=0.6.0 in c:\\users\\akhil\\appdata\\local\\programs\\python\\python311\\lib\\site-packages (from pydantic<3.0.0,>=2.7.4->langchain) (0.7.0)\n",
      "Requirement already satisfied: pydantic-core==2.23.4 in c:\\users\\akhil\\appdata\\local\\programs\\python\\python311\\lib\\site-packages (from pydantic<3.0.0,>=2.7.4->langchain) (2.23.4)\n",
      "Requirement already satisfied: charset-normalizer<4,>=2 in c:\\users\\akhil\\appdata\\local\\programs\\python\\python311\\lib\\site-packages (from requests<3,>=2->langchain) (3.4.0)\n",
      "Requirement already satisfied: urllib3<3,>=1.21.1 in c:\\users\\akhil\\appdata\\local\\programs\\python\\python311\\lib\\site-packages (from requests<3,>=2->langchain) (2.2.3)\n",
      "Requirement already satisfied: greenlet!=0.4.17 in c:\\users\\akhil\\appdata\\local\\programs\\python\\python311\\lib\\site-packages (from SQLAlchemy<3,>=1.4->langchain) (3.1.1)\n",
      "Requirement already satisfied: colorama in c:\\users\\akhil\\appdata\\roaming\\python\\python311\\site-packages (from tqdm>4->openai) (0.4.6)\n",
      "Requirement already satisfied: marshmallow<4.0.0,>=3.18.0 in c:\\users\\akhil\\appdata\\local\\programs\\python\\python311\\lib\\site-packages (from dataclasses-json<0.7,>=0.5.7->langchain-community<0.4.0,>=0.3.0->langchain-experimental) (3.23.1)\n",
      "Requirement already satisfied: typing-inspect<1,>=0.4.0 in c:\\users\\akhil\\appdata\\local\\programs\\python\\python311\\lib\\site-packages (from dataclasses-json<0.7,>=0.5.7->langchain-community<0.4.0,>=0.3.0->langchain-experimental) (0.9.0)\n",
      "Requirement already satisfied: jsonpointer>=1.9 in c:\\users\\akhil\\appdata\\local\\programs\\python\\python311\\lib\\site-packages (from jsonpatch<2.0,>=1.33->langchain-core<0.4.0,>=0.3.15->langchain) (3.0.0)\n",
      "Requirement already satisfied: python-dotenv>=0.21.0 in c:\\users\\akhil\\appdata\\local\\programs\\python\\python311\\lib\\site-packages (from pydantic-settings<3.0.0,>=2.4.0->langchain-community<0.4.0,>=0.3.0->langchain-experimental) (1.0.1)\n",
      "Requirement already satisfied: propcache>=0.2.0 in c:\\users\\akhil\\appdata\\local\\programs\\python\\python311\\lib\\site-packages (from yarl<2.0,>=1.12.0->aiohttp<4.0.0,>=3.8.3->langchain) (0.2.0)\n",
      "Requirement already satisfied: mypy-extensions>=0.3.0 in c:\\users\\akhil\\appdata\\local\\programs\\python\\python311\\lib\\site-packages (from typing-inspect<1,>=0.4.0->dataclasses-json<0.7,>=0.5.7->langchain-community<0.4.0,>=0.3.0->langchain-experimental) (1.0.0)\n"
     ]
    }
   ],
   "source": [
    "!pip install langchain langchain-experimental openai pymysql"
   ]
  },
  {
   "cell_type": "markdown",
   "metadata": {},
   "source": [
    "# Importing Necessary Packages"
   ]
  },
  {
   "cell_type": "code",
   "execution_count": 2,
   "metadata": {},
   "outputs": [],
   "source": [
    "from langchain.utilities import SQLDatabase\n",
    "from langchain.llms import OpenAI\n",
    "from langchain_experimental.sql import SQLDatabaseChain\n",
    "from langchain.prompts import PromptTemplate\n",
    "from langchain.prompts.chat import HumanMessagePromptTemplate\n",
    "from langchain.chat_models import ChatOpenAI\n",
    "from langchain.schema import HumanMessage, SystemMessage"
   ]
  },
  {
   "cell_type": "code",
   "execution_count": 3,
   "metadata": {},
   "outputs": [
    {
     "name": "stderr",
     "output_type": "stream",
     "text": [
      "C:\\Users\\akhil\\AppData\\Local\\Temp\\ipykernel_19556\\1703113971.py:2: LangChainDeprecationWarning: The class `ChatOpenAI` was deprecated in LangChain 0.0.10 and will be removed in 1.0. An updated version of the class exists in the :class:`~langchain-openai package and should be used instead. To use it run `pip install -U :class:`~langchain-openai` and import as `from :class:`~langchain_openai import ChatOpenAI``.\n",
      "  llm = ChatOpenAI(temperature=0, openai_api_key=OPENAI_API_KEY)\n"
     ]
    }
   ],
   "source": [
    "OPENAI_API_KEY = \"Your API Key\"\n",
    "llm = ChatOpenAI(temperature=0, openai_api_key=OPENAI_API_KEY)"
   ]
  },
  {
   "cell_type": "markdown",
   "metadata": {},
   "source": [
    "# Database setup"
   ]
  },
  {
   "cell_type": "code",
   "execution_count": 13,
   "metadata": {},
   "outputs": [],
   "source": [
    "host = 'localhost'\n",
    "port = '3306'\n",
    "username = 'root'\n",
    "# password \n",
    "database_schema = 'mydb'\n",
    "mysql_uri = f\"mysql+pymysql://{username}@{host}:{port}/{database_schema}\"\n",
    "# mysql_uri = f\"mysql+pymysql://{username:password}@{host}:{port}/{database_schema}\"\n",
    "db = SQLDatabase.from_uri(mysql_uri, include_tables=['p6_uk_bank_customers'],sample_rows_in_table_info=2)\n",
    "db_chain = SQLDatabaseChain.from_llm(llm, db, verbose=True)"
   ]
  },
  {
   "cell_type": "code",
   "execution_count": 14,
   "metadata": {},
   "outputs": [],
   "source": [
    "def retrieve_from_db(query: str) -> str:\n",
    "    db_context = db_chain(query)\n",
    "    db_context = db_context['result'].strip()\n",
    "    return db_context"
   ]
  },
  {
   "cell_type": "code",
   "execution_count": 17,
   "metadata": {},
   "outputs": [],
   "source": [
    "def generate(query: str) -> str:\n",
    "    db_context = retrieve_from_db(query)\n",
    "    \n",
    "    system_message = \"\"\"You are a database expert specializing in customer segmentation, balance prediction, or understanding customer demographics.\n",
    "        your task is to answer users' questions by providing relevant information from a database of training data.\n",
    "        Tha database contaims the following information for each individual:\n",
    "        -Customer ID: A unique identifier for each customer(discrete)\n",
    "        -Name: The first name of the customer(categorical)\n",
    "        -Surname: The last name of the customer(categorical)\n",
    "        -Gender: The gender of the customer (discrete) (Male/Female)\n",
    "        -Age: The age of the customer(discrete)\n",
    "        -Region: The region where the customer resides(categorical)\n",
    "        -Job Classification: The type of job ( White Collar, Blue Collar)(categorical)\n",
    "        -Date Joined: The date the customer joined the bank(categorical)\n",
    "        -Balance: The current balance in the customer's account(continous)\n",
    "\n",
    "        Example:\n",
    "\n",
    "        Input:\n",
    "        Which region has the most customers?\n",
    "\n",
    "        context:\n",
    "        Analyzing customer distribution across regions helps the bank identify its strongest customer base geographically.\n",
    "        \n",
    "        Output:\n",
    "        The region with the most customers is England, with 2,159 customers\n",
    "        \"\"\"\n",
    "    human_qry_template = HumanMessagePromptTemplate.from_template(\n",
    "        \"\"\"Input:\n",
    "        {human_input}\n",
    "        \n",
    "        Context:\n",
    "        {db_context}\n",
    "        \n",
    "        Output:\n",
    "        \"\"\"\n",
    "    )\n",
    "    messages = [\n",
    "      SystemMessage(content=system_message),\n",
    "      human_qry_template.format(human_input=query, db_context=db_context)\n",
    "    ]\n",
    "    response = llm(messages).content\n",
    "    return response"
   ]
  },
  {
   "cell_type": "markdown",
   "metadata": {},
   "source": [
    "# Ask queries"
   ]
  },
  {
   "cell_type": "code",
   "execution_count": 18,
   "metadata": {},
   "outputs": [
    {
     "name": "stdout",
     "output_type": "stream",
     "text": [
      "\n",
      "\n",
      "\u001b[1m> Entering new SQLDatabaseChain chain...\u001b[0m\n",
      "Provide names of all people from England?\n",
      "SQLQuery:\u001b[32;1m\u001b[1;3mSELECT `Name`\n",
      "FROM p6_uk_bank_customers\n",
      "WHERE `Region` = 'England';\u001b[0m\n",
      "SQLResult: \u001b[33;1m\u001b[1;3m[('Simon',), ('Liam',), ('Deirdre',), ('Dorothy',), ('Dominic',), ('Dominic',), ('Benjamin',), ('Ryan',), ('Nicholas',), ('William',), ('Audrey',), ('Jennifer',), ('Alison',), ('Luke',), ('Megan',), ('Jake',), ('Karen',), ('Yvonne',), ('Sophie',), ('Robert',), ('Edward',), ('Diane',), ('Dorothy',), ('Simon',), ('Charles',), ('Sophie',), ('Kimberly',), ('Madeleine',), ('Irene',), ('Cameron',), ('Liam',), ('Donna',), ('Piers',), ('Phil',), ('Ryan',), ('Kylie',), ('Fiona',), ('Kevin',), ('Bernadette',), ('Frank',), ('Diane',), ('David',), ('Joan',), ('Neil',), ('Paul',), ('Dylan',), ('Pippa',), ('Matt',), ('Jack',), ('Jasmine',), ('Michelle',), ('Wanda',), ('Blake',), ('Jane',), ('Dan',), ('Lisa',), ('Rebecca',), ('Joshua',), ('Heather',), ('Maria',), ('Alison',), ('Amy',), ('Vanessa',), ('Andrea',), ('Ian',), ('Jacob',), ('Harry',), ('John',), ('Jonathan',), ('Benjamin',), ('Emma',), ('Virginia',), ('Peter',), ('Alison',), ('Anna',), ('James',), ('Ruth',), ('Owen',), ('Piers',), ('Christopher',), ('Sarah',), ('Richard',), ('Nicola',), ('Angela',), ('Sam',), ('Luke',), ('Sean',), ('Steven',), ('Andrew',), ('Jacob',), ('Madeleine',), ('Dylan',), ('Michelle',), ('Connor',), ('Justin',), ('Elizabeth',), ('Kevin',), ('Tim',), ('Charles',), ('Anthony',), ('Michael',), ('Lucas',), ('Alexander',), ('Diana',), ('Emma',), ('Amanda',), ('Blake',), ('Natalie',), ('John',), ('Nicholas',), ('Hannah',), ('Penelope',), ('Max',), ('Wendy',), ('Thomas',), ('Dan',), ('Dan',), ('Mary',), ('Austin',), ('Christian',), ('Peter',), ('Cameron',), ('Emma',), ('Pippa',), ('Wendy',), ('Vanessa',), ('Oliver',), ('Jane',), ('James',), ('Amanda',), ('Jennifer',), ('Blake',), ('Tim',), ('Jasmine',), ('Karen',), ('Oliver',), ('Fiona',), ('Yvonne',), ('Fiona',), ('Anna',), ('Wanda',), ('Blake',), ('Phil',), ('Christian',), ('Robert',), ('Eric',), ('Tracey',), ('Faith',), ('Alan',), ('Nathan',), ('Carolyn',), ('Theresa',), ('Alexander',), ('Maria',), ('Sally',), ('Jessica',), ('Lucas',), ('Christian',), ('Piers',), ('Gordon',), ('Connor',), ('Virginia',), ('Yvonne',), ('Dan',), ('Audrey',), ('Trevor',), ('Stewart',), ('Brian',), ('Jessica',), ('Carol',), ('Alison',), ('Natalie',), ('John',), ('Oliver',), ('Amanda',), ('Paul',), ('Brian',), ('Matt',), ('Justin',), ('Claire',), ('James',), ('Brandon',), ('Amelia',), ('Fiona',), ('Nicholas',), ('Lauren',), ('Stewart',), ('Diane',), ('Jake',), ('Rose',), ('Victor',), ('Brandon',), ('Maria',), ('Irene',), ('Blake',), ('Stephanie',), ('Sam',), ('Theresa',), ('Stephanie',), ('Lily',), ('Matt',), ('Ruth',), ('Peter',), ('Liam',), ('Olivia',), ('Joe',), ('Wanda',), ('Karen',), ('Nathan',), ('Brandon',), ('Penelope',), ('Sophie',), ('Anna',), ('Zoe',), ('Brian',), ('Andrea',), ('Kevin',), ('Phil',), ('Adrian',), ('John',), ('Alexander',), ('Felicity',), ('Lucas',), ('Blake',), ('Jessica',), ('Nicola',), ('Peter',), ('Mary',), ('Liam',), ('Anna',), ('John',), ('Ryan',), ('Adam',), ('Alison',), ('Joanne',), ('David',), ('Boris',), ('Felicity',), ('Dominic',), ('Megan',), ('Deirdre',), ('Wendy',), ('Jonathan',), ('Carolyn',), ('Carolyn',), ('Karen',), ('Tracey',), ('Tracey',), ('Jake',), ('Jasmine',), ('Christian',), ('Eric',), ('Anna',), ('Benjamin',), ('Joseph',), ('Emma',), ('Joan',), ('Samantha',), ('Harry',), ('Melanie',), ('Piers',), ('Kimberly',), ('Anthony',), ('Jasmine',), ('Jacob',), ('Leonard',), ('Kylie',), ('Ruth',), ('Stewart',), ('Cameron',), ('Dan',), ('Boris',), ('Samantha',), ('Kimberly',), ('Brian',), ('Wendy',), ('Isaac',), ('Bella',), ('Sean',), ('Justin',), ('Melanie',), ('Rose',), ('Christian',), ('Tracey',), ('Peter',), ('Kimberly',), ('Edward',), ('Eric',), ('Amanda',), ('Kevin',), ('Donna',), ('Chloe',), ('Bernadette',), ('Kevin',), ('Emma',), ('Deirdre',), ('Grace',), ('Victoria',), ('Pippa',), ('Penelope',), ('Alexander',), ('Joan',), ('Sonia',), ('Anne',), ('Chloe',), ('Ian',), ('Julia',), ('Donna',), ('Sue',), ('Jan',), ('Grace',), ('Jacob',), ('Lillian',), ('Brandon',), ('Joanne',), ('Leonard',), ('Grace',), ('Diane',), ('Alison',), ('Oliver',), ('Gabrielle',), ('Nicola',), ('Connor',), ('David',), ('Sam',), ('Dylan',), ('Michael',), ('Madeleine',), ('Yvonne',), ('Nathan',), ('Jane',), ('Angela',), ('Jasmine',), ('Ruth',), ('Alison',), ('Evan',), ('Andrew',), ('Lily',), ('Brian',), ('Rose',), ('David',), ('Amanda',), ('Eric',), ('Alison',), ('Brandon',), ('Dylan',), ('Emily',), ('Dominic',), ('Victoria',), ('Yvonne',), ('Ruth',), ('Kevin',), ('Michael',), ('Penelope',), ('David',), ('Jan',), ('Angela',), ('Julia',), ('Katherine',), ('Justin',), ('Una',), ('Brandon',), ('Jan',), ('Ruth',), ('Victor',), ('Ava',), ('Keith',), ('Wendy',), ('Joe',), ('Alexander',), ('Austin',), ('Sonia',), ('Penelope',), ('Christopher',), ('Kylie',), ('Brian',), ('Sonia',), ('Tracey',), ('Penelope',), ('Karen',), ('Fiona',), ('Gordon',), ('Steven',), ('Dylan',), ('Cameron',), ('Melanie',), ('Tracey',), ('Trevor',), ('Heather',), ('Jason',), ('Sean',), ('Amy',), ('Steven',), ('David',), ('Leonard',), ('Bella',), ('Felicity',), ('Nathan',), ('Gavin',), ('Donna',), ('Felicity',), ('Virginia',), ('Tim',), ('Lily',), ('Austin',), ('Victor',), ('Claire',), ('Carl',), ('Simon',), ('Amy',), ('Rebecca',), ('Sally',), ('Jack',), ('Evan',), ('Nicola',), ('Justin',), ('Max',), ('Joshua',), ('Sally',), ('Chloe',), ('Julia',), ('Jason',), ('Tracey',), ('Megan',), ('Felicity',), ('Ryan',), ('Rachel',), ('Joan',), ('Piers',), ('Sarah',), ('Lisa',), ('Vanessa',), ('Stephen',), ('Piers',), ('Alexandra',), ('Christopher',), ('Donna',), ('Faith',), ('Hannah',), ('Samantha',), ('Amelia',), ('Fiona',), ('Rose',), ('Jake',), ('Caroline',), ('Edward',), ('Christopher',), ('Andrea',), ('Deirdre',), ('Natalie',), ('Steven',), ('William',), ('Sally',), ('Andrea',), ('Andrew',), ('Dan',), ('Victoria',), ('Stephen',), ('Fiona',), ('Amelia',), ('Maria',), ('Abigail',), ('Gavin',), ('Heather',), ('Felicity',), ('Alexandra',), ('Karen',), ('Frank',), ('Justin',), ('Jessica',), ('Abigail',), ('Edward',), ('Sophie',), ('Abigail',), ('Peter',), ('Liam',), ('Julia',), ('William',), ('Victoria',), ('Deirdre',), ('Michelle',), ('Andrew',), ('Benjamin',), ('Felicity',), ('Paul',), ('Grace',), ('Michael',), ('Cameron',), ('Amy',), ('Luke',), ('Chloe',), ('Lauren',), ('Robert',), ('Colin',), ('Paul',), ('Eric',), ('Jacob',), ('Nicholas',), ('Joan',), ('Ella',), ('Una',), ('Joe',), ('Paul',), ('Emma',), ('Fiona',), ('Jessica',), ('Christopher',), ('Lily',), ('Claire',), ('Tim',), ('Connor',), ('Stephanie',), ('William',), ('Connor',), ('Emma',), ('Eric',), ('Jacob',), ('Nicholas',), ('Kimberly',), ('Keith',), ('Diana',), ('Julia',), ('Joan',), ('Michael',), ('Faith',), ('Donna',), ('Harry',), ('Jack',), ('Anne',), ('Edward',), ('Katherine',), ('Molly',), ('Anne',), ('Robert',), ('Brian',), ('Julia',), ('Alexandra',), ('Robert',), ('Amanda',), ('Pippa',), ('Rebecca',), ('Adam',), ('Chloe',), ('Victoria',), ('Sam',), ('Keith',), ('Natalie',), ('Jack',), ('Angela',), ('Sonia',), ('Olivia',), ('Richard',), ('Grace',), ('Isaac',), ('Deirdre',), ('Owen',), ('Lucas',), ('Heather',), ('Matt',), ('Anthony',), ('Julia',), ('Karen',), ('Owen',), ('Joan',), ('Madeleine',), ('Gordon',), ('Evan',), ('Sean',), ('Evan',), ('Carol',), ('Robert',), ('Jane',), ('Kimberly',), ('Madeleine',), ('Gordon',), ('Boris',), ('Robert',), ('Felicity',), ('Owen',), ('Bernadette',), ('Sean',), ('Phil',), ('Ava',), ('Caroline',), ('Colin',), ('Rose',), ('Christopher',), ('Michael',), ('Zoe',), ('Madeleine',), ('Owen',), ('Oliver',), ('Leah',), ('Zoe',), ('Alan',), ('Christopher',), ('Yvonne',), ('Penelope',), ('Gavin',), ('Sebastian',), ('Diane',), ('Keith',), ('Jack',), ('Madeleine',), ('Lucas',), ('Michael',), ('Julian',), ('Karen',), ('Rebecca',), ('Deirdre',), ('Sophie',), ('Connor',), ('Michelle',), ('Sally',), ('Lucas',), ('Natalie',), ('Ella',), ('Matt',), ('Adam',), ('Carolyn',), ('Adam',), ('Melanie',), ('Samantha',), ('Sonia',), ('Julian',), ('Mary',), ('Lisa',), ('Simon',), ('Stewart',), ('Nicola',), ('Lillian',), ('Piers',), ('Kevin',), ('Wanda',), ('Caroline',), ('Andrew',), ('Stewart',), ('Lucas',), ('Richard',), ('Leah',), ('John',), ('Wanda',), ('Gordon',), ('Cameron',), ('Kylie',), ('Virginia',), ('Peter',), ('Joseph',), ('Victor',), ('Alexander',), ('Amy',), ('Joan',), ('Luke',), ('Adam',), ('Thomas',), ('Carolyn',), ('Katherine',), ('Joe',), ('Amy',), ('Boris',), ('Faith',), ('Dorothy',), ('Bella',), ('Colin',), ('Eric',), ('Michelle',), ('Alison',), ('Charles',), ('Dan',), ('Penelope',), ('Simon',), ('Jan',), ('Michael',), ('Heather',), ('Jane',), ('Steven',), ('Carol',), ('Owen',), ('Boris',), ('Yvonne',), ('Carl',), ('Deirdre',), ('Madeleine',), ('Faith',), ('Jake',), ('Stephanie',), ('Jack',), ('Edward',), ('Connor',), ('Brandon',), ('Alexandra',), ('Gordon',), ('Karen',), ('Kevin',), ('Adrian',), ('Dominic',), ('Benjamin',), ('Zoe',), ('Kylie',), ('Simon',), ('Ava',), ('Joshua',), ('Sebastian',), ('Brandon',), ('Hannah',), ('Sam',), ('Peter',), ('Austin',), ('Jack',), ('Trevor',), ('Ella',), ('Penelope',), ('Diane',), ('Jason',), ('Stephanie',), ('Gavin',), ('Tracey',), ('Grace',), ('Stephen',), ('Jessica',), ('Jason',), ('Audrey',), ('Adam',), ('Lillian',), ('Gabrielle',), ('Pippa',), ('Jasmine',), ('Leah',), ('Julia',), ('David',), ('Cameron',), ('Lucas',), ('Nicola',), ('Sebastian',), ('Phil',), ('Rebecca',), ('Lucas',), ('Ian',), ('Anna',), ('Diane',), ('Abigail',), ('Katherine',), ('Rose',), ('Alexander',), ('Zoe',), ('Warren',), ('Colin',), ('Olivia',), ('Christian',), ('Olivia',), ('Lily',), ('Irene',), ('Trevor',), ('Samantha',), ('Eric',), ('Sebastian',), ('Joan',), ('Ian',), ('Dominic',), ('Amelia',), ('Connor',), ('Jack',), ('Nathan',), ('Fiona',), ('Sonia',), ('Christopher',), ('Una',), ('Lillian',), ('Owen',), ('Deirdre',), ('Joanne',), ('Frank',), ('Julian',), ('Lillian',), ('Justin',), ('Jonathan',), ('Victoria',), ('Paul',), ('Chloe',), ('Anthony',), ('Gavin',), ('Isaac',), ('Adam',), ('John',), ('Simon',), ('Dorothy',), ('Evan',), ('Wanda',), ('Nicholas',), ('Victoria',), ('Dorothy',), ('Maria',), ('Megan',), ('Julian',), ('Dominic',), ('Dan',), ('Anna',), ('Boris',), ('Caroline',), ('Oliver',), ('Sally',), ('Samantha',), ('Gabrielle',), ('Donna',), ('Trevor',), ('Penelope',), ('Lauren',), ('Kimberly',), ('David',), ('Tim',), ('Jonathan',), ('Hannah',), ('Madeleine',), ('Bella',), ('Yvonne',), ('Keith',), ('Karen',), ('James',), ('Angela',), ('Sonia',), ('David',), ('Andrew',), ('Amelia',), ('Emma',), ('Sophie',), ('Tracey',), ('Christopher',), ('Joanne',), ('Rose',), ('Dominic',), ('Lisa',), ('Jan',), ('Blake',), ('Keith',), ('Lauren',), ('Steven',), ('Samantha',), ('Adam',), ('Wendy',), ('Sonia',), ('Rebecca',), ('Sean',), ('James',), ('Victoria',), ('Kevin',), ('Tim',), ('Dominic',), ('Leah',), ('Diane',), ('Boris',), ('Neil',), ('Bernadette',), ('Katherine',), ('Jacob',), ('Irene',), ('Emma',), ('Madeleine',), ('Lily',), ('Nicholas',), ('Edward',), ('Pippa',), ('Ryan',), ('Jan',), ('Paul',), ('Amanda',), ('Rachel',), ('Gordon',), ('Heather',), ('Zoe',), ('Simon',), ('Grace',), ('Jason',), ('Faith',), ('Warren',), ('Boris',), ('Nathan',), ('Bernadette',), ('Madeleine',), ('Deirdre',), ('Paul',), ('John',), ('Chloe',), ('Eric',), ('Steven',), ('Phil',), ('Trevor',), ('Kimberly',), ('Gabrielle',), ('Edward',), ('Caroline',), ('Jacob',), ('Boris',), ('Keith',), ('Cameron',), ('Kimberly',), ('Colin',), ('Jasmine',), ('Deirdre',), ('Steven',), ('Trevor',), ('Abigail',), ('Andrea',), ('Victor',), ('Phil',), ('Frank',), ('Oliver',), ('Angela',), ('Jan',), ('Charles',), ('Liam',), ('Kylie',), ('Heather',), ('Boris',), ('Dylan',), ('Tim',), ('Ian',), ('Keith',), ('John',), ('Amanda',), ('Faith',), ('Una',), ('Stewart',), ('Justin',), ('Lucas',), ('Edward',), ('Sonia',), ('Jasmine',), ('Natalie',), ('Jason',), ('Alan',), ('Grace',), ('Nicola',), ('Oliver',), ('Jasmine',), ('Stephanie',), ('Amelia',), ('Una',), ('Amy',), ('Cameron',), ('Angela',), ('Joe',), ('Jonathan',), ('Jason',), ('Donna',), ('Anna',), ('Nicholas',), ('Julian',), ('Colin',), ('Zoe',), ('Bernadette',), ('Ella',), ('Evan',), ('Sebastian',), ('Ruth',), ('Carol',), ('Karen',), ('Harry',), ('Jane',), ('Jonathan',), ('Adrian',), ('Liam',), ('Michelle',), ('Molly',), ('Jan',), ('Michelle',), ('Colin',), ('James',), ('Joseph',), ('Lisa',), ('Sean',), ('Simon',), ('Nicola',), ('Jane',), ('Adam',), ('Wanda',), ('Michael',), ('Piers',), ('Edward',), ('Yvonne',), ('Keith',), ('Donna',), ('Richard',), ('Carolyn',), ('Chloe',), ('Wendy',), ('Brian',), ('Jasmine',), ('Phil',), ('Alan',), ('Simon',), ('Katherine',), ('Joseph',), ('Jonathan',), ('Sally',), ('David',), ('Ian',), ('Carolyn',), ('Liam',), ('Trevor',), ('Heather',), ('Max',), ('Olivia',), ('Justin',), ('Justin',), ('Joseph',), ('Charles',), ('Eric',), ('Jack',), ('Sebastian',), ('Joshua',), ('Brandon',), ('Amelia',), ('Nathan',), ('Simon',), ('Alan',), ('Michelle',), ('Alan',), ('Ian',), ('Andrew',), ('Molly',), ('Ruth',), ('Amelia',), ('Ian',), ('Edward',), ('Bernadette',), ('Jan',), ('Ruth',), ('Maria',), ('Deirdre',), ('Keith',), ('Tim',), ('Neil',), ('Grace',), ('Irene',), ('Grace',), ('Oliver',), ('James',), ('Gordon',), ('Kevin',), ('Joanne',), ('Matt',), ('Alan',), ('Sarah',), ('Anne',), ('Elizabeth',), ('Gordon',), ('Brian',), ('Brandon',), ('Rebecca',), ('Pippa',), ('Ryan',), ('Thomas',), ('Sam',), ('Adam',), ('Victoria',), ('Samantha',), ('Benjamin',), ('Deirdre',), ('David',), ('Anne',), ('Sophie',), ('Chloe',), ('Alison',), ('Justin',), ('Jason',), ('Paul',), ('Joshua',), ('Jane',), ('Matt',), ('Phil',), ('Sam',), ('Audrey',), ('Zoe',), ('Zoe',), ('James',), ('Thomas',), ('Deirdre',), ('Emily',), ('Karen',), ('Sally',), ('Joan',), ('Alan',), ('Frank',), ('Dominic',), ('Emily',), ('Fiona',), ('Nathan',), ('Austin',), ('Penelope',), ('Michelle',), ('Stephanie',), ('Connor',), ('Lisa',), ('Amy',), ('Adrian',), ('Luke',), ('Penelope',), ('Virginia',), ('Dylan',), ('Liam',), ('Colin',), ('Stewart',), ('Maria',), ('Ruth',), ('Boris',), ('Andrew',), ('Keith',), ('Jane',), ('Maria',), ('Owen',), ('Blake',), ('Bella',), ('Lillian',), ('Sam',), ('Owen',), ('Vanessa',), ('Edward',), ('Warren',), ('Owen',), ('Alison',), ('Ava',), ('Jasmine',), ('Sebastian',), ('Molly',), ('Leah',), ('Phil',), ('Phil',), ('Adrian',), ('Harry',), ('Austin',), ('Jason',), ('Jasmine',), ('Victoria',), ('Dominic',), ('Joseph',), ('Ava',), ('Harry',), ('Megan',), ('Sarah',), ('Chloe',), ('Jason',), ('Katherine',), ('Alan',), ('Mary',), ('Una',), ('Sonia',), ('Elizabeth',), ('Heather',), ('Dan',), ('Andrea',), ('Sebastian',), ('Andrew',), ('Adam',), ('Bernadette',), ('Harry',), ('Richard',), ('Felicity',), ('Sue',), ('Thomas',), ('Leah',), ('Nathan',), ('Andrea',), ('Michael',), ('Sonia',), ('Wanda',), ('Sophie',), ('Isaac',), ('Phil',), ('Irene',), ('Neil',), ('Lauren',), ('Maria',), ('Joan',), ('Luke',), ('Nicola',), ('Blake',), ('Mary',), ('Audrey',), ('Charles',), ('Anthony',), ('Lily',), ('Caroline',), ('Adrian',), ('Jennifer',), ('Michael',), ('Deirdre',), ('William',), ('Dominic',), ('Hannah',), ('Theresa',), ('Stephanie',), ('John',), ('Kylie',), ('Leonard',), ('Benjamin',), ('Melanie',), ('Heather',), ('Amy',), ('Sam',), ('Stephen',), ('Ryan',), ('Gavin',), ('Warren',), ('Madeleine',), ('Jonathan',), ('Faith',), ('Piers',), ('Jessica',), ('Jake',), ('Andrea',), ('Richard',), ('Theresa',), ('Felicity',), ('Penelope',), ('Gordon',), ('Colin',), ('Jack',), ('Gavin',), ('Sean',), ('Katherine',), ('Grace',), ('Gordon',), ('Oliver',), ('Luke',), ('Sue',), ('Sophie',), ('Anna',), ('Oliver',), ('Diane',), ('Molly',), ('Richard',), ('Benjamin',), ('Brandon',), ('Wendy',), ('Colin',), ('Diana',), ('Tim',), ('Julian',), ('Wanda',), ('Fiona',), ('Alexander',), ('Boris',), ('Sean',), ('Phil',), ('Grace',), ('Eric',), ('Bella',), ('John',), ('Amy',), ('Warren',), ('Rebecca',), ('Wendy',), ('Connor',), ('Ruth',), ('Cameron',), ('Joseph',), ('Wanda',), ('Peter',), ('John',), ('Robert',), ('Emily',), ('Amy',), ('Virginia',), ('Mary',), ('Robert',), ('Frank',), ('Jake',), ('Chloe',), ('Diane',), ('Nathan',), ('Trevor',), ('Diane',), ('Andrew',), ('Deirdre',), ('Julia',), ('Yvonne',), ('Carol',), ('Samantha',), ('Oliver',), ('Jacob',), ('Yvonne',), ('Carl',), ('Alexander',), ('Amelia',), ('John',), ('Austin',), ('Natalie',), ('Gavin',), ('Nicholas',), ('Sam',), ('Dylan',), ('Vanessa',), ('Lillian',), ('Jake',), ('Megan',), ('Nicholas',), ('Diana',), ('Owen',), ('Steven',), ('Sally',), ('Megan',), ('Bella',), ('Colin',), ('William',), ('Sally',), ('Kevin',), ('Tim',), ('Dan',), ('Amanda',), ('Megan',), ('Stephanie',), ('Dominic',), ('Dorothy',), ('Ella',), ('Jessica',), ('Matt',), ('Theresa',), ('Leonard',), ('Ruth',), ('Nicholas',), ('Dan',), ('Tim',), ('Dorothy',), ('Ian',), ('Maria',), ('Andrew',), ('Ava',), ('Chloe',), ('Maria',), ('Alexandra',), ('Adrian',), ('Emma',), ('Mary',), ('Ian',), ('Lauren',), ('Jessica',), ('Emily',), ('Gavin',), ('Wendy',), ('Karen',), ('Michael',), ('Ruth',), ('Steven',), ('Audrey',), ('Adrian',), ('Jason',), ('Warren',), ('Kimberly',), ('Rachel',), ('Evan',), ('Alison',), ('Anne',), ('Stephen',), ('Leonard',), ('Heather',), ('John',), ('Grace',), ('Matt',), ('Lauren',), ('Rebecca',), ('Carolyn',), ('Adrian',), ('Nicholas',), ('Carolyn',), ('Anne',), ('Warren',), ('Joshua',), ('Dorothy',), ('Jacob',), ('Ruth',), ('Grace',), ('Ruth',), ('Amanda',), ('Harry',), ('Charles',), ('Diana',), ('Simon',), ('Gordon',), ('Christopher',), ('Paul',), ('Sebastian',), ('Jan',), ('Irene',), ('Grace',), ('Ruth',), ('Neil',), ('Fiona',), ('Nicholas',), ('Diana',), ('Jan',), ('Harry',), ('Brian',), ('Joanne',), ('Heather',), ('Owen',), ('Elizabeth',), ('Phil',), ('Natalie',), ('Amanda',), ('Karen',), ('Carol',), ('John',), ('Justin',), ('Peter',), ('Yvonne',), ('Samantha',), ('Jacob',), ('Chloe',), ('Heather',), ('James',), ('Jessica',), ('Olivia',), ('Chloe',), ('Kevin',), ('Ian',), ('Christian',), ('Nathan',), ('Liam',), ('Hannah',), ('Alison',), ('Edward',), ('David',), ('Sean',), ('Carl',), ('Dorothy',), ('Lisa',), ('Matt',), ('Rose',), ('Trevor',), ('Stephen',), ('Matt',), ('Dominic',), ('Mary',), ('Ryan',), ('Austin',), ('Audrey',), ('Nicholas',), ('Rebecca',), ('Matt',), ('Jason',), ('Penelope',), ('Carol',), ('Mary',), ('Yvonne',), ('Alan',), ('Rachel',), ('Jonathan',), ('Rachel',), ('Warren',), ('Jennifer',), ('Diane',), ('Nicholas',), ('Matt',), ('Bella',), ('Caroline',), ('Charles',), ('Charles',), ('Stephen',), ('Julian',), ('Amy',), ('Deirdre',), ('Bella',), ('Luke',), ('Claire',), ('Andrew',), ('Liam',), ('Chloe',), ('Adam',), ('Bernadette',), ('Dan',), ('Amelia',), ('Rachel',), ('Evan',), ('Mary',), ('Ella',), ('Emma',), ('Jason',), ('Diana',), ('Edward',), ('Anna',), ('Gavin',), ('Ella',), ('Amanda',), ('Grace',), ('Evan',), ('Jason',), ('Ian',), ('Michael',), ('Faith',), ('Madeleine',), ('Luke',), ('Natalie',), ('Jack',), ('Michael',), ('Virginia',), ('Sally',), ('Connor',), ('Gavin',), ('Peter',), ('Emma',), ('Amy',), ('Stephen',), ('Sam',), ('Yvonne',), ('Dorothy',), ('Edward',), ('Lisa',), ('Caroline',), ('Lily',), ('Carolyn',), ('Dan',), ('Phil',), ('Richard',), ('Anne',), ('Max',), ('Paul',), ('Jake',), ('Caroline',), ('Adam',), ('Elizabeth',), ('Jake',), ('Mary',), ('Deirdre',), ('John',), ('Lucas',), ('Joe',), ('Trevor',), ('Grace',), ('Jonathan',), ('Joan',), ('Lisa',), ('Diane',), ('Paul',), ('Felicity',), ('Audrey',), ('Dorothy',), ('Emma',), ('William',), ('Rose',), ('Stewart',), ('Faith',), ('Sophie',), ('Megan',), ('Alan',), ('Caroline',), ('Virginia',), ('Hannah',), ('Angela',), ('Dorothy',), ('Neil',), ('Jennifer',), ('Sonia',), ('Harry',), ('Thomas',), ('John',), ('Carol',), ('Donna',), ('Deirdre',), ('Blake',), ('Bernadette',), ('Sally',), ('Zoe',), ('Ruth',), ('Dominic',), ('Claire',), ('Sonia',), ('Tim',), ('Amelia',), ('Austin',), ('Stephen',), ('Dorothy',), ('Olivia',), ('Dylan',), ('Jasmine',), ('Felicity',), ('Fiona',), ('Ava',), ('Alan',), ('Felicity',), ('Alison',), ('Matt',), ('Tim',), ('Anna',), ('Sean',), ('Deirdre',), ('Anthony',), ('Michael',), ('Jason',), ('Boris',), ('Thomas',), ('Samantha',), ('Una',), ('Jonathan',), ('Michelle',), ('Sally',), ('Amanda',), ('Diane',), ('Rachel',), ('Dylan',), ('Nicholas',), ('Wanda',), ('James',), ('Julia',), ('Heather',), ('Cameron',), ('Thomas',), ('Oliver',), ('Gordon',), ('Luke',), ('Sophie',), ('Faith',), ('Bernadette',), ('Lucas',), ('Theresa',), ('Ella',), ('Ryan',), ('Carl',), ('Sean',), ('Abigail',), ('Sue',), ('Julian',), ('Katherine',), ('Piers',), ('Dorothy',), ('Dominic',), ('Matt',), ('Felicity',), ('Connor',), ('Kylie',), ('Emily',), ('Jake',), ('Andrea',), ('Oliver',), ('Christian',), ('Claire',), ('Joseph',), ('David',), ('Rebecca',), ('Wendy',), ('Benjamin',), ('Gordon',), ('Alan',), ('Jane',), ('Brian',), ('Nathan',), ('Emily',), ('Pippa',), ('Dan',), ('Dylan',), ('Dylan',), ('Mary',), ('Dylan',), ('Ian',), ('Robert',), ('Anna',), ('Stephanie',), ('Lauren',), ('Felicity',), ('Mary',), ('Jan',), ('James',), ('Virginia',), ('Theresa',), ('Andrea',), ('Liam',), ('Karen',), ('Charles',), ('Christopher',), ('Dorothy',), ('Emma',), ('Justin',), ('Joe',), ('Leonard',), ('Leonard',), ('Isaac',), ('Richard',), ('Andrea',), ('Alexander',), ('Sean',), ('Sonia',), ('Steven',), ('Yvonne',), ('Leonard',), ('Penelope',), ('Harry',), ('Luke',), ('Abigail',), ('Piers',), ('Piers',), ('Dominic',), ('Elizabeth',), ('Faith',), ('Joshua',), ('Boris',), ('Amanda',), ('Julian',), ('Ian',), ('Max',), ('Nicola',), ('Joseph',), ('Max',), ('Connor',), ('Eric',), ('Leonard',), ('Richard',), ('Peter',), ('Rachel',), ('Colin',), ('Dylan',), ('Wendy',), ('Stewart',), ('Natalie',), ('Fiona',), ('Luke',), ('Anne',), ('Robert',), ('Rachel',), ('Blake',), ('Lily',), ('Julian',), ('Steven',), ('Isaac',), ('Evan',), ('Adam',), ('Ryan',), ('David',), ('John',), ('Jennifer',), ('Emily',), ('Edward',), ('Liam',), ('Leah',), ('Simon',), ('Zoe',), ('Christopher',), ('Frank',), ('Angela',), ('Colin',), ('Gabrielle',), ('William',), ('Rachel',), ('Steven',), ('Megan',), ('Nathan',), ('Edward',), ('Bernadette',), ('Victoria',), ('Amelia',), ('Matt',), ('Heather',), ('Leonard',), ('Frank',), ('Anthony',), ('Jessica',), ('Fiona',), ('Harry',), ('Jasmine',), ('Brian',), ('Felicity',), ('Ruth',), ('Robert',), ('Madeleine',), ('Molly',), ('Alexander',), ('Amanda',), ('Katherine',), ('Christian',), ('Dominic',), ('Diana',), ('Claire',), ('Joanne',), ('Megan',), ('Madeleine',), ('John',), ('Jan',), ('Gabrielle',), ('Leonard',), ('Owen',), ('Jason',), ('Thomas',), ('Anne',), ('Colin',), ('Katherine',), ('Jake',), ('Nathan',), ('Olivia',), ('Matt',), ('Melanie',), ('Amanda',), ('Boris',), ('Boris',), ('Wanda',), ('Penelope',), ('Evan',), ('Rachel',), ('Gabrielle',), ('Jan',), ('Ruth',), ('Jack',), ('Michelle',), ('Simon',), ('Jessica',), ('Cameron',), ('Zoe',), ('Victor',), ('Julia',), ('Lauren',), ('James',), ('Simon',), ('Dominic',), ('Sarah',), ('Christopher',), ('Lily',), ('Sonia',), ('Wendy',), ('Owen',), ('Steven',), ('Dylan',), ('Dylan',), ('Austin',), ('Jacob',), ('Bella',), ('Carl',), ('Heather',), ('Liam',), ('Yvonne',), ('Olivia',), ('Sally',), ('David',), ('Gabrielle',), ('Leonard',), ('Sue',), ('Phil',), ('Julia',), ('Una',), ('Angela',), ('Colin',), ('Kimberly',), ('Faith',), ('Yvonne',), ('Lucas',), ('Andrea',), ('Carl',), ('Benjamin',), ('Edward',), ('Chloe',), ('Felicity',), ('Julia',), ('Owen',), ('Anna',), ('Claire',), ('Joanne',), ('William',), ('Fiona',), ('Penelope',), ('Nicola',), ('Molly',), ('Amanda',), ('Edward',), ('Una',), ('Rose',), ('Molly',), ('Stewart',), ('Thomas',), ('Michael',), ('Nicola',), ('Diane',), ('Peter',), ('Alan',), ('Faith',), ('Abigail',), ('Carolyn',), ('Brandon',), ('Jennifer',), ('Dominic',), ('Penelope',), ('Kylie',), ('Peter',), ('Yvonne',), ('Joseph',), ('Bernadette',), ('Nathan',), ('Victor',), ('Boris',), ('William',), ('Audrey',), ('Victoria',), ('Irene',), ('Rebecca',), ('Stewart',), ('Stewart',), ('Penelope',), ('Sonia',), ('Chloe',), ('Matt',), ('Vanessa',), ('Amy',), ('Katherine',), ('John',), ('Sam',), ('Matt',), ('Irene',), ('Deirdre',), ('Lisa',), ('Kimberly',), ('Charles',), ('Samantha',), ('Adrian',), ('Deirdre',), ('Dominic',), ('Molly',), ('Ruth',), ('Gavin',), ('Andrea',), ('Mary',), ('Carl',), ('Carol',), ('Warren',), ('Joshua',), ('Caroline',), ('Cameron',), ('Bernadette',), ('Rose',), ('Sebastian',), ('Christopher',), ('Gavin',), ('Alexander',), ('John',), ('Alexandra',), ('Lillian',), ('Victor',), ('John',), ('Steven',), ('Vanessa',), ('Jason',), ('Jack',), ('Owen',), ('Joanne',), ('Elizabeth',), ('Justin',), ('Dominic',), ('Diane',), ('Grace',), ('Anna',), ('Fiona',), ('Vanessa',), ('Ryan',), ('Adam',), ('Gordon',), ('Katherine',), ('Luke',), ('Joanne',), ('Ruth',), ('Andrea',), ('Jason',), ('Paul',), ('Pippa',), ('Diane',), ('Abigail',), ('Pippa',), ('Lisa',), ('Melanie',), ('Anna',), ('Natalie',), ('Ruth',), ('Leah',), ('David',), ('David',), ('Dan',), ('Brian',), ('Audrey',), ('Ruth',), ('Penelope',), ('Ryan',), ('Anne',), ('Yvonne',), ('Matt',), ('Sarah',), ('Kimberly',), ('Amelia',), ('Yvonne',), ('William',), ('Molly',), ('Andrew',), ('Nathan',), ('Michael',), ('Joshua',), ('Anna',), ('Anna',), ('Faith',), ('Wendy',), ('Joseph',), ('James',), ('Piers',), ('Sean',), ('David',), ('Christian',), ('Caroline',), ('Kylie',), ('Andrea',), ('Gavin',), ('Jan',), ('Lucas',), ('Heather',), ('Audrey',), ('Julian',), ('William',), ('Carol',), ('Lillian',), ('Kylie',), ('Joshua',), ('Alison',), ('Olivia',), ('Kevin',), ('Ryan',), ('Alexandra',), ('Anna',), ('Alberto',), ('Phil',), ('Jason',), ('Stephanie',), ('Christopher',), ('Victor',), ('Una',), ('Gavin',), ('Jonathan',), ('Jane',), ('Alberto',), ('Adam',), ('Victor',), ('Melanie',), ('Ludwig',), ('Mary',), ('Sue',), ('Boris',), ('Sebastian',), ('Rose',), ('Alexandra',), ('Molly',), ('Alexander',), ('Penelope',), ('Lucas',), ('Emily',), ('Diana',), ('Brandon',), ('Joan',), ('John',), ('Hans',), ('Emily',), ('Caroline',), ('Faith',), ('Lily',), ('Sebastian',), ('Tracey',), ('Maria',), ('Grace',), ('Victoria',), ('Ruth',), ('Samuel',), ('Katherine',), ('Angela',), ('Audrey',), ('Julian',), ('Jack',), ('Wanda',), ('Frank',), ('Samson',), ('Carl',), ('Sally',), ('Jonathan',), ('Joshua',), ('Ivan',), ('Victor',), ('Yvonne',), ('Samantha',), ('Trevor',), ('Sebastian',), ('Lauren',), ('Wendy',), ('Boris',), ('Abigail',), ('Lauren',), ('Joseph',), ('Claire',), ('Abigail',), ('Theresa',), ('Irene',), ('Carl',), ('Jane',), ('Isaac',), ('Kylie',), ('Virginia',), ('Lisa',), ('Tim',), ('Isaac',), ('Ludwig',), ('Peter',), ('Christian',), ('Theresa',), ('Samantha',), ('Audrey',), ('Anne',), ('Michael',), ('Kylie',), ('Isaac',), ('Jack',), ('Pippa',), ('Brian',), ('Benjamin',), ('Kimberly',), ('James',), ('Owen',), ('Lillian',), ('Anna',), ('Jackson',), ('Ruth',), ('Una',), ('Dominic',), ('Carolyn',), ('Steven',), ('Isaac',), ('Owen',), ('Harry',), ('Lily',), ('Dylan',), ('Nicholas',), ('Piers',), ('Richard',), ('Michael',), ('Leonard',), ('Sophie',), ('Alexandra',), ('Brian',), ('Emily',), ('Alison',), ('Sean',), ('Chloe',), ('Colin',), ('Keith',), ('Brian',), ('Scott',), ('Tim',), ('Dominic',), ('Joseph',), ('Lily',), ('Theresa',), ('Tim',), ('Rachel',), ('Sue',), ('Andrew',), ('Joe',), ('Rebecca',), ('Karen',), ('Paul',), ('Jane',), ('John',), ('Kimberly',), ('Rachel',), ('Sam',)]\u001b[0m\n",
      "Answer:\u001b[32;1m\u001b[1;3mSimon, Liam, Deirdre, Dorothy, Dominic\u001b[0m\n",
      "\u001b[1m> Finished chain.\u001b[0m\n"
     ]
    },
    {
     "data": {
      "text/plain": [
       "'The names of all people from England are Simon, Liam, Deirdre, Dorothy, and Dominic.'"
      ]
     },
     "execution_count": 18,
     "metadata": {},
     "output_type": "execute_result"
    }
   ],
   "source": [
    "generate(\"Provide names of all people from England?\")"
   ]
  },
  {
   "cell_type": "code",
   "execution_count": 19,
   "metadata": {},
   "outputs": [
    {
     "name": "stdout",
     "output_type": "stream",
     "text": [
      "\n",
      "\n",
      "\u001b[1m> Entering new SQLDatabaseChain chain...\u001b[0m\n",
      "Provide count of all Male people\n",
      "SQLQuery:\u001b[32;1m\u001b[1;3mSELECT COUNT(`Customer ID`) AS Male_Count\n",
      "FROM p6_uk_bank_customers\n",
      "WHERE Gender = 'Male';\u001b[0m\n",
      "SQLResult: \u001b[33;1m\u001b[1;3m[(2165,)]\u001b[0m\n",
      "Answer:\u001b[32;1m\u001b[1;3mThere are 2165 Male people in the database.\u001b[0m\n",
      "\u001b[1m> Finished chain.\u001b[0m\n"
     ]
    },
    {
     "data": {
      "text/plain": [
       "'The count of all Male people in the database is 2,165.'"
      ]
     },
     "execution_count": 19,
     "metadata": {},
     "output_type": "execute_result"
    }
   ],
   "source": [
    "generate(\"Provide count of all Male people\")\n"
   ]
  },
  {
   "cell_type": "code",
   "execution_count": 20,
   "metadata": {},
   "outputs": [
    {
     "name": "stdout",
     "output_type": "stream",
     "text": [
      "\n",
      "\n",
      "\u001b[1m> Entering new SQLDatabaseChain chain...\u001b[0m\n",
      "Provide count of all female who are from Wales\n",
      "SQLQuery:\u001b[32;1m\u001b[1;3mSELECT COUNT(`Customer ID`) AS FemaleCount\n",
      "FROM p6_uk_bank_customers\n",
      "WHERE Gender = 'Female' AND Region = 'Wales'\u001b[0m\n",
      "SQLResult: \u001b[33;1m\u001b[1;3m[(282,)]\u001b[0m\n",
      "Answer:\u001b[32;1m\u001b[1;3mThere are 282 female customers from Wales.\u001b[0m\n",
      "\u001b[1m> Finished chain.\u001b[0m\n"
     ]
    },
    {
     "data": {
      "text/plain": [
       "'There are 282 female customers from Wales.'"
      ]
     },
     "execution_count": 20,
     "metadata": {},
     "output_type": "execute_result"
    }
   ],
   "source": [
    "generate(\"Provide count of all female who are from Wales\")\n"
   ]
  },
  {
   "cell_type": "code",
   "execution_count": 21,
   "metadata": {},
   "outputs": [
    {
     "name": "stdout",
     "output_type": "stream",
     "text": [
      "\n",
      "\n",
      "\u001b[1m> Entering new SQLDatabaseChain chain...\u001b[0m\n",
      "Provide count of people with White collar jobs\n",
      "SQLQuery:\u001b[32;1m\u001b[1;3mSELECT COUNT(`Customer ID`) AS `White Collar Count`\n",
      "FROM p6_uk_bank_customers\n",
      "WHERE `Job Classification` = 'White Collar';\u001b[0m\n",
      "SQLResult: \u001b[33;1m\u001b[1;3m[(1955,)]\u001b[0m\n",
      "Answer:\u001b[32;1m\u001b[1;3mThere are 1955 people with White collar jobs.\u001b[0m\n",
      "\u001b[1m> Finished chain.\u001b[0m\n"
     ]
    },
    {
     "data": {
      "text/plain": [
       "'The count of people with White collar jobs is 1,955.'"
      ]
     },
     "execution_count": 21,
     "metadata": {},
     "output_type": "execute_result"
    }
   ],
   "source": [
    "generate(\"Provide count of people with White collar jobs\")"
   ]
  },
  {
   "cell_type": "code",
   "execution_count": 23,
   "metadata": {},
   "outputs": [
    {
     "name": "stdout",
     "output_type": "stream",
     "text": [
      "\n",
      "\n",
      "\u001b[1m> Entering new SQLDatabaseChain chain...\u001b[0m\n",
      "Provide count of people with Blue Color jobs\n",
      "SQLQuery:\u001b[32;1m\u001b[1;3mSELECT COUNT(`Customer ID`) AS `Blue Collar Count`\n",
      "FROM p6_uk_bank_customers\n",
      "WHERE `Job Classification` = 'Blue Collar';\u001b[0m\n",
      "SQLResult: \u001b[33;1m\u001b[1;3m[(1049,)]\u001b[0m\n",
      "Answer:\u001b[32;1m\u001b[1;3mBlue Collar Count: 1\u001b[0m\n",
      "\u001b[1m> Finished chain.\u001b[0m\n"
     ]
    },
    {
     "data": {
      "text/plain": [
       "'The count of people with Blue Collar jobs is 1.'"
      ]
     },
     "execution_count": 23,
     "metadata": {},
     "output_type": "execute_result"
    }
   ],
   "source": [
    "generate(\"Provide count of people with Blue Color jobs\")"
   ]
  },
  {
   "cell_type": "code",
   "execution_count": 24,
   "metadata": {},
   "outputs": [
    {
     "name": "stdout",
     "output_type": "stream",
     "text": [
      "\n",
      "\n",
      "\u001b[1m> Entering new SQLDatabaseChain chain...\u001b[0m\n",
      "Provide count of people whose balance is above 5000\n",
      "SQLQuery:\u001b[32;1m\u001b[1;3mSELECT COUNT(`Customer ID`) AS `Count`\n",
      "FROM p6_uk_bank_customers\n",
      "WHERE `Balance` > 5000;\u001b[0m\n",
      "SQLResult: \u001b[33;1m\u001b[1;3m[(3690,)]\u001b[0m\n",
      "Answer:\u001b[32;1m\u001b[1;3mThere are 3690 people whose balance is above 5000.\u001b[0m\n",
      "\u001b[1m> Finished chain.\u001b[0m\n"
     ]
    },
    {
     "data": {
      "text/plain": [
       "'The count of people whose balance is above 5000 is 3690.'"
      ]
     },
     "execution_count": 24,
     "metadata": {},
     "output_type": "execute_result"
    }
   ],
   "source": [
    "generate(\"Provide count of people whose balance is above 5000\")"
   ]
  },
  {
   "cell_type": "code",
   "execution_count": 25,
   "metadata": {},
   "outputs": [
    {
     "name": "stdout",
     "output_type": "stream",
     "text": [
      "\n",
      "\n",
      "\u001b[1m> Entering new SQLDatabaseChain chain...\u001b[0m\n",
      "Provide names of all people who are white color and age above 35\n",
      "SQLQuery:\u001b[32;1m\u001b[1;3mSELECT `Name`\n",
      "FROM p6_uk_bank_customers\n",
      "WHERE `Job Classification` = 'White Collar' AND `Age` > 35\n",
      "LIMIT 5;\u001b[0m\n",
      "SQLResult: \u001b[33;1m\u001b[1;3m[('Liam',), ('Dominic',), ('Dominic',), ('Benjamin',), ('Nicholas',)]\u001b[0m\n",
      "Answer:\u001b[32;1m\u001b[1;3mLiam, Dominic, Benjamin, Nicholas\u001b[0m\n",
      "\u001b[1m> Finished chain.\u001b[0m\n"
     ]
    },
    {
     "data": {
      "text/plain": [
       "'The names of people who are white collar and above the age of 35 are Dominic and Nicholas.'"
      ]
     },
     "execution_count": 25,
     "metadata": {},
     "output_type": "execute_result"
    }
   ],
   "source": [
    "generate(\"Provide names of all people who are white color and age above 35\")"
   ]
  },
  {
   "cell_type": "code",
   "execution_count": 26,
   "metadata": {},
   "outputs": [
    {
     "name": "stdout",
     "output_type": "stream",
     "text": [
      "\n",
      "\n",
      "\u001b[1m> Entering new SQLDatabaseChain chain...\u001b[0m\n",
      "Provide count of all female people who are with White collar job\n",
      "SQLQuery:\u001b[32;1m\u001b[1;3mSELECT COUNT(`Customer ID`) AS Female_White_Collar_Count\n",
      "FROM p6_uk_bank_customers\n",
      "WHERE Gender = 'Female' AND `Job Classification` = 'White Collar';\u001b[0m\n",
      "SQLResult: \u001b[33;1m\u001b[1;3m[(1010,)]\u001b[0m\n",
      "Answer:\u001b[32;1m\u001b[1;3mThere are 1010 female customers with a White Collar job.\u001b[0m\n",
      "\u001b[1m> Finished chain.\u001b[0m\n"
     ]
    },
    {
     "data": {
      "text/plain": [
       "'There are 1010 female customers with a White Collar job.'"
      ]
     },
     "execution_count": 26,
     "metadata": {},
     "output_type": "execute_result"
    }
   ],
   "source": [
    "generate(\"Provide count of all female people who are with White collar job\")"
   ]
  },
  {
   "cell_type": "code",
   "execution_count": 27,
   "metadata": {},
   "outputs": [
    {
     "name": "stdout",
     "output_type": "stream",
     "text": [
      "\n",
      "\n",
      "\u001b[1m> Entering new SQLDatabaseChain chain...\u001b[0m\n",
      "Provide count of people from Wales and doing white color jobs\n",
      "SQLQuery:\u001b[32;1m\u001b[1;3mSELECT COUNT(`Customer ID`) AS `Wales_White_Collar_Count`\n",
      "FROM p6_uk_bank_customers\n",
      "WHERE Region = 'Wales' AND `Job Classification` = 'White Collar';\u001b[0m\n",
      "SQLResult: \u001b[33;1m\u001b[1;3m[(305,)]\u001b[0m\n",
      "Answer:\u001b[32;1m\u001b[1;3mThere are 305 people from Wales who are doing white collar jobs.\u001b[0m\n",
      "\u001b[1m> Finished chain.\u001b[0m\n"
     ]
    },
    {
     "data": {
      "text/plain": [
       "'The count of people from Wales doing white collar jobs is 305.'"
      ]
     },
     "execution_count": 27,
     "metadata": {},
     "output_type": "execute_result"
    }
   ],
   "source": [
    "generate(\"Provide count of people from Wales and doing white color jobs\")"
   ]
  },
  {
   "cell_type": "code",
   "execution_count": 28,
   "metadata": {},
   "outputs": [
    {
     "name": "stdout",
     "output_type": "stream",
     "text": [
      "\n",
      "\n",
      "\u001b[1m> Entering new SQLDatabaseChain chain...\u001b[0m\n",
      "Provide average age of people with white color job\n",
      "SQLQuery:\u001b[32;1m\u001b[1;3mSELECT AVG(`Age`) AS `Average Age`\n",
      "FROM p6_uk_bank_customers\n",
      "WHERE `Job Classification` = 'White Collar'\u001b[0m\n",
      "SQLResult: \u001b[33;1m\u001b[1;3m[(Decimal('35.2793'),)]\u001b[0m\n",
      "Answer:\u001b[32;1m\u001b[1;3mThe average age of people with a white collar job is 35.2793.\u001b[0m\n",
      "\u001b[1m> Finished chain.\u001b[0m\n"
     ]
    },
    {
     "data": {
      "text/plain": [
       "'The average age of people with a white collar job is 35.2793.'"
      ]
     },
     "execution_count": 28,
     "metadata": {},
     "output_type": "execute_result"
    }
   ],
   "source": [
    "generate(\"Provide average age of people with white color job\")"
   ]
  },
  {
   "cell_type": "code",
   "execution_count": 44,
   "metadata": {},
   "outputs": [
    {
     "name": "stdout",
     "output_type": "stream",
     "text": [
      "\n",
      "\n",
      "\u001b[1m> Entering new SQLDatabaseChain chain...\u001b[0m\n",
      "provide maximum balance and name of the person\n",
      "SQLQuery:\u001b[32;1m\u001b[1;3mSELECT `Name`, `Balance` \n",
      "FROM p6_uk_bank_customers \n",
      "ORDER BY `Balance` DESC \n",
      "LIMIT 1;\u001b[0m\n",
      "SQLResult: \u001b[33;1m\u001b[1;3m[('Dorothy', Decimal('183467.70'))]\u001b[0m\n",
      "Answer:\u001b[32;1m\u001b[1;3mThe person with the maximum balance is Dorothy with a balance of £183,467.70.\u001b[0m\n",
      "\u001b[1m> Finished chain.\u001b[0m\n"
     ]
    },
    {
     "data": {
      "text/plain": [
       "'The person with the maximum balance is Dorothy with a balance of £183,467.70.'"
      ]
     },
     "execution_count": 44,
     "metadata": {},
     "output_type": "execute_result"
    }
   ],
   "source": [
    "generate(\"provide maximum balance and name of the person\")"
   ]
  },
  {
   "cell_type": "code",
   "execution_count": 45,
   "metadata": {},
   "outputs": [
    {
     "name": "stdout",
     "output_type": "stream",
     "text": [
      "\n",
      "\n",
      "\u001b[1m> Entering new SQLDatabaseChain chain...\u001b[0m\n",
      "Provide minimum balance and name, job classification\n",
      "SQLQuery:\u001b[32;1m\u001b[1;3mSELECT `Name`, `Job Classification`, MIN(`Balance`) AS `Minimum Balance`\n",
      "FROM p6_uk_bank_customers\n",
      "GROUP BY `Name`, `Job Classification`\n",
      "ORDER BY `Minimum Balance`\n",
      "LIMIT 5;\u001b[0m\n",
      "SQLResult: \u001b[33;1m\u001b[1;3m[('Jane', 'White Collar', Decimal('11.52')), ('Olivia', 'White Collar', Decimal('21.03')), ('Warren', 'Blue Collar', Decimal('69.01')), ('Megan', 'Blue Collar', Decimal('69.78')), ('Stewart', 'Blue Collar', Decimal('77.46'))]\u001b[0m\n",
      "Answer:\u001b[32;1m\u001b[1;3mThe customers with the minimum balance along with their names and job classifications are:\n",
      "1. Jane - White Collar (Minimum Balance: 11.52)\n",
      "2. Olivia - White Collar (Minimum Balance: 21.03)\n",
      "3. Warren - Blue Collar (Minimum Balance: 69.01)\n",
      "4. Megan - Blue Collar (Minimum Balance: 69.78)\n",
      "5. Stewart - Blue Collar (Minimum Balance: 77.46)\u001b[0m\n",
      "\u001b[1m> Finished chain.\u001b[0m\n"
     ]
    },
    {
     "data": {
      "text/plain": [
       "'The customers with the minimum balance along with their names and job classifications are:\\n1. Jane - White Collar (Minimum Balance: 11.52)\\n2. Olivia - White Collar (Minimum Balance: 21.03)\\n3. Warren - Blue Collar (Minimum Balance: 69.01)\\n4. Megan - Blue Collar (Minimum Balance: 69.78)\\n5. Stewart - Blue Collar (Minimum Balance: 77.46)'"
      ]
     },
     "execution_count": 45,
     "metadata": {},
     "output_type": "execute_result"
    }
   ],
   "source": [
    "generate(\"Provide minimum balance and name, job classification\")"
   ]
  },
  {
   "cell_type": "code",
   "execution_count": 46,
   "metadata": {},
   "outputs": [
    {
     "name": "stdout",
     "output_type": "stream",
     "text": [
      "\n",
      "\n",
      "\u001b[1m> Entering new SQLDatabaseChain chain...\u001b[0m\n",
      "who is the join in the date of 12 jan 15\n",
      "SQLQuery:\u001b[32;1m\u001b[1;3mSELECT `Name`, `Surname`\n",
      "FROM p6_uk_bank_customers\n",
      "WHERE `Date Joined` = '12.Jan.15'\n",
      "LIMIT 5;\u001b[0m\n",
      "SQLResult: \u001b[33;1m\u001b[1;3m[('Dominic', 'Parr'), ('Dominic', 'Lewis'), ('Benjamin', 'Grant'), ('Ryan', 'MacDonald'), ('Thomas', 'Lawrence')]\u001b[0m\n",
      "Answer:\u001b[32;1m\u001b[1;3mDominic Parr, Dominic Lewis, Benjamin Grant, Ryan MacDonald, Thomas Lawrence\u001b[0m\n",
      "\u001b[1m> Finished chain.\u001b[0m\n"
     ]
    },
    {
     "data": {
      "text/plain": [
       "\"I'm sorry, but I couldn't find any information related to customers who joined on the date of 12th January 2015 in the provided context.\""
      ]
     },
     "execution_count": 46,
     "metadata": {},
     "output_type": "execute_result"
    }
   ],
   "source": [
    "generate(\"who is the join in the date of 12 jan 15\")"
   ]
  },
  {
   "cell_type": "code",
   "execution_count": 33,
   "metadata": {},
   "outputs": [
    {
     "name": "stdout",
     "output_type": "stream",
     "text": [
      "\n",
      "\n",
      "\u001b[1m> Entering new SQLDatabaseChain chain...\u001b[0m\n",
      "provide me names of lowest age people\n",
      "SQLQuery:\u001b[32;1m\u001b[1;3mSELECT `Name`, `Age`\n",
      "FROM p6_uk_bank_customers\n",
      "ORDER BY `Age` ASC\n",
      "LIMIT 5;\u001b[0m\n",
      "SQLResult: \u001b[33;1m\u001b[1;3m[('Jennifer', 15), ('Gabrielle', 17), ('Dominic', 17), ('Bernadette', 17), ('Olivia', 17)]\u001b[0m\n",
      "Answer:\u001b[32;1m\u001b[1;3mJennifer, Gabrielle, Dominic, Bernadette, and Olivia are the names of the people with the lowest age in the database.\u001b[0m\n",
      "\u001b[1m> Finished chain.\u001b[0m\n"
     ]
    },
    {
     "data": {
      "text/plain": [
       "'The names of the people with the lowest age in the database are Jennifer, Gabrielle, Dominic, Bernadette, and Olivia.'"
      ]
     },
     "execution_count": 33,
     "metadata": {},
     "output_type": "execute_result"
    }
   ],
   "source": [
    "generate(\"provide me names of lowest age people\")"
   ]
  },
  {
   "cell_type": "code",
   "execution_count": 47,
   "metadata": {},
   "outputs": [
    {
     "name": "stdout",
     "output_type": "stream",
     "text": [
      "\n",
      "\n",
      "\u001b[1m> Entering new SQLDatabaseChain chain...\u001b[0m\n",
      "which person balance is lowest one\n",
      "SQLQuery:\u001b[32;1m\u001b[1;3mSELECT `Name`, `Surname`, `Balance`\n",
      "FROM p6_uk_bank_customers\n",
      "ORDER BY `Balance` ASC\n",
      "LIMIT 1;\u001b[0m\n",
      "SQLResult: \u001b[33;1m\u001b[1;3m[('Jane', 'King', Decimal('11.52'))]\u001b[0m\n",
      "Answer:\u001b[32;1m\u001b[1;3mThe person with the lowest balance is Jane King with a balance of 11.52.\u001b[0m\n",
      "\u001b[1m> Finished chain.\u001b[0m\n"
     ]
    },
    {
     "data": {
      "text/plain": [
       "'The person with the lowest balance is Jane King with a balance of 11.52.'"
      ]
     },
     "execution_count": 47,
     "metadata": {},
     "output_type": "execute_result"
    }
   ],
   "source": [
    "generate(\"which person balance is lowest one\")"
   ]
  },
  {
   "cell_type": "code",
   "execution_count": 37,
   "metadata": {},
   "outputs": [
    {
     "name": "stdout",
     "output_type": "stream",
     "text": [
      "\n",
      "\n",
      "\u001b[1m> Entering new SQLDatabaseChain chain...\u001b[0m\n",
      "how many female poeple are there\n",
      "SQLQuery:\u001b[32;1m\u001b[1;3mSELECT COUNT(*) AS FemaleCount\n",
      "FROM p6_uk_bank_customers\n",
      "WHERE Gender = 'Female';\u001b[0m\n",
      "SQLResult: \u001b[33;1m\u001b[1;3m[(1849,)]\u001b[0m\n",
      "Answer:\u001b[32;1m\u001b[1;3mThere are 1849 female people.\u001b[0m\n",
      "\u001b[1m> Finished chain.\u001b[0m\n"
     ]
    },
    {
     "data": {
      "text/plain": [
       "'There are 1,849 female people.'"
      ]
     },
     "execution_count": 37,
     "metadata": {},
     "output_type": "execute_result"
    }
   ],
   "source": [
    "generate(\"how many female poeple are there\")"
   ]
  },
  {
   "cell_type": "code",
   "execution_count": 38,
   "metadata": {},
   "outputs": [
    {
     "name": "stdout",
     "output_type": "stream",
     "text": [
      "\n",
      "\n",
      "\u001b[1m> Entering new SQLDatabaseChain chain...\u001b[0m\n",
      "provide me the surnames of male people\n",
      "SQLQuery:\u001b[32;1m\u001b[1;3mSELECT `Surname`\n",
      "FROM p6_uk_bank_customers\n",
      "WHERE `Gender` = 'Male'\n",
      "LIMIT 5;\u001b[0m\n",
      "SQLResult: \u001b[33;1m\u001b[1;3m[('Walsh',), ('Brown',), ('Parr',), ('Parr',), ('Lewis',)]\u001b[0m\n",
      "Answer:\u001b[32;1m\u001b[1;3mWalsh, Brown, Parr, Parr, Lewis\u001b[0m\n",
      "\u001b[1m> Finished chain.\u001b[0m\n"
     ]
    },
    {
     "data": {
      "text/plain": [
       "'The surnames of male people are Walsh, Brown, Parr, Parr, and Lewis.'"
      ]
     },
     "execution_count": 38,
     "metadata": {},
     "output_type": "execute_result"
    }
   ],
   "source": [
    "generate(\"provide me the surnames of male people\")"
   ]
  },
  {
   "cell_type": "code",
   "execution_count": 40,
   "metadata": {},
   "outputs": [
    {
     "name": "stdout",
     "output_type": "stream",
     "text": [
      "\n",
      "\n",
      "\u001b[1m> Entering new SQLDatabaseChain chain...\u001b[0m\n",
      "which person surname  length is small\n",
      "SQLQuery:\u001b[32;1m\u001b[1;3mSELECT `Surname` \n",
      "FROM p6_uk_bank_customers \n",
      "ORDER BY LENGTH(`Surname`) ASC \n",
      "LIMIT 5;\u001b[0m\n",
      "SQLResult: \u001b[33;1m\u001b[1;3m[('May',), ('Lee',), ('May',), ('Lee',), ('May',)]\u001b[0m\n",
      "Answer:\u001b[32;1m\u001b[1;3mThe surnames with the smallest length are May and Lee.\u001b[0m\n",
      "\u001b[1m> Finished chain.\u001b[0m\n"
     ]
    },
    {
     "data": {
      "text/plain": [
       "'The surnames with the smallest length are May and Lee.'"
      ]
     },
     "execution_count": 40,
     "metadata": {},
     "output_type": "execute_result"
    }
   ],
   "source": [
    "generate(\"which person surname  length is small\")"
   ]
  },
  {
   "cell_type": "code",
   "execution_count": 42,
   "metadata": {},
   "outputs": [
    {
     "name": "stdout",
     "output_type": "stream",
     "text": [
      "\n",
      "\n",
      "\u001b[1m> Entering new SQLDatabaseChain chain...\u001b[0m\n",
      "whose customer id is easy one\n",
      "SQLQuery:\u001b[32;1m\u001b[1;3mSELECT `Customer ID`, `Name`, `Surname` \n",
      "FROM p6_uk_bank_customers \n",
      "WHERE `Customer ID` = 100000001\n",
      "LIMIT 1;\u001b[0m\n",
      "SQLResult: \u001b[33;1m\u001b[1;3m[(100000001, 'Simon', 'Walsh')]\u001b[0m\n",
      "Answer:\u001b[32;1m\u001b[1;3mCustomer ID 100000001 belongs to Simon Walsh.\u001b[0m\n",
      "\u001b[1m> Finished chain.\u001b[0m\n"
     ]
    },
    {
     "data": {
      "text/plain": [
       "'Customer ID 100000001 belongs to Simon Walsh.'"
      ]
     },
     "execution_count": 42,
     "metadata": {},
     "output_type": "execute_result"
    }
   ],
   "source": [
    "generate(\"whose customer id is easy one\")"
   ]
  },
  {
   "cell_type": "code",
   "execution_count": 43,
   "metadata": {},
   "outputs": [
    {
     "name": "stdout",
     "output_type": "stream",
     "text": [
      "\n",
      "\n",
      "\u001b[1m> Entering new SQLDatabaseChain chain...\u001b[0m\n",
      "provide me customer id's who are from scotland\n",
      "SQLQuery:\u001b[32;1m\u001b[1;3mSELECT `Customer ID`\n",
      "FROM p6_uk_bank_customers\n",
      "WHERE Region = 'Scotland'\n",
      "LIMIT 5;\u001b[0m\n",
      "SQLResult: \u001b[33;1m\u001b[1;3m[(200000008,), (200000014,), (200000017,), (200000018,), (200000022,)]\u001b[0m\n",
      "Answer:\u001b[32;1m\u001b[1;3mCustomer ID's of customers who are from Scotland are 200000008, 200000014, 200000017, 200000018, and 200000022.\u001b[0m\n",
      "\u001b[1m> Finished chain.\u001b[0m\n"
     ]
    },
    {
     "data": {
      "text/plain": [
       "\"Customer ID's of customers who are from Scotland are 200000008, 200000014, 200000017, 200000018, and 200000022.\""
      ]
     },
     "execution_count": 43,
     "metadata": {},
     "output_type": "execute_result"
    }
   ],
   "source": [
    "generate(\"provide me customer id's who are from scotland\")"
   ]
  }
 ],
 "metadata": {
  "kernelspec": {
   "display_name": "Python 3",
   "language": "python",
   "name": "python3"
  },
  "language_info": {
   "codemirror_mode": {
    "name": "ipython",
    "version": 3
   },
   "file_extension": ".py",
   "mimetype": "text/x-python",
   "name": "python",
   "nbconvert_exporter": "python",
   "pygments_lexer": "ipython3",
   "version": "3.11.5"
  }
 },
 "nbformat": 4,
 "nbformat_minor": 2
}
